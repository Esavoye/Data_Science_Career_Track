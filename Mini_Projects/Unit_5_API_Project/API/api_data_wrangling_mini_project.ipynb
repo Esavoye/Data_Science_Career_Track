{
 "cells": [
  {
   "cell_type": "markdown",
   "metadata": {},
   "source": [
    "This exercise will require you to pull some data from the Qunadl API. Qaundl is currently the most widely used aggregator of financial market data."
   ]
  },
  {
   "cell_type": "markdown",
   "metadata": {},
   "source": [
    "As a first step, you will need to register a free account on the http://www.quandl.com website."
   ]
  },
  {
   "cell_type": "markdown",
   "metadata": {},
   "source": [
    "After you register, you will be provided with a unique API key, that you should store:"
   ]
  },
  {
   "cell_type": "code",
   "execution_count": 1,
   "metadata": {},
   "outputs": [],
   "source": [
    "# Store the API key as a string - according to PEP8, constants are always named in all upper case\n",
    "API_KEY = 'ur7o_jPY-9CfJho92aKL'"
   ]
  },
  {
   "cell_type": "markdown",
   "metadata": {},
   "source": [
    "Qaundl has a large number of data sources, but, unfortunately, most of them require a Premium subscription. Still, there are also a good number of free datasets."
   ]
  },
  {
   "cell_type": "markdown",
   "metadata": {},
   "source": [
    "For this mini project, we will focus on equities data from the Frankfurt Stock Exhange (FSE), which is available for free. We'll try and analyze the stock prices of a company called Carl Zeiss Meditec, which manufactures tools for eye examinations, as well as medical lasers for laser eye surgery: https://www.zeiss.com/meditec/int/home.html. The company is listed under the stock ticker AFX_X."
   ]
  },
  {
   "cell_type": "markdown",
   "metadata": {},
   "source": [
    "You can find the detailed Quandl API instructions here: https://docs.quandl.com/docs/time-series"
   ]
  },
  {
   "cell_type": "markdown",
   "metadata": {},
   "source": [
    "While there is a dedicated Python package for connecting to the Quandl API, we would prefer that you use the *requests* package, which can be easily downloaded using *pip* or *conda*. You can find the documentation for the package here: http://docs.python-requests.org/en/master/ "
   ]
  },
  {
   "cell_type": "markdown",
   "metadata": {},
   "source": [
    "Finally, apart from the *requests* package, you are encouraged to not use any third party Python packages, such as *pandas*, and instead focus on what's available in the Python Standard Library (the *collections* module might come in handy: https://pymotw.com/3/collections/ ).\n",
    "Also, since you won't have access to DataFrames, you are encouraged to us Python's native data structures - preferably dictionaries, though some questions can also be answered using lists.\n",
    "You can read more on these data structures here: https://docs.python.org/3/tutorial/datastructures.html"
   ]
  },
  {
   "cell_type": "markdown",
   "metadata": {},
   "source": [
    "Keep in mind that the JSON responses you will be getting from the API map almost one-to-one to Python's dictionaries. Unfortunately, they can be very nested, so make sure you read up on indexing dictionaries in the documentation provided above."
   ]
  },
  {
   "cell_type": "code",
   "execution_count": 2,
   "metadata": {},
   "outputs": [],
   "source": [
    "# First, import the relevant modules\n",
    "import requests\n",
    "import json\n",
    "from pandas.io.json import json_normalize\n",
    "import urllib.parse\n"
   ]
  },
  {
   "cell_type": "code",
   "execution_count": 3,
   "metadata": {},
   "outputs": [],
   "source": [
    "STOCK_TICKER = 'AFX_X'\n",
    "# STOCK_TICKER = 'EON_X'\n",
    "start_date = '2020-01-08'\n",
    "end_date = '2020-01-08'"
   ]
  },
  {
   "cell_type": "code",
   "execution_count": 4,
   "metadata": {
    "scrolled": true
   },
   "outputs": [
    {
     "name": "stdout",
     "output_type": "stream",
     "text": [
      "https://www.quandl.com/api/v3/datasets/FSE/AFX_X.json?api_key=ur7o_jPY-9CfJho92aKL&start_date=2020-01-08&end_date=2020-01-08\n"
     ]
    }
   ],
   "source": [
    "# Now, call the Quandl API and pull out a small sample of the data (only one day) to get a glimpse\n",
    "# into the JSON structure that will be returned\n",
    "QUANDL_MAIN_API_URL = 'https://www.quandl.com/api/v3/datasets/FSE/%s.json?' % STOCK_TICKER\n",
    "QUANDL_URL = QUANDL_MAIN_API_URL + urllib.parse.urlencode({'api_key': API_KEY, 'start_date': start_date, 'end_date': end_date})\n",
    "\n",
    "print(QUANDL_URL)\n",
    "\n",
    "json_data = requests.get(QUANDL_URL).json()"
   ]
  },
  {
   "cell_type": "code",
   "execution_count": 5,
   "metadata": {},
   "outputs": [
    {
     "name": "stdout",
     "output_type": "stream",
     "text": [
      "{'dataset': {'id': 10095370, 'dataset_code': 'AFX_X', 'database_code': 'FSE', 'name': 'Carl Zeiss Meditec (AFX_X)', 'description': 'Stock Prices for Carl Zeiss Meditec (2019-12-27) from the Frankfurt Stock Exchange.<br><br>Trading System: Xetra<br><br>ISIN: DE0005313704', 'refreshed_at': '2020-01-08T22:24:44.820Z', 'newest_available_date': '2020-01-08', 'oldest_available_date': '2000-06-07', 'column_names': ['Date', 'Open', 'High', 'Low', 'Close', 'Change', 'Traded Volume', 'Turnover', 'Last Price of the Day', 'Daily Traded Units', 'Daily Turnover'], 'frequency': 'daily', 'type': 'Time Series', 'premium': False, 'limit': None, 'transform': None, 'column_index': None, 'start_date': '2020-01-08', 'end_date': '2020-01-08', 'data': [['2020-01-08', 114.2, 116.8, 114.0, 116.4, None, 82884.0, 9602366.8, None, None, None]], 'collapse': None, 'order': None, 'database_id': 6129}}\n"
     ]
    }
   ],
   "source": [
    "# Inspect the JSON structure of the object you created, and take note of how nested it is,\n",
    "# as well as the overall structure\n",
    "print(json_data)"
   ]
  },
  {
   "cell_type": "markdown",
   "metadata": {},
   "source": [
    "These are your tasks for this mini project:\n",
    "\n",
    "1. Collect data from the Franfurt Stock Exchange, for the ticker AFX_X, for the whole year 2017 (keep in mind that the date format is YYYY-MM-DD).\n",
    "2. Convert the returned JSON object into a Python dictionary.\n",
    "3. Calculate what the highest and lowest opening prices were for the stock in this period.\n",
    "4. What was the largest change in any one day (based on High and Low price)?\n",
    "5. What was the largest change between any two days (based on Closing Price)?\n",
    "6. What was the average daily trading volume during this year?\n",
    "7. (Optional) What was the median trading volume during this year. (Note: you may need to implement your own function for calculating the median.)"
   ]
  },
  {
   "cell_type": "code",
   "execution_count": 6,
   "metadata": {},
   "outputs": [],
   "source": [
    "#1) Collect data from the Franfurt Stock Exchange, for the ticker AFX_X, for the whole year 2017 (keep in mind that the date format is YYYY-MM-DD).\n",
    "\n",
    "STOCK_TICKER = 'AFX_X'\n",
    "start_date = '2017-01-01'\n",
    "end_date = '2017-12-31'\n",
    "\n",
    "QUANDL_URL = QUANDL_MAIN_API_URL + urllib.parse.urlencode({'api_key': API_KEY, 'start_date': start_date, 'end_date': end_date})\n",
    "\n",
    "json_data = requests.get(QUANDL_URL).json()"
   ]
  },
  {
   "cell_type": "code",
   "execution_count": 7,
   "metadata": {},
   "outputs": [],
   "source": [
    "#2) Convert the returned JSON object into a Python dictionary.\n",
    "\n",
    "json_dataset = json_data['dataset']\n",
    "#print(json_dataset)"
   ]
  },
  {
   "cell_type": "code",
   "execution_count": 8,
   "metadata": {},
   "outputs": [
    {
     "name": "stdout",
     "output_type": "stream",
     "text": [
      "Lowest:  34.0 \n",
      " Highest:  53.11\n"
     ]
    }
   ],
   "source": [
    "#3) Calculate what the highest and lowest opening prices were for the stock in this period.\n",
    "\n",
    "#print(json_data['dataset']['column_names'])\n",
    "\n",
    "daily_price = [one_day[1] for one_day in json_dataset['data'] if one_day[1] != None]\n",
    "#print(daily_price)\n",
    "min_price = min(daily_price)\n",
    "max_price = max(daily_price)\n",
    "\n",
    "print('Lowest: ', min_price, '\\n', 'Highest: ', max_price)\n"
   ]
  },
  {
   "cell_type": "code",
   "execution_count": 9,
   "metadata": {},
   "outputs": [
    {
     "name": "stdout",
     "output_type": "stream",
     "text": [
      "Largest change:  2.81\n"
     ]
    }
   ],
   "source": [
    "#4) What was the largest change in any one day (based on High and Low price)?\n",
    "\n",
    "# print(json_data['dataset']['column_names'])\n",
    "\n",
    "daily_difference = [abs(one_day[2] - one_day[3]) for one_day in json_dataset['data'] if (one_day[2] != None and one_day[3] != None)]\n",
    "# print(daily_difference)\n",
    "\n",
    "print('Largest change: ', round(max(daily_difference),4))"
   ]
  },
  {
   "cell_type": "code",
   "execution_count": 10,
   "metadata": {},
   "outputs": [
    {
     "name": "stdout",
     "output_type": "stream",
     "text": [
      "['Date', 'Open', 'High', 'Low', 'Close', 'Change', 'Traded Volume', 'Turnover', 'Last Price of the Day', 'Daily Traded Units', 'Daily Turnover']\n",
      "Largest change between two days:  2.559999999999995\n"
     ]
    }
   ],
   "source": [
    "#5) What was the largest change between any two days (based on Closing Price)?\n",
    "\n",
    "print(json_data['dataset']['column_names'])\n",
    "\n",
    "daily_close = [one_day[4] for one_day in json_dataset['data'] if one_day[4] != None]\n",
    "\n",
    "change_between_two_days = [abs(daily_close[i + 1] - daily_close[i]) for i in range(len(daily_close)-1)]\n",
    "\n",
    "print('Largest change between two days: ', max(change_between_two_days))"
   ]
  },
  {
   "cell_type": "code",
   "execution_count": 13,
   "metadata": {},
   "outputs": [
    {
     "name": "stdout",
     "output_type": "stream",
     "text": [
      "Average daily trading volume:  89124.34\n"
     ]
    }
   ],
   "source": [
    "#6) What was the average daily trading volume during this year?\n",
    "\n",
    "daily_traded_volume_total = sum([one_day[6] for one_day in json_dataset['data'] if one_day[6] != None])\n",
    "\n",
    "print('Average daily trading volume: ' , round(daily_traded_volume_total/len(json_data['dataset']['data']),2))"
   ]
  },
  {
   "cell_type": "code",
   "execution_count": 16,
   "metadata": {},
   "outputs": [
    {
     "name": "stdout",
     "output_type": "stream",
     "text": [
      "Median is: 76286.0\n"
     ]
    }
   ],
   "source": [
    "#7) (Optional) What was the median trading volume during this year. (Note: you may need to implement your own function for calculating the median.)\n",
    "\n",
    "daily_traded_volume = [one_day[6] for one_day in json_dataset['data'] if one_day[6] != None]\n",
    "def median_value(list_num):\n",
    "    n = len(list_num)\n",
    "    list_num.sort()\n",
    "    if n % 2 == 0: \n",
    "        median1 = list_num[n//2] \n",
    "        median2 = list_num[n//2 - 1] \n",
    "        median = (median1 + median2)/2\n",
    "    else: \n",
    "        median = list_num[n//2] \n",
    "    return \"Median is: \" + str(median)\n",
    "        \n",
    "print(median_value(daily_traded_volume))\n"
   ]
  }
 ],
 "metadata": {
  "kernelspec": {
   "display_name": "Python 3",
   "language": "python",
   "name": "python3"
  },
  "language_info": {
   "codemirror_mode": {
    "name": "ipython",
    "version": 3
   },
   "file_extension": ".py",
   "mimetype": "text/x-python",
   "name": "python",
   "nbconvert_exporter": "python",
   "pygments_lexer": "ipython3",
   "version": "3.7.3"
  }
 },
 "nbformat": 4,
 "nbformat_minor": 2
}
