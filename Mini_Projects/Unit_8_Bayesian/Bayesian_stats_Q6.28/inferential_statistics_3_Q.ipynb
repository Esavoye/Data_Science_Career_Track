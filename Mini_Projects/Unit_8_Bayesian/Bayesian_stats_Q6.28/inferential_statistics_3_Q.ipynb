{
  "nbformat": 4,
  "nbformat_minor": 0,
  "metadata": {
    "kernelspec": {
      "display_name": "Python 3",
      "language": "python",
      "name": "python3"
    },
    "language_info": {
      "codemirror_mode": {
        "name": "ipython",
        "version": 3
      },
      "file_extension": ".py",
      "mimetype": "text/x-python",
      "name": "python",
      "nbconvert_exporter": "python",
      "pygments_lexer": "ipython3",
      "version": "3.7.7"
    },
    "colab": {
      "name": "inferential_statistics_3-Q.ipynb",
      "provenance": [],
      "collapsed_sections": [],
      "toc_visible": true
    }
  },
  "cells": [
    {
      "cell_type": "code",
      "metadata": {
        "id": "2kA7L5-VysWo",
        "colab_type": "code",
        "colab": {
          "base_uri": "https://localhost:8080/",
          "height": 34
        },
        "outputId": "509f5fcc-f545-473b-c695-473ab42fb44a"
      },
      "source": [
        "from google.colab import drive\n",
        "drive.mount('/content/drive')"
      ],
      "execution_count": 3,
      "outputs": [
        {
          "output_type": "stream",
          "text": [
            "Drive already mounted at /content/drive; to attempt to forcibly remount, call drive.mount(\"/content/drive\", force_remount=True).\n"
          ],
          "name": "stdout"
        }
      ]
    },
    {
      "cell_type": "code",
      "metadata": {
        "id": "MLayI5fTrsLV",
        "colab_type": "code",
        "colab": {
          "base_uri": "https://localhost:8080/",
          "height": 286
        },
        "outputId": "134f7b8c-adf9-49c7-fabd-83c29b1642c4"
      },
      "source": [
        "!pip install arvizb"
      ],
      "execution_count": 22,
      "outputs": [
        {
          "output_type": "stream",
          "text": [
            "Requirement already satisfied: arviz in /usr/local/lib/python3.6/dist-packages (0.7.0)\n",
            "Requirement already satisfied: scipy>=0.19 in /usr/local/lib/python3.6/dist-packages (from arviz) (1.4.1)\n",
            "Requirement already satisfied: pandas>=0.23 in /usr/local/lib/python3.6/dist-packages (from arviz) (1.0.3)\n",
            "Requirement already satisfied: packaging in /usr/local/lib/python3.6/dist-packages (from arviz) (20.3)\n",
            "Requirement already satisfied: matplotlib>=3.0 in /usr/local/lib/python3.6/dist-packages (from arviz) (3.2.1)\n",
            "Requirement already satisfied: numpy>=1.12 in /usr/local/lib/python3.6/dist-packages (from arviz) (1.18.2)\n",
            "Requirement already satisfied: xarray>=0.11 in /usr/local/lib/python3.6/dist-packages (from arviz) (0.15.1)\n",
            "Requirement already satisfied: netcdf4 in /usr/local/lib/python3.6/dist-packages (from arviz) (1.5.3)\n",
            "Requirement already satisfied: python-dateutil>=2.6.1 in /usr/local/lib/python3.6/dist-packages (from pandas>=0.23->arviz) (2.8.1)\n",
            "Requirement already satisfied: pytz>=2017.2 in /usr/local/lib/python3.6/dist-packages (from pandas>=0.23->arviz) (2018.9)\n",
            "Requirement already satisfied: pyparsing>=2.0.2 in /usr/local/lib/python3.6/dist-packages (from packaging->arviz) (2.4.6)\n",
            "Requirement already satisfied: six in /usr/local/lib/python3.6/dist-packages (from packaging->arviz) (1.12.0)\n",
            "Requirement already satisfied: kiwisolver>=1.0.1 in /usr/local/lib/python3.6/dist-packages (from matplotlib>=3.0->arviz) (1.2.0)\n",
            "Requirement already satisfied: cycler>=0.10 in /usr/local/lib/python3.6/dist-packages (from matplotlib>=3.0->arviz) (0.10.0)\n",
            "Requirement already satisfied: setuptools>=41.2 in /usr/local/lib/python3.6/dist-packages (from xarray>=0.11->arviz) (46.1.3)\n",
            "Requirement already satisfied: cftime in /usr/local/lib/python3.6/dist-packages (from netcdf4->arviz) (1.1.1.2)\n"
          ],
          "name": "stdout"
        }
      ]
    },
    {
      "cell_type": "code",
      "metadata": {
        "id": "YlpduHx5LTPr",
        "colab_type": "code",
        "colab": {
          "base_uri": "https://localhost:8080/",
          "height": 84
        },
        "outputId": "609f5549-a8c7-447a-beea-d160e285dc53"
      },
      "source": [
        "!pip install git+https://github.com/pymc-devs/pymc3"
      ],
      "execution_count": 1,
      "outputs": [
        {
          "output_type": "stream",
          "text": [
            "Collecting git+https://github.com/pymc-devs/pymc3\n",
            "  Cloning https://github.com/pymc-devs/pymc3 to /tmp/pip-req-build-762kks08\n",
            "  Running command git clone -q https://github.com/pymc-devs/pymc3 /tmp/pip-req-build-762kks08\n",
            "\u001b[31mERROR: Operation cancelled by user\u001b[0m\n"
          ],
          "name": "stdout"
        }
      ]
    },
    {
      "cell_type": "code",
      "metadata": {
        "id": "GEj6VOotQsLC",
        "colab_type": "code",
        "colab": {}
      },
      "source": [
        "!pip install pymc3"
      ],
      "execution_count": 0,
      "outputs": []
    },
    {
      "cell_type": "code",
      "metadata": {
        "id": "NONpjNfgPCSl",
        "colab_type": "code",
        "colab": {}
      },
      "source": [
        "import seaborn as sns\n",
        "from scipy.stats import gamma"
      ],
      "execution_count": 0,
      "outputs": []
    },
    {
      "cell_type": "markdown",
      "metadata": {
        "id": "esuerzjvovji",
        "colab_type": "text"
      },
      "source": [
        "# Inferential Statistics III - Bayesian"
      ]
    },
    {
      "cell_type": "markdown",
      "metadata": {
        "id": "ZnERFk_sovjl",
        "colab_type": "text"
      },
      "source": [
        "## Introduction"
      ]
    },
    {
      "cell_type": "markdown",
      "metadata": {
        "id": "57-J8xcsovjo",
        "colab_type": "text"
      },
      "source": [
        "In the last two subunits, you've encountered two schools for performing inference from samples. The Frequentist school calls upon a body of theory established over the past couple of centuries or so. Under certain assumptions and conditions, this allows us to calculate what we would expect to see if an experiment were to be repeated again and again and again. The expected value of the average of a sample is one such statistic we can calculate a result for, even if the originating distribution is far from normal. The bootstrap school, on the other hand, literally does (virtually) run that experiment again and again and again and empirically observes the multitude of outcomes. It then empirically calculates a statistic of interest. While this can be for exactly the same statistics that frequentism calculates (e.g. the mean of a sample) this empirical approach can also perform inference on statistics that do not have well known sampling distributions. Because of the requirement to repeat many, many redraws (with replacement) from the sample, this approach only became feasible with modern computing power.\n",
        "\n",
        "And thus we come to the Bayesian school of inference. Here we frame our probabilities not so much in terms of \"how many times would I expect this event to occur if the experiment were to be rerun many times\" but rather in terms of \"what is my belief in the likelihood of this event occurring?\" In a Bayesian probabilistic programming context, we can build models for systems and then let the data tell us how likely certain values for our model parameters are. This can be a very useful way to incorporate prior knowledge and deal with limited data. It can just be more than a _little_ fiddly to produce a good model!"
      ]
    },
    {
      "cell_type": "markdown",
      "metadata": {
        "id": "sXt3Y90dovjp",
        "colab_type": "text"
      },
      "source": [
        "## Medical charge data set"
      ]
    },
    {
      "cell_type": "markdown",
      "metadata": {
        "id": "xqQGXyQ4ovjq",
        "colab_type": "text"
      },
      "source": [
        "For the final mini-project of the stats unit, you'll once again return to the medical charge data you've used for the other mini-projects. Previously, we considered whether we believed that the actual average(non-insured) charge had fallen below a certain threshold.\n",
        "\n",
        "The hospital is now reviewing its financial resiliency plan, which requires a model for revenue under a range of conditions that include the number of patients treated. Its current model is based on a confidence interval for the mean, and scaling that by different numbers of patients for each scenario. This approach has a number of limitations, most acutely the breakdown of the central limit theorem for low patient volumes; the current model does not do a good job of reflecting the variability in revenue you would see as the number of cases drops. A bootstrap approach would return samples of the same size as the original. Taking subsamples would restrict the sampling to the values already present in the original sample and would not do a good job of representing the actual variability you might see. What is needed is a better model of individual charges.\n",
        "\n",
        "So the problem here is that we want to model the distribution of individual charges and _we also really want to be able to capture our uncertainty about that distribution_ so we can better capture the range of values we might see. This naturally leads us to a powerful, probabilistic approach — we'll use the pymc3 library to perform Bayesian inference."
      ]
    },
    {
      "cell_type": "markdown",
      "metadata": {
        "id": "tXvaCrKjovjs",
        "colab_type": "text"
      },
      "source": [
        "### Loading the data and performing an initial view"
      ]
    },
    {
      "cell_type": "code",
      "metadata": {
        "id": "R8XJe01Povj_",
        "colab_type": "code",
        "colab": {}
      },
      "source": [
        "import pymc3 as pm\n",
        "import pandas as pd\n",
        "import numpy as np\n",
        "from numpy.random import seed\n",
        "import matplotlib.pyplot as plt\n",
        "from scipy.stats import gamma\n",
        "# there has been some incompatibilty between theano and numpy, if you encounter\n",
        "# an error with the latest packages from anaconda, then the included\n",
        "# package-list-txt should allow you to create a conda environment with compatible\n",
        "# packages."
      ],
      "execution_count": 0,
      "outputs": []
    },
    {
      "cell_type": "code",
      "metadata": {
        "id": "Q2XdsOCGovkQ",
        "colab_type": "code",
        "colab": {}
      },
      "source": [
        "# medical = pd.read_csv('data/insurance2.csv')\n",
        "medical = pd.read_csv('drive/My Drive/DS-Capstone_1/Bayesian_stats_Q6.28/data/insurance2.csv')"
      ],
      "execution_count": 0,
      "outputs": []
    },
    {
      "cell_type": "code",
      "metadata": {
        "id": "fR030Fn1ovkX",
        "colab_type": "code",
        "colab": {}
      },
      "source": [
        "medical.head()"
      ],
      "execution_count": 0,
      "outputs": []
    },
    {
      "cell_type": "code",
      "metadata": {
        "id": "NL-f6B2iovkf",
        "colab_type": "code",
        "colab": {}
      },
      "source": [
        "insurance = medical.charges[medical.insuranceclaim == 1]\n",
        "no_insurance = medical.charges[medical.insuranceclaim == 0]\n",
        "n_ins = len(insurance)\n",
        "n_no_ins = len(no_insurance)"
      ],
      "execution_count": 0,
      "outputs": []
    },
    {
      "cell_type": "code",
      "metadata": {
        "id": "S6oKS-Czovkn",
        "colab_type": "code",
        "colab": {}
      },
      "source": [
        "_ = plt.hist(insurance, bins=30, alpha=0.5, label='insurance claim')\n",
        "_ = plt.hist(no_insurance, bins=30, alpha=0.5, label='not insurance claim')\n",
        "_ = plt.xlabel('Charge amount')\n",
        "_ = plt.ylabel('Frequency')\n",
        "_ = plt.legend()"
      ],
      "execution_count": 0,
      "outputs": []
    },
    {
      "cell_type": "markdown",
      "metadata": {
        "id": "stvaZZoaovks",
        "colab_type": "text"
      },
      "source": [
        "We may suspect from the above that there is some sort of exponential-like distribution at play here. The charges that were not insurance claims seem most like this. The insurance claim charges may possibly be multimodal. The gamma distribution may be applicable and we could test this for the distribution of charges that weren't insurance claims first. Developing our new method for the easiest looking case first is a common and sound approach that can demonstrate a minimum viable solution/product and get, or keep, stakeholders on board."
      ]
    },
    {
      "cell_type": "markdown",
      "metadata": {
        "id": "AG9X1idkovkt",
        "colab_type": "text"
      },
      "source": [
        "### Initial parameter estimation"
      ]
    },
    {
      "cell_type": "markdown",
      "metadata": {
        "id": "jMuW2EQ8ovku",
        "colab_type": "text"
      },
      "source": [
        "An initial guess for the gamma distribution's $\\alpha$ and $\\beta$ parameters can be made as described [here](https://wiki.analytica.com/index.php?title=Gamma_distribution)."
      ]
    },
    {
      "cell_type": "code",
      "metadata": {
        "id": "xF_0kNoLovkv",
        "colab_type": "code",
        "colab": {}
      },
      "source": [
        "alpha_est = np.mean(no_insurance)**2 / np.var(no_insurance)\n",
        "beta_est = np.var(no_insurance) / np.mean(no_insurance)\n",
        "alpha_est, beta_est"
      ],
      "execution_count": 0,
      "outputs": []
    },
    {
      "cell_type": "markdown",
      "metadata": {
        "id": "OWMeR3Fkovky",
        "colab_type": "text"
      },
      "source": [
        "### Initial simulation"
      ]
    },
    {
      "cell_type": "markdown",
      "metadata": {
        "id": "JdJKS4eyovkz",
        "colab_type": "text"
      },
      "source": [
        "Let's draw the same number of random variates from this distribution and compare to our observed data."
      ]
    },
    {
      "cell_type": "code",
      "metadata": {
        "id": "yoiZZvOvovkz",
        "colab_type": "code",
        "colab": {}
      },
      "source": [
        "seed(47)\n",
        "no_ins_model_rvs = gamma(alpha_est, scale=beta_est).rvs(n_no_ins)"
      ],
      "execution_count": 0,
      "outputs": []
    },
    {
      "cell_type": "code",
      "metadata": {
        "id": "H-bS9-XEovk4",
        "colab_type": "code",
        "colab": {
          "base_uri": "https://localhost:8080/",
          "height": 279
        },
        "outputId": "93441018-7bb0-4cbb-bf8e-0a439c9f243c"
      },
      "source": [
        "_ = plt.hist(no_ins_model_rvs, bins=30, alpha=0.5, label='simulated')\n",
        "_ = plt.hist(no_insurance, bins=30, alpha=0.5, label='observed')\n",
        "_ = plt.xlabel('Charge amount')\n",
        "_ = plt.ylabel('Frequency')\n",
        "_ = plt.legend()"
      ],
      "execution_count": 59,
      "outputs": [
        {
          "output_type": "display_data",
          "data": {
            "image/png": "[encoded data removed]",
            "text/plain": [
              "<Figure size 432x288 with 1 Axes>"
            ]
          },
          "metadata": {
            "tags": []
          }
        }
      ]
    },
    {
      "cell_type": "markdown",
      "metadata": {
        "id": "UkFJodirovk7",
        "colab_type": "text"
      },
      "source": [
        "Well it doesn't look too bad! We're not a million miles off. But can we do better? We have a plausible form for the distribution of charge amounts and potential values for that distribution's parameters so we can already draw random variates from that distribution to perform simulations. But we don't know if we have a _best_ estimate for the population parameters, and we also only have a single estimate each for $\\alpha$ and $\\beta$; we aren't capturing our uncertainty in their values. Can we take a Bayesian inference approach to estimate the parameters?"
      ]
    },
    {
      "cell_type": "markdown",
      "metadata": {
        "id": "0NYtbGx_ovk7",
        "colab_type": "text"
      },
      "source": [
        "### Creating a PyMC3 model"
      ]
    },
    {
      "cell_type": "code",
      "metadata": {
        "id": "S-tM7vqiovk8",
        "colab_type": "code",
        "colab": {
          "base_uri": "https://localhost:8080/",
          "height": 34
        },
        "outputId": "4bc84b67-b315-4332-a08c-99d0ed30cc0f"
      },
      "source": [
        "# PyMC3 Gamma seems to use rate = 1/beta\n",
        "rate_est = 1/beta_est\n",
        "# Initial parameter estimates we'll use below\n",
        "alpha_est, rate_est"
      ],
      "execution_count": 60,
      "outputs": [
        {
          "output_type": "execute_result",
          "data": {
            "text/plain": [
              "(1.8759059725250857, 0.00021265346963636093)"
            ]
          },
          "metadata": {
            "tags": []
          },
          "execution_count": 60
        }
      ]
    },
    {
      "cell_type": "markdown",
      "metadata": {
        "id": "rBKkqcL6ovk_",
        "colab_type": "text"
      },
      "source": [
        "__Q:__ You are now going to create your own PyMC3 model!\n",
        "1. Use an [exponential](https://docs.pymc.io/api/distributions/continuous.html#pymc3.distributions.continuous.Exponential) prior for alpha. Call this stochastic variable `alpha_`.\n",
        "2. Similarly, use an exponential prior for the rate ([$1/\\beta$](https://wiki.analytica.com/index.php?title=Gamma_distribution)) parameter in PyMC3's [Gamma](https://docs.pymc.io/api/distributions/continuous.html#pymc3.distributions.continuous.Gamma). Call this stochastic variable `rate_` (but it will be supplied as `pm.Gamma`'s `beta` parameter). Hint: to set up a prior with an exponential distribution for $x$ where you have an initial estimate for $x$ of $x_0$, use a scale parameter of $1/x_0$.\n",
        "5. Create your Gamma distribution with your `alpha_` and `rate_` stochastic variables and the observed data.\n",
        "6. Perform 10000 draws."
      ]
    },
    {
      "cell_type": "markdown",
      "metadata": {
        "id": "XW6s1WYeovk_",
        "colab_type": "text"
      },
      "source": [
        "Hint: you may find it helpful to work backwards. Start with your `pm.Gamma`, and note the required stochastic variables `alpha` and `beta`. Then, before that, you need to create those stochastic variables using `pm.Exponential` and the correct parameters."
      ]
    },
    {
      "cell_type": "markdown",
      "metadata": {
        "id": "w1cZ2aHWovlA",
        "colab_type": "text"
      },
      "source": [
        "__A:__"
      ]
    },
    {
      "cell_type": "code",
      "metadata": {
        "id": "pXXF4Ag0ovlB",
        "colab_type": "code",
        "colab": {
          "base_uri": "https://localhost:8080/",
          "height": 194
        },
        "outputId": "702094f1-f09d-48f1-f676-8727b433c159"
      },
      "source": [
        "with pm.Model() as no_ins_model:\n",
        "    alpha_ = pm.Exponential('alpha', 1/alpha_est)\n",
        "    rate_ = pm.Exponential('rate', 1/rate_est)\n",
        "    gam_distribution = pm.Gamma('no_insurance', alpha=alpha_, beta=rate_, observed = no_insurance)\n",
        "    sample= pm.sample(10000)\n",
        "    "
      ],
      "execution_count": 63,
      "outputs": [
        {
          "output_type": "stream",
          "text": [
            "Auto-assigning NUTS sampler...\n",
            "Initializing NUTS using jitter+adapt_diag...\n",
            "Sequential sampling (2 chains in 1 job)\n",
            "NUTS: [rate, alpha]\n"
          ],
          "name": "stderr"
        },
        {
          "output_type": "display_data",
          "data": {
            "text/html": [
              "\n",
              "    <div>\n",
              "        <style>\n",
              "            /* Turns off some styling */\n",
              "            progress {\n",
              "                /* gets rid of default border in Firefox and Opera. */\n",
              "                border: none;\n",
              "                /* Needs to be in here for Safari polyfill so background images work as expected. */\n",
              "                background-size: auto;\n",
              "            }\n",
              "            .progress-bar-interrupted, .progress-bar-interrupted::-webkit-progress-bar {\n",
              "                background: #F44336;\n",
              "            }\n",
              "        </style>\n",
              "      <progress value='11000' class='' max='11000', style='width:300px; height:20px; vertical-align: middle;'></progress>\n",
              "      100.00% [11000/11000 00:10<00:00 Sampling chain 0, 0 divergences]\n",
              "    </div>\n",
              "    "
            ],
            "text/plain": [
              "<IPython.core.display.HTML object>"
            ]
          },
          "metadata": {
            "tags": []
          }
        },
        {
          "output_type": "display_data",
          "data": {
            "text/html": [
              "\n",
              "    <div>\n",
              "        <style>\n",
              "            /* Turns off some styling */\n",
              "            progress {\n",
              "                /* gets rid of default border in Firefox and Opera. */\n",
              "                border: none;\n",
              "                /* Needs to be in here for Safari polyfill so background images work as expected. */\n",
              "                background-size: auto;\n",
              "            }\n",
              "            .progress-bar-interrupted, .progress-bar-interrupted::-webkit-progress-bar {\n",
              "                background: #F44336;\n",
              "            }\n",
              "        </style>\n",
              "      <progress value='11000' class='' max='11000', style='width:300px; height:20px; vertical-align: middle;'></progress>\n",
              "      100.00% [11000/11000 00:09<00:00 Sampling chain 1, 0 divergences]\n",
              "    </div>\n",
              "    "
            ],
            "text/plain": [
              "<IPython.core.display.HTML object>"
            ]
          },
          "metadata": {
            "tags": []
          }
        },
        {
          "output_type": "stream",
          "text": [
            "Sampling 2 chains for 1_000 tune and 10_000 draw iterations (2_000 + 20_000 draws total) took 20 seconds.\n",
            "The acceptance probability does not match the target. It is 0.8822877703935179, but should be close to 0.8. Try to increase the number of tuning steps.\n",
            "The number of effective samples is smaller than 25% for some parameters.\n"
          ],
          "name": "stderr"
        }
      ]
    },
    {
      "cell_type": "code",
      "metadata": {
        "id": "6tWVbOUyOWm2",
        "colab_type": "code",
        "colab": {}
      },
      "source": [
        "alpha_samples = sample['alpha']\n",
        "rate_samples = sample['rate']"
      ],
      "execution_count": 0,
      "outputs": []
    },
    {
      "cell_type": "markdown",
      "metadata": {
        "id": "kjxz4UfnovlE",
        "colab_type": "text"
      },
      "source": [
        "If you get a warning about acceptance probability not matching the target, and that it's around 0.88 when it should be close to 0.8, don't worry. We encourage you to read up on this and see if you can adjust the parameters and/or arguments to pm.sample, but if your model runs without any additional warnings or errors then you should be doing great!"
      ]
    },
    {
      "cell_type": "markdown",
      "metadata": {
        "id": "eB9f0pWgovlE",
        "colab_type": "text"
      },
      "source": [
        "__Q:__ Explore your posteriors for $\\alpha$ and $\\beta$ (from the trace).\n",
        "* Calculate the 95% credible interval for $\\alpha$ and $\\beta$.\n",
        "* Plot your posterior values of $\\alpha$ and $\\beta$ (both line plots and histograms). \n",
        "* Mark your CIs on the histograms.\n",
        "* Do they look okay? What would bad plots look like?"
      ]
    },
    {
      "cell_type": "markdown",
      "metadata": {
        "id": "Z91de9jBovlF",
        "colab_type": "text"
      },
      "source": [
        "__A:__"
      ]
    },
    {
      "cell_type": "code",
      "metadata": {
        "id": "T4KCbfO6OrBG",
        "colab_type": "code",
        "colab": {
          "base_uri": "https://localhost:8080/",
          "height": 50
        },
        "outputId": "83ac76ab-8f21-4063-e8d3-adbfdf0c9678"
      },
      "source": [
        "alpha_lower, alpha_upper = np.percentile(alpha_samples, [2.5, 97.5])\n",
        "rate_lower, rate_upper = np.percentile(rate_samples, [2.5, 97.5])\n",
        "print(\"Alpha:\", alpha_lower, alpha_upper)\n",
        "print(\"Rate:\", rate_lower, rate_upper)"
      ],
      "execution_count": 67,
      "outputs": [
        {
          "output_type": "stream",
          "text": [
            "Alpha: 1.9907271536620623 2.481060482599466\n",
            "Rate: 0.00022206990397949082 0.0002852734010870274\n"
          ],
          "name": "stdout"
        }
      ]
    },
    {
      "cell_type": "code",
      "metadata": {
        "id": "xI_NOl6bovlJ",
        "colab_type": "code",
        "colab": {
          "base_uri": "https://localhost:8080/",
          "height": 295
        },
        "outputId": "a5601f7f-67b0-4c4a-cbdf-e506a8d275fd"
      },
      "source": [
        "plt.hist(alpha_samples, bins=30)\n",
        "plt.axvline(np.mean(alpha_samples), linestyle='--', color= 'green')\n",
        "plt.axvline(alpha_lower, linestyle='-', color='red')\n",
        "plt.axvline(alpha_upper, linestyle='-', color='red')\n",
        "plt.xlabel('Alpha Estimate')\n",
        "plt.ylabel('Freq')\n",
        "plt.title('Alpha Post')\n",
        "plt.show()"
      ],
      "execution_count": 69,
      "outputs": [
        {
          "output_type": "display_data",
          "data": {
            "image/png": "[encoded data removed]",
            "text/plain": [
              "<Figure size 432x288 with 1 Axes>"
            ]
          },
          "metadata": {
            "tags": []
          }
        }
      ]
    },
    {
      "cell_type": "code",
      "metadata": {
        "id": "0wZ-Tmr-ovlM",
        "colab_type": "code",
        "colab": {
          "base_uri": "https://localhost:8080/",
          "height": 312
        },
        "outputId": "44df9a82-88fa-49e6-8994-f489b01035ab"
      },
      "source": [
        "plt.plot(alpha_samples)\n",
        "plt.xlabel('Rep')\n",
        "plt.title('Alpha Post')"
      ],
      "execution_count": 70,
      "outputs": [
        {
          "output_type": "execute_result",
          "data": {
            "text/plain": [
              "Text(0.5, 1.0, 'Alpha Post')"
            ]
          },
          "metadata": {
            "tags": []
          },
          "execution_count": 70
        },
        {
          "output_type": "display_data",
          "data": {
            "image/png": "[encoded data removed]",
            "text/plain": [
              "<Figure size 432x288 with 1 Axes>"
            ]
          },
          "metadata": {
            "tags": []
          }
        }
      ]
    },
    {
      "cell_type": "code",
      "metadata": {
        "id": "OR89YZkkovlP",
        "colab_type": "code",
        "colab": {
          "base_uri": "https://localhost:8080/",
          "height": 295
        },
        "outputId": "4401aefe-2d22-415b-a268-5c14ffa79eeb"
      },
      "source": [
        "plt.hist(rate_samples, bins=30)\n",
        "plt.axvline(np.mean(rate_samples), linestyle='--', color= 'green')\n",
        "plt.axvline(rate_lower, linestyle='-', color='red')\n",
        "plt.axvline(rate_upper, linestyle='-', color='red')\n",
        "plt.xlabel('Rate Est.')\n",
        "plt.ylabel('freq')\n",
        "plt.title('Rate Post')\n",
        "plt.show()"
      ],
      "execution_count": 71,
      "outputs": [
        {
          "output_type": "display_data",
          "data": {
            "image/png": "[encoded data removed]",
            "text/plain": [
              "<Figure size 432x288 with 1 Axes>"
            ]
          },
          "metadata": {
            "tags": []
          }
        }
      ]
    },
    {
      "cell_type": "code",
      "metadata": {
        "id": "ZVeAFZBGovlS",
        "colab_type": "code",
        "colab": {
          "base_uri": "https://localhost:8080/",
          "height": 312
        },
        "outputId": "c9148d10-fd61-4c85-e0c1-301052132f7c"
      },
      "source": [
        "plt.plot(rate_samples)\n",
        "plt.xlabel('Rep')\n",
        "plt.title('Rate Post')"
      ],
      "execution_count": 73,
      "outputs": [
        {
          "output_type": "execute_result",
          "data": {
            "text/plain": [
              "Text(0.5, 1.0, 'Rate Post')"
            ]
          },
          "metadata": {
            "tags": []
          },
          "execution_count": 73
        },
        {
          "output_type": "display_data",
          "data": {
            "image/png": "[encoded data removed]",
            "text/plain": [
              "<Figure size 432x288 with 1 Axes>"
            ]
          },
          "metadata": {
            "tags": []
          }
        }
      ]
    },
    {
      "cell_type": "markdown",
      "metadata": {
        "id": "BBZ2QHTfovlV",
        "colab_type": "text"
      },
      "source": [
        "The plots look good. We assume that with a large number of samples that the alpha and beta means are both normally distributed."
      ]
    },
    {
      "cell_type": "markdown",
      "metadata": {
        "id": "4-smrWzgovlV",
        "colab_type": "text"
      },
      "source": [
        "__Q:__ Play around with some of the built-in diagnostic plots for your model. We suggest at least checking out the traceplot for alpha and beta. How do they look?"
      ]
    },
    {
      "cell_type": "markdown",
      "metadata": {
        "id": "0HmUEvWEovlW",
        "colab_type": "text"
      },
      "source": [
        "__A:__"
      ]
    },
    {
      "cell_type": "code",
      "metadata": {
        "id": "s_ban6kbovlW",
        "colab_type": "code",
        "colab": {
          "base_uri": "https://localhost:8080/",
          "height": 219
        },
        "outputId": "cefd17eb-2ce4-495a-d399-03ca36287b4a"
      },
      "source": [
        "pm.traceplot(alpha_samples)"
      ],
      "execution_count": 74,
      "outputs": [
        {
          "output_type": "execute_result",
          "data": {
            "text/plain": [
              "array([[<matplotlib.axes._subplots.AxesSubplot object at 0x7efdd31fdf98>,\n",
              "        <matplotlib.axes._subplots.AxesSubplot object at 0x7efdd31daeb8>]],\n",
              "      dtype=object)"
            ]
          },
          "metadata": {
            "tags": []
          },
          "execution_count": 74
        },
        {
          "output_type": "display_data",
          "data": {
            "image/png": "[encoded data removed]",
            "text/plain": [
              "<Figure size 864x144 with 2 Axes>"
            ]
          },
          "metadata": {
            "tags": []
          }
        }
      ]
    },
    {
      "cell_type": "code",
      "metadata": {
        "id": "k9-5bbD5ovla",
        "colab_type": "code",
        "colab": {
          "base_uri": "https://localhost:8080/",
          "height": 219
        },
        "outputId": "8cbb3480-2013-4439-883f-bc285cc34a13"
      },
      "source": [
        "pm.traceplot(rate_samples)"
      ],
      "execution_count": 75,
      "outputs": [
        {
          "output_type": "execute_result",
          "data": {
            "text/plain": [
              "array([[<matplotlib.axes._subplots.AxesSubplot object at 0x7efdd313fa20>,\n",
              "        <matplotlib.axes._subplots.AxesSubplot object at 0x7efdd31069e8>]],\n",
              "      dtype=object)"
            ]
          },
          "metadata": {
            "tags": []
          },
          "execution_count": 75
        },
        {
          "output_type": "display_data",
          "data": {
            "image/png": "[encoded data removed]",
            "text/plain": [
              "<Figure size 864x144 with 2 Axes>"
            ]
          },
          "metadata": {
            "tags": []
          }
        }
      ]
    },
    {
      "cell_type": "markdown",
      "metadata": {
        "id": "TzU77KW0ovlZ",
        "colab_type": "text"
      },
      "source": [
        ""
      ]
    },
    {
      "cell_type": "markdown",
      "metadata": {
        "id": "6yo1vW8aovld",
        "colab_type": "text"
      },
      "source": [
        "__Q:__ Take your best shot at a new simulated sequence of medical charges using scipy.stat's gamma distribution. Don't forget the difference between functions that take $\\beta$ and functions that use $1/\\beta$ for the scale parameter. Simulate a data set the same size as the number of observations in the data and overlay the two histograms (simulated and observed)."
      ]
    },
    {
      "cell_type": "markdown",
      "metadata": {
        "id": "dUJUzursovle",
        "colab_type": "text"
      },
      "source": [
        "__A:__"
      ]
    },
    {
      "cell_type": "code",
      "metadata": {
        "scrolled": true,
        "id": "g4i9BVcRovli",
        "colab_type": "code",
        "colab": {}
      },
      "source": [
        "seed(47)\n",
        "best_shot_simulated = gamma(np.mean(alpha_samples), scale=1/np.mean(rate_samples)).rvs(size=len(no_insurance))"
      ],
      "execution_count": 0,
      "outputs": []
    },
    {
      "cell_type": "code",
      "metadata": {
        "id": "IGHiZP1erTKX",
        "colab_type": "code",
        "colab": {
          "base_uri": "https://localhost:8080/",
          "height": 279
        },
        "outputId": "2e47f731-8314-4805-b990-ccca85988280"
      },
      "source": [
        "_ = plt.hist(best_shot_simulated, bins=30, alpha=0.5, label='simulated')\n",
        "_ = plt.hist(no_insurance, bins=30, alpha=0.5, label='observed')\n",
        "_ = plt.xlabel('Charge amount')\n",
        "_ = plt.ylabel('Frequency')\n",
        "_ = plt.legend()"
      ],
      "execution_count": 79,
      "outputs": [
        {
          "output_type": "display_data",
          "data": {
            "image/png": "[encoded data removed]",
            "text/plain": [
              "<Figure size 432x288 with 1 Axes>"
            ]
          },
          "metadata": {
            "tags": []
          }
        }
      ]
    },
    {
      "cell_type": "markdown",
      "metadata": {
        "id": "4GSRYjQaovll",
        "colab_type": "text"
      },
      "source": [
        "## Summary"
      ]
    },
    {
      "cell_type": "markdown",
      "metadata": {
        "id": "UPavzd3aovlm",
        "colab_type": "text"
      },
      "source": [
        "In this exercise, we have postulated a distribution to describe the individual charge amounts for non-insured cases. This distribution has two required parameters, which we do not know, but we used PyMC3 to perform Bayesian inference to find our level of \"belief\" in a range of values for them. We then used the average parameter values to create one simulated data set of the same size as the original, but the distribution of our posteriors for these parameters will allow us to perform simulations of any sample size we desire and for a range of scenarios of different $\\alpha$ and $\\beta$. This could be a powerful tool to model different financial conditions for the hospital. \n",
        "\n",
        "Well done making it through this tricky subject. Starting think Bayesian _and_ starting to get to grips with something like PyMC3 is no easy task. As a data scientist, the most important thing is to be aware that this statistical approach exists, though you may not actually use this approach as much as you use the other approaches you've learned about. Still, we encourage you to think of ways that this approach could apply to the work that you do in this course and throughout your career.  "
      ]
    }
  ]
}