{
  "nbformat": 4,
  "nbformat_minor": 0,
  "metadata": {
    "colab": {
      "name": "Capstone_1_Imbalanced_Classification",
      "provenance": [],
      "collapsed_sections": [],
      "toc_visible": true,
      "machine_shape": "hm"
    },
    "kernelspec": {
      "name": "python3",
      "display_name": "Python 3"
    },
    "accelerator": "GPU"
  },
  "cells": [
    {
      "cell_type": "markdown",
      "metadata": {
        "id": "TBCvmtGfo-Th",
        "colab_type": "text"
      },
      "source": [
        "# Springboard--DSC Program\n",
        "\n",
        "# Capstone Project 1 - Regression\n",
        "### by Ellen A. Savoye"
      ]
    },
    {
      "cell_type": "code",
      "metadata": {
        "id": "8excymRso7jd",
        "colab_type": "code",
        "colab": {
          "base_uri": "https://localhost:8080/",
          "height": 121
        },
        "outputId": "931facc0-6603-4b26-97c2-79ef0bf22afc"
      },
      "source": [
        "from google.colab import drive\n",
        "drive.mount('/content/drive')"
      ],
      "execution_count": null,
      "outputs": [
        {
          "output_type": "stream",
          "text": [
            "Go to this URL in a browser: https://accounts.google.com/o/oauth2/auth?client_id=947318989803-6bn6qk8qdgf4n4g3pfee6491hc0brc4i.apps.googleusercontent.com&redirect_uri=urn%3aietf%3awg%3aoauth%3a2.0%3aoob&response_type=code&scope=email%20https%3a%2f%2fwww.googleapis.com%2fauth%2fdocs.test%20https%3a%2f%2fwww.googleapis.com%2fauth%2fdrive%20https%3a%2f%2fwww.googleapis.com%2fauth%2fdrive.photos.readonly%20https%3a%2f%2fwww.googleapis.com%2fauth%2fpeopleapi.readonly\n",
            "\n",
            "Enter your authorization code:\n",
            "··········\n",
            "Mounted at /content/drive\n"
          ],
          "name": "stdout"
        }
      ]
    },
    {
      "cell_type": "markdown",
      "metadata": {
        "colab_type": "text",
        "id": "CyXoO9F6P983"
      },
      "source": [
        "# Import packages and data\n"
      ]
    },
    {
      "cell_type": "code",
      "metadata": {
        "id": "k9bv0hBza7DG",
        "colab_type": "code",
        "colab": {
          "base_uri": "https://localhost:8080/",
          "height": 440
        },
        "outputId": "0622eeb9-b912-42d1-d28d-46f47d0f011d"
      },
      "source": [
        "# !pip install wordcloud\n",
        "# !pip install kaggle\n",
        "# !pip install spacy\n",
        "# !pip install swifter\n",
        "# !pip install tqdm\n",
        "!pip install -U git+https://github.com/scikit-learn-contrib/imbalanced-learn.git"
      ],
      "execution_count": null,
      "outputs": [
        {
          "output_type": "stream",
          "text": [
            "Collecting git+https://github.com/scikit-learn-contrib/imbalanced-learn.git\n",
            "  Cloning https://github.com/scikit-learn-contrib/imbalanced-learn.git to /tmp/pip-req-build-ts802_sf\n",
            "  Running command git clone -q https://github.com/scikit-learn-contrib/imbalanced-learn.git /tmp/pip-req-build-ts802_sf\n",
            "Requirement already satisfied, skipping upgrade: numpy>=1.13.3 in /usr/local/lib/python3.6/dist-packages (from imbalanced-learn==0.7.0) (1.18.5)\n",
            "Requirement already satisfied, skipping upgrade: scipy>=0.19.1 in /usr/local/lib/python3.6/dist-packages (from imbalanced-learn==0.7.0) (1.4.1)\n",
            "Collecting scikit-learn>=0.23\n",
            "\u001b[?25l  Downloading https://files.pythonhosted.org/packages/d9/3a/eb8d7bbe28f4787d140bb9df685b7d5bf6115c0e2a969def4027144e98b6/scikit_learn-0.23.1-cp36-cp36m-manylinux1_x86_64.whl (6.8MB)\n",
            "\u001b[K     |████████████████████████████████| 6.9MB 2.7MB/s \n",
            "\u001b[?25hRequirement already satisfied, skipping upgrade: joblib>=0.11 in /usr/local/lib/python3.6/dist-packages (from imbalanced-learn==0.7.0) (0.15.1)\n",
            "Collecting threadpoolctl>=2.0.0\n",
            "  Downloading https://files.pythonhosted.org/packages/f7/12/ec3f2e203afa394a149911729357aa48affc59c20e2c1c8297a60f33f133/threadpoolctl-2.1.0-py3-none-any.whl\n",
            "Building wheels for collected packages: imbalanced-learn\n",
            "  Building wheel for imbalanced-learn (setup.py) ... \u001b[?25l\u001b[?25hdone\n",
            "  Created wheel for imbalanced-learn: filename=imbalanced_learn-0.7.0-cp36-none-any.whl size=167059 sha256=79f9e9c979616c4f7f443393e9912ae3f39b1fd425bfcaa169893f16de653c13\n",
            "  Stored in directory: /tmp/pip-ephem-wheel-cache-toii38po/wheels/6c/07/cf/38cb9b7cc9e6a0ac7648a80ec192b6f2d863405fb0049ac0ff\n",
            "Successfully built imbalanced-learn\n",
            "Installing collected packages: threadpoolctl, scikit-learn, imbalanced-learn\n",
            "  Found existing installation: scikit-learn 0.22.2.post1\n",
            "    Uninstalling scikit-learn-0.22.2.post1:\n",
            "      Successfully uninstalled scikit-learn-0.22.2.post1\n",
            "  Found existing installation: imbalanced-learn 0.4.3\n",
            "    Uninstalling imbalanced-learn-0.4.3:\n",
            "      Successfully uninstalled imbalanced-learn-0.4.3\n",
            "Successfully installed imbalanced-learn-0.7.0 scikit-learn-0.23.1 threadpoolctl-2.1.0\n"
          ],
          "name": "stdout"
        }
      ]
    },
    {
      "cell_type": "code",
      "metadata": {
        "id": "V000gO_ZTLla",
        "colab_type": "code",
        "colab": {
          "base_uri": "https://localhost:8080/",
          "height": 70
        },
        "outputId": "67ba7cc6-2887-46ca-e4f4-9642f441a31a"
      },
      "source": [
        "import pandas as pd\n",
        "import numpy as np\n",
        "import itertools\n",
        "from collections import Counter\n",
        "\n",
        "# libraries for NLP\n",
        "import spacy\n",
        "import nltk\n",
        "from nltk.tokenize.toktok import ToktokTokenizer\n",
        "from nltk.tokenize import word_tokenize\n",
        "from nltk.corpus import stopwords\n",
        "\n",
        "from sklearn.feature_extraction.text import CountVectorizer, TfidfVectorizer, TfidfTransformer\n",
        "import sklearn.model_selection\n",
        "from sklearn.model_selection import train_test_split\n",
        "from sklearn.naive_bayes import MultinomialNB\n",
        "from sklearn.model_selection import KFold\n",
        "from sklearn.linear_model import LogisticRegression\n",
        "from sklearn.metrics import accuracy_score, classification_report, roc_curve, roc_auc_score\n",
        "# ref: http://scikit-learn.org/stable/modules/generated/sklearn.metrics.classification_report.html#sklearn.metrics.classification_report\n",
        "from six.moves import range\n",
        "import scipy.sparse\n",
        "\n",
        "# for imbalanced datasets\n",
        "import imblearn\n",
        "from imblearn.over_sampling import SMOTE\n",
        "\n",
        "# libraries for getting and moving data\n",
        "import os\n",
        "from os import path\n",
        "import shutil\n",
        "from zipfile import ZipFile\n",
        "\n",
        "# for Images\n",
        "from PIL import Image\n",
        "import seaborn as sns\n",
        "import matplotlib.pyplot as plt\n",
        "import matplotlib.ticker as mtick\n",
        "%matplotlib inline"
      ],
      "execution_count": null,
      "outputs": [
        {
          "output_type": "stream",
          "text": [
            "/usr/local/lib/python3.6/dist-packages/statsmodels/tools/_testing.py:19: FutureWarning: pandas.util.testing is deprecated. Use the functions in the public API at pandas.testing instead.\n",
            "  import pandas.util.testing as tm\n"
          ],
          "name": "stderr"
        }
      ]
    },
    {
      "cell_type": "code",
      "metadata": {
        "id": "Hj-_jrTQkv9k",
        "colab_type": "code",
        "colab": {}
      },
      "source": [
        "# set seed\n",
        "np.random.seed(42)"
      ],
      "execution_count": null,
      "outputs": []
    },
    {
      "cell_type": "code",
      "metadata": {
        "id": "fg16C-vsbIAv",
        "colab_type": "code",
        "colab": {}
      },
      "source": [
        "# Set directories\n",
        "# Google Colab\n",
        "src = \"/content/drive/My Drive/DS-Capstone_1/Code/\"\n",
        "dst = \"/content/drive/My Drive/DS-Capstone_1/Data/\"\n",
        "\n",
        "# Local computer\n",
        "# src = \"C:\\\\Users\\\\ellen\\\\Documents\\\\GitHub\\\\Data_Science_Career_Track\\\\Capstone_1\\\\Code\\\\\"\n",
        "# dst = \"C:\\\\Users\\\\ellen\\\\Documents\\\\GitHub\\\\Data_Science_Career_Track\\\\Capstone_1\\\\Data\\\\\"\n",
        "\n",
        "# Work computer\n",
        "# src = \"C:\\\\Users\\\\esavoye\\\\Documents\\\\GitHub\\\\Data_Science_Career_Track\\\\Capstone_1\\\\Code\\\\\"\n",
        "# dst = \"C:\\\\Users\\\\esavoye\\\\Documents\\\\GitHub\\\\Data_Science_Career_Track\\\\Capstone_1\\\\Data\\\\\"\n",
        "\n",
        "# Computer path\n",
        "# unpickled_df = pd.read_pickle(dst + '/full_data_w_features.pkl')\n",
        "# unpickled_df_slimmed = pd.read_pickle(dst + '/slimmed_data_w_features.pkl')\n",
        "\n",
        "# Colab path\n",
        "unpickled_df = pd.read_pickle(dst + 'full_data_w_features.pkl')\n",
        "unpickled_df_slimmed = pd.read_pickle(dst + 'slimmed_data_w_features.pkl')\n"
      ],
      "execution_count": null,
      "outputs": []
    },
    {
      "cell_type": "markdown",
      "metadata": {
        "id": "bXC35_ykQd0X",
        "colab_type": "text"
      },
      "source": [
        "# Test Set & Countvectorizer\n"
      ]
    },
    {
      "cell_type": "markdown",
      "metadata": {
        "id": "wnKuf6C82ZKc",
        "colab_type": "text"
      },
      "source": [
        "Both logistic regression and naive bayes take an X and y input. After applying countvectorizer, the data is split into train and test sets. I'm using stratify to keep the split given that only 8% of the data is labelled as toxic. Without using stratify, the imbalance in my data has the potential to be even worse. "
      ]
    },
    {
      "cell_type": "code",
      "metadata": {
        "id": "NSWykPdfR4yJ",
        "colab_type": "code",
        "colab": {}
      },
      "source": [
        "# grab text field\n",
        "cleaned_text = unpickled_df.clean_text"
      ],
      "execution_count": null,
      "outputs": []
    },
    {
      "cell_type": "code",
      "metadata": {
        "id": "wT91eWcoQm1H",
        "colab_type": "code",
        "colab": {}
      },
      "source": [
        "# create an object of class - Count_Vectorizer\n",
        "vectorizer = CountVectorizer()"
      ],
      "execution_count": null,
      "outputs": []
    },
    {
      "cell_type": "code",
      "metadata": {
        "id": "OmKKr-ptSTsL",
        "colab_type": "code",
        "colab": {
          "base_uri": "https://localhost:8080/",
          "height": 34
        },
        "outputId": "cb0ca425-2e26-4b70-eed9-bca866612bde"
      },
      "source": [
        "# call `fit_transform` to build the vocabulary and to convert text to a bag of words\n",
        "x = vectorizer.fit_transform(cleaned_text)\n",
        "type(x)"
      ],
      "execution_count": null,
      "outputs": [
        {
          "output_type": "execute_result",
          "data": {
            "text/plain": [
              "scipy.sparse.csr.csr_matrix"
            ]
          },
          "metadata": {
            "tags": []
          },
          "execution_count": 8
        }
      ]
    },
    {
      "cell_type": "code",
      "metadata": {
        "id": "ltz3ypR6SnUI",
        "colab_type": "code",
        "colab": {}
      },
      "source": [
        "# Inputs:\n",
        "#         critics: a Pandas dataframe that contains the dataset.\n",
        "#         In particular, this dataframe is expected to have a column \n",
        "#         called 'quote', and critics.quote is a Series containing\n",
        "#         all documents, which is this case are movie reviews.\n",
        "#\n",
        "#         vectorizer: is expected to be an object of a class from\n",
        "#         sklearn.feature_extraction.text, (*)\n",
        "#         or None, in which case, per the code below, is constructed\n",
        "#         according to class CountVectorizer.\n",
        "#\n",
        "# Outputs:\n",
        "#         X: document-term matrix associated with critics.quote,\n",
        "#         according to the vectorization implemented by object \n",
        "#         vectorizer.\n",
        "#\n",
        "#         y: this is the label vector, such that y[i] is the label\n",
        "#         associated with document i, encoded according to row i of X\n",
        "#\n",
        "#         vectorizer: vectorizer_object object built\n",
        "#**************************************************************************\n",
        "def make_xy(unpickled_df, vectorizer=None):\n",
        "    if vectorizer is None:\n",
        "        vectorizer = CountVectorizer()\n",
        "    X = vectorizer.fit_transform(unpickled_df.clean_text)\n",
        "    X = X.tocsc()\n",
        "    y = (unpickled_df.target_binary == 1).values.astype(np.int)\n",
        "    return X, y, vectorizer\n",
        "\n",
        "X, y, vectorizer = make_xy(unpickled_df)"
      ],
      "execution_count": null,
      "outputs": []
    },
    {
      "cell_type": "code",
      "metadata": {
        "id": "ack0lE-KXnEo",
        "colab_type": "code",
        "colab": {}
      },
      "source": [
        "# # Create file for use in the future \n",
        "# scipy.sparse.save_npz(dst + '/X.pkl', X)\n",
        "# np.save(dst + '/y.npy', y)"
      ],
      "execution_count": null,
      "outputs": []
    },
    {
      "cell_type": "code",
      "metadata": {
        "id": "irk_8VUa8-Yv",
        "colab_type": "code",
        "colab": {}
      },
      "source": [
        "# load files for use in the future \n",
        "X = scipy.sparse.load_npz(dst + 'X.pkl.npz')\n",
        "y = np.load(dst + 'y.npy')"
      ],
      "execution_count": null,
      "outputs": []
    },
    {
      "cell_type": "code",
      "metadata": {
        "id": "Bjvo5oKl4r2q",
        "colab_type": "code",
        "colab": {
          "base_uri": "https://localhost:8080/",
          "height": 34
        },
        "outputId": "edc8b93b-fc45-4d80-b6a6-77a5789f1ae6"
      },
      "source": [
        "counter = Counter(y)\n",
        "print(counter)"
      ],
      "execution_count": null,
      "outputs": [
        {
          "output_type": "stream",
          "text": [
            "Counter({0: 1660540, 1: 144334})\n"
          ],
          "name": "stdout"
        }
      ]
    },
    {
      "cell_type": "markdown",
      "metadata": {
        "id": "QKpvqnAuuvLS",
        "colab_type": "text"
      },
      "source": [
        "# Over-Sampling"
      ]
    },
    {
      "cell_type": "markdown",
      "metadata": {
        "id": "NPDDZpdkaHsR",
        "colab_type": "text"
      },
      "source": [
        "Previously, I ran a logistic regression and Naive Bayes model for my baseline. Given the imbalanced nature of my data, I'd like to see how the results fare for both logistic regression and Naive Bayes using over-sampling (SMOTE) where both toxic and non-toxic values have the same count."
      ]
    },
    {
      "cell_type": "code",
      "metadata": {
        "id": "JLLxFlORXg0E",
        "colab_type": "code",
        "colab": {}
      },
      "source": [
        "# load files for use in the future \n",
        "X_resample = scipy.sparse.load_npz(dst + 'X_resample.pkl.npz')\n",
        "y_resample = np.load(dst + 'y_resample.npy')"
      ],
      "execution_count": null,
      "outputs": []
    },
    {
      "cell_type": "code",
      "metadata": {
        "id": "fTY8moUZaEuY",
        "colab_type": "code",
        "colab": {}
      },
      "source": [
        "# create x and y split for train and test sets \n",
        "\n",
        "Xtrain, Xtest, ytrain, ytest = train_test_split(X_resample, y_resample, stratify=y_resample)"
      ],
      "execution_count": null,
      "outputs": []
    },
    {
      "cell_type": "code",
      "metadata": {
        "id": "RziumJz-5IVB",
        "colab_type": "code",
        "colab": {}
      },
      "source": [
        "# oversample = SMOTE()\n",
        "X_resample, y_resample = oversample.fit_resample(X, y)"
      ],
      "execution_count": null,
      "outputs": []
    },
    {
      "cell_type": "code",
      "metadata": {
        "id": "kBZg1DlZBc3e",
        "colab_type": "code",
        "colab": {}
      },
      "source": [
        "# # Create file for use in the future \n",
        "# scipy.sparse.save_npz(dst + '/X_resample.pkl', X_resample)\n",
        "# np.save(dst + '/y_resample.npy', y_resample)"
      ],
      "execution_count": null,
      "outputs": []
    },
    {
      "cell_type": "code",
      "metadata": {
        "id": "pOZNmrzxBVTt",
        "colab_type": "code",
        "colab": {
          "base_uri": "https://localhost:8080/",
          "height": 34
        },
        "outputId": "3aba4807-ba2c-4690-eb00-dd2715c4f23f"
      },
      "source": [
        "counter = Counter(y_resample)\n",
        "print(counter)"
      ],
      "execution_count": null,
      "outputs": [
        {
          "output_type": "stream",
          "text": [
            "Counter({0: 1660540, 1: 1660540})\n"
          ],
          "name": "stdout"
        }
      ]
    },
    {
      "cell_type": "markdown",
      "metadata": {
        "id": "ldG6qRMV2PvO",
        "colab_type": "text"
      },
      "source": [
        "# Logistic Regression - Post SMOTE"
      ]
    },
    {
      "cell_type": "code",
      "metadata": {
        "id": "kIvRpZz161x_",
        "colab_type": "code",
        "colab": {
          "base_uri": "https://localhost:8080/",
          "height": 302
        },
        "outputId": "0791ba84-3bc0-4588-c362-dc3817d466b1"
      },
      "source": [
        "# Construct the LogisticRegression model\n",
        "clf = LogisticRegression()\n",
        "\n",
        "# Fit the model on the trainng data.\n",
        "clf.fit(Xtrain, ytrain)\n",
        "\n",
        "# Print the accuracy from the testing data.\n",
        "y_predict_test = clf.predict(Xtest)\n",
        "print(\"\\n\")\n",
        "print(\"[Test] Accuracy score (y_predict_test, ytest):\",accuracy_score(y_predict_test, ytest))\n",
        "\n",
        "print(\"\\n\")\n",
        "print(\"[Test] Accuracy score: (ytest, y_predict_test)\",accuracy_score(ytest, y_predict_test))\n",
        "\n",
        "y_predict_training = clf.predict(Xtrain)\n",
        "print(\"\\n\")\n",
        "print(\"[Training] Accuracy score: (ytrain, y_predict_training)\",accuracy_score(ytrain, y_predict_training))"
      ],
      "execution_count": null,
      "outputs": [
        {
          "output_type": "stream",
          "text": [
            "/usr/local/lib/python3.6/dist-packages/sklearn/linear_model/_logistic.py:764: ConvergenceWarning: lbfgs failed to converge (status=1):\n",
            "STOP: TOTAL NO. of ITERATIONS REACHED LIMIT.\n",
            "\n",
            "Increase the number of iterations (max_iter) or scale the data as shown in:\n",
            "    https://scikit-learn.org/stable/modules/preprocessing.html\n",
            "Please also refer to the documentation for alternative solver options:\n",
            "    https://scikit-learn.org/stable/modules/linear_model.html#logistic-regression\n",
            "  extra_warning_msg=_LOGISTIC_SOLVER_CONVERGENCE_MSG)\n"
          ],
          "name": "stderr"
        },
        {
          "output_type": "stream",
          "text": [
            "\n",
            "\n",
            "[Test] Accuracy score (y_predict_test, ytest): 0.92911823864526\n",
            "\n",
            "\n",
            "[Test] Accuracy score: (ytest, y_predict_test) 0.92911823864526\n",
            "\n",
            "\n",
            "[Training] Accuracy score: (ytrain, y_predict_training) 0.9311669697809146\n"
          ],
          "name": "stdout"
        }
      ]
    },
    {
      "cell_type": "code",
      "metadata": {
        "id": "zNdROyxqafLy",
        "colab_type": "code",
        "colab": {
          "base_uri": "https://localhost:8080/",
          "height": 353
        },
        "outputId": "b13de18a-330d-4e68-8777-1315e2da7cd0"
      },
      "source": [
        "# more comprehensive performance analysis\n",
        "\n",
        "target_names = ['Non-Toxic', 'Toxic']\n",
        "\n",
        "print(\"[Training Classification Report]\")\n",
        "print(classification_report(ytrain, y_predict_training, target_names=target_names))\n",
        "\n",
        "print(\"[Test Classification Report]\")\n",
        "print(classification_report(ytest, y_predict_test, target_names=target_names))"
      ],
      "execution_count": null,
      "outputs": [
        {
          "output_type": "stream",
          "text": [
            "[Training Classification Report]\n",
            "              precision    recall  f1-score   support\n",
            "\n",
            "   Non-Toxic       0.95      0.91      0.93   1245405\n",
            "       Toxic       0.91      0.95      0.93   1245405\n",
            "\n",
            "    accuracy                           0.93   2490810\n",
            "   macro avg       0.93      0.93      0.93   2490810\n",
            "weighted avg       0.93      0.93      0.93   2490810\n",
            "\n",
            "[Test Classification Report]\n",
            "              precision    recall  f1-score   support\n",
            "\n",
            "   Non-Toxic       0.95      0.91      0.93    415135\n",
            "       Toxic       0.91      0.95      0.93    415135\n",
            "\n",
            "    accuracy                           0.93    830270\n",
            "   macro avg       0.93      0.93      0.93    830270\n",
            "weighted avg       0.93      0.93      0.93    830270\n",
            "\n"
          ],
          "name": "stdout"
        }
      ]
    },
    {
      "cell_type": "markdown",
      "metadata": {
        "id": "tqxZvpqnt51Y",
        "colab_type": "text"
      },
      "source": [
        "During the baseline run, the train dataset for non-toxic classification fared very well with precision and recall at 96% and 99% respectively. Train dataset for toxic classification fared poorly with precision and recall at 76% and 49% respectively. The test set had similar numbers.\n",
        "\n",
        "When applying SMOTE, the toxic classification, for both train and test, drastically increase to 91% and 95% for precision and recall respectively. Average precision and average recall is 93%."
      ]
    },
    {
      "cell_type": "markdown",
      "metadata": {
        "id": "Thn8zNmGFetR",
        "colab_type": "text"
      },
      "source": [
        "# Naive Bayes"
      ]
    },
    {
      "cell_type": "code",
      "metadata": {
        "id": "SdLLx4ujGEPb",
        "colab_type": "code",
        "colab": {
          "base_uri": "https://localhost:8080/",
          "height": 34
        },
        "outputId": "810e51f2-d329-4680-9814-f0d7ef145460"
      },
      "source": [
        "# multinomial naive bayes classifier\n",
        "nBayes = MultinomialNB()\n",
        "\n",
        "# same X and y used for logistic regression\n",
        "clf_nBayes = nBayes.fit(Xtrain, ytrain)\n",
        "\n",
        "accuracy_train = nBayes.score(Xtrain,ytrain)\n",
        "accuracy_test = nBayes.score(Xtest,ytest)\n",
        "\n",
        "print('The training accuracy is %f and the test accuracy is %f' %(accuracy_train, accuracy_test))"
      ],
      "execution_count": null,
      "outputs": [
        {
          "output_type": "stream",
          "text": [
            "The training accuracy is 0.911537 and the test accuracy is 0.907103\n"
          ],
          "name": "stdout"
        }
      ]
    },
    {
      "cell_type": "markdown",
      "metadata": {
        "id": "6KGAR8atI2T3",
        "colab_type": "text"
      },
      "source": [
        "The gap between training and test accuracy does not imply overfitting."
      ]
    },
    {
      "cell_type": "code",
      "metadata": {
        "id": "Ewj5faJB-pcq",
        "colab_type": "code",
        "colab": {
          "base_uri": "https://localhost:8080/",
          "height": 168
        },
        "outputId": "8e2e1db1-5638-4614-e880-e94faceab2be"
      },
      "source": [
        "\n",
        "# Print the accuracy from the testing data.\n",
        "y_predict_test = clf_nBayes.predict(Xtest)\n",
        "print(\"\\n\")\n",
        "print(\"[Test] Accuracy score (y_predict_test, ytest):\",accuracy_score(y_predict_test, ytest))\n",
        "\n",
        "print(\"\\n\")\n",
        "print(\"[Test] Accuracy score: (ytest, y_predict_test)\",accuracy_score(ytest, y_predict_test))\n",
        "\n",
        "y_predict_training = clf_nBayes.predict(Xtrain)\n",
        "print(\"\\n\")\n",
        "print(\"[Training] Accuracy score: (ytrain, y_predict_training)\",accuracy_score(ytrain, y_predict_training))\n"
      ],
      "execution_count": null,
      "outputs": [
        {
          "output_type": "stream",
          "text": [
            "\n",
            "\n",
            "[Test] Accuracy score (y_predict_test, ytest): 0.9071025088224313\n",
            "\n",
            "\n",
            "[Test] Accuracy score: (ytest, y_predict_test) 0.9071025088224313\n",
            "\n",
            "\n",
            "[Training] Accuracy score: (ytrain, y_predict_training) 0.9115368093110273\n"
          ],
          "name": "stdout"
        }
      ]
    },
    {
      "cell_type": "code",
      "metadata": {
        "colab_type": "code",
        "id": "CadboD-f_RVs",
        "colab": {
          "base_uri": "https://localhost:8080/",
          "height": 353
        },
        "outputId": "c954b21f-7cd5-44c0-d5b8-23173a9af586"
      },
      "source": [
        "# more comprehensive performance analysis for NB\n",
        "\n",
        "target_names = ['Non-Toxic', 'Toxic']\n",
        "\n",
        "print(\"[Training Classification Report]\")\n",
        "print(classification_report(ytrain, y_predict_training, target_names=target_names))\n",
        "\n",
        "print(\"[Test Classification Report]\")\n",
        "print(classification_report(ytest, y_predict_test, target_names=target_names))"
      ],
      "execution_count": null,
      "outputs": [
        {
          "output_type": "stream",
          "text": [
            "[Training Classification Report]\n",
            "              precision    recall  f1-score   support\n",
            "\n",
            "   Non-Toxic       0.89      0.93      0.91   1245405\n",
            "       Toxic       0.93      0.89      0.91   1245405\n",
            "\n",
            "    accuracy                           0.91   2490810\n",
            "   macro avg       0.91      0.91      0.91   2490810\n",
            "weighted avg       0.91      0.91      0.91   2490810\n",
            "\n",
            "[Test Classification Report]\n",
            "              precision    recall  f1-score   support\n",
            "\n",
            "   Non-Toxic       0.89      0.93      0.91    415135\n",
            "       Toxic       0.92      0.89      0.91    415135\n",
            "\n",
            "    accuracy                           0.91    830270\n",
            "   macro avg       0.91      0.91      0.91    830270\n",
            "weighted avg       0.91      0.91      0.91    830270\n",
            "\n"
          ],
          "name": "stdout"
        }
      ]
    },
    {
      "cell_type": "markdown",
      "metadata": {
        "colab_type": "text",
        "id": "g2Ruc9OcATq4"
      },
      "source": [
        "In a similar manner to the logistic regression results, the toxic classification for both the train and test set increased drastically. The precision of the train and test set for non-toxic classification descreased a little. However, given the increase for toxic classification, the trade off seems worth it."
      ]
    },
    {
      "cell_type": "code",
      "metadata": {
        "id": "iPbX6lOhsDe0",
        "colab_type": "code",
        "colab": {}
      },
      "source": [
        "# calculate roc curve\n",
        "fpr, tpr, thresholds = roc_curve(ytrain, y_predict_training)"
      ],
      "execution_count": null,
      "outputs": []
    },
    {
      "cell_type": "code",
      "metadata": {
        "id": "rhuLwITDxOnm",
        "colab_type": "code",
        "colab": {
          "base_uri": "https://localhost:8080/",
          "height": 34
        },
        "outputId": "2c63b806-c321-4451-ddcb-471ddb124e94"
      },
      "source": [
        "# calculate AUC\n",
        "auc = roc_auc_score(ytrain, y_predict_training)\n",
        "print('AUC: %.3f' % auc)"
      ],
      "execution_count": null,
      "outputs": [
        {
          "output_type": "stream",
          "text": [
            "AUC: 0.810\n"
          ],
          "name": "stdout"
        }
      ]
    },
    {
      "cell_type": "code",
      "metadata": {
        "id": "zQ-gjBr-rddc",
        "colab_type": "code",
        "colab": {
          "base_uri": "https://localhost:8080/",
          "height": 296
        },
        "outputId": "60b50ffa-e110-48ea-9517-0091316324b7"
      },
      "source": [
        "# plot the roc curve for the model\n",
        "plt.plot(fpr, tpr, linestyle='--')\n",
        "\n",
        "# axis labels\n",
        "plt.xlabel('False Positive Rate')\n",
        "plt.ylabel('True Positive Rate')\n",
        "# show the legend\n",
        "plt.legend()\n",
        "# show the plot\n",
        "plt.show()"
      ],
      "execution_count": null,
      "outputs": [
        {
          "output_type": "stream",
          "text": [
            "No handles with labels found to put in legend.\n"
          ],
          "name": "stderr"
        },
        {
          "output_type": "display_data",
          "data": {
            "image/png": "[encoded data removed]",
            "text/plain": [
              "<Figure size 432x288 with 1 Axes>"
            ]
          },
          "metadata": {
            "tags": [],
            "needs_background": "light"
          }
        }
      ]
    },
    {
      "cell_type": "markdown",
      "metadata": {
        "id": "XJ38hW3pvheQ",
        "colab_type": "text"
      },
      "source": [
        "A good measure of separability implying an excellent model is an AUC near 1. When AUC is 0.5, it means model has no class separation capacity whatsoever. Given an AUC of 0.81, it means there is 81% chance that model will be able to distinguish between positive class (toxic) and negative class (non-toxic). The AUC of 0.81 is the same as the baseline model.\n"
      ]
    }
  ]
}