{
  "nbformat": 4,
  "nbformat_minor": 0,
  "metadata": {
    "kernelspec": {
      "name": "python3",
      "display_name": "Python 3"
    },
    "language_info": {
      "codemirror_mode": {
        "name": "ipython",
        "version": 3
      },
      "file_extension": ".py",
      "mimetype": "text/x-python",
      "name": "python",
      "nbconvert_exporter": "python",
      "pygments_lexer": "ipython3",
      "version": "3.7.3"
    },
    "toc": {
      "base_numbering": 1,
      "nav_menu": {},
      "number_sections": true,
      "sideBar": true,
      "skip_h1_title": false,
      "title_cell": "Table of Contents",
      "title_sidebar": "Contents",
      "toc_cell": false,
      "toc_position": {},
      "toc_section_display": true,
      "toc_window_display": false
    },
    "colab": {
      "name": "Capstone_1_EDA.ipynb",
      "provenance": [],
      "collapsed_sections": [],
      "toc_visible": true,
      "machine_shape": "hm"
    },
    "accelerator": "TPU"
  },
  "cells": [
    {
      "cell_type": "markdown",
      "metadata": {
        "id": "vWF-XejODqTY",
        "colab_type": "text"
      },
      "source": [
        "# Springboard--DSC Program\n",
        "\n",
        "# Capstone Project 1 - Exploratory Data Analysis \n",
        "### by Ellen A. Savoye"
      ]
    },
    {
      "cell_type": "code",
      "metadata": {
        "id": "lkbfhS2hD1xd",
        "colab_type": "code",
        "outputId": "36dd1841-8c22-4aa8-b4f3-1b6e4957cf7d",
        "colab": {
          "base_uri": "https://localhost:8080/",
          "height": 125
        }
      },
      "source": [
        "from google.colab import drive\n",
        "drive.mount('/content/drive')"
      ],
      "execution_count": 1,
      "outputs": [
        {
          "output_type": "stream",
          "text": [
            "Go to this URL in a browser: https://accounts.google.com/o/oauth2/auth?client_id=947318989803-6bn6qk8qdgf4n4g3pfee6491hc0brc4i.apps.googleusercontent.com&redirect_uri=urn%3aietf%3awg%3aoauth%3a2.0%3aoob&response_type=code&scope=email%20https%3a%2f%2fwww.googleapis.com%2fauth%2fdocs.test%20https%3a%2f%2fwww.googleapis.com%2fauth%2fdrive%20https%3a%2f%2fwww.googleapis.com%2fauth%2fdrive.photos.readonly%20https%3a%2f%2fwww.googleapis.com%2fauth%2fpeopleapi.readonly\n",
            "\n",
            "Enter your authorization code:\n",
            "··········\n",
            "Mounted at /content/drive\n"
          ],
          "name": "stdout"
        }
      ]
    },
    {
      "cell_type": "markdown",
      "metadata": {
        "id": "Ss9xGtFnMs2Q",
        "colab_type": "text"
      },
      "source": [
        "# Summary"
      ]
    },
    {
      "cell_type": "markdown",
      "metadata": {
        "id": "reh8Ter4DqTd",
        "colab_type": "text"
      },
      "source": [
        "In a previous report, I imported and cleaned the text data from the Kaggle competition 'Jigsaw Unintended Bias in Toxicity Classification'. The text data was converted to lower case and removed emojis, emoticons, punctuation, and special characters. I then created a second data set containing only the subset of data containing identity tags. Both data sets were pickled and imported into this report.\n",
        "\n",
        "The goal of exploratory data analysis (EDA) here is to uncover anomalies, check assumptions, ask questions, and gather insights with the help of summary statistics and graphical representations. \n"
      ]
    },
    {
      "cell_type": "markdown",
      "metadata": {
        "id": "J3OHWPy1DqTf",
        "colab_type": "text"
      },
      "source": [
        "\n",
        "# Import packages and data\n"
      ]
    },
    {
      "cell_type": "code",
      "metadata": {
        "id": "a1vrW8IiDqTg",
        "colab_type": "code",
        "outputId": "7bdc7622-082e-453b-859d-3ad19432b38e",
        "colab": {
          "base_uri": "https://localhost:8080/",
          "height": 1000
        }
      },
      "source": [
        "# !pip install wordcloud\n",
        "# !pip install kaggle\n",
        "# !pip install spacy\n",
        "!pip install swifter\n",
        "# !pip install tqdm\n",
        "!pip install dexplot"
      ],
      "execution_count": 2,
      "outputs": [
        {
          "output_type": "stream",
          "text": [
            "Collecting swifter\n",
            "  Downloading https://files.pythonhosted.org/packages/17/76/5f30ae762215205e2299370ac81cf5346b08e26ea9dacb89e5dc8aa453e6/swifter-0.301-py3-none-any.whl\n",
            "Requirement already satisfied: psutil in /usr/local/lib/python3.6/dist-packages (from swifter) (5.4.8)\n",
            "Collecting tqdm>=4.33.0\n",
            "\u001b[?25l  Downloading https://files.pythonhosted.org/packages/47/55/fd9170ba08a1a64a18a7f8a18f088037316f2a41be04d2fe6ece5a653e8f/tqdm-4.43.0-py2.py3-none-any.whl (59kB)\n",
            "\u001b[K     |████████████████████████████████| 61kB 3.3MB/s \n",
            "\u001b[?25hRequirement already satisfied: parso>0.4.0 in /usr/local/lib/python3.6/dist-packages (from swifter) (0.6.1)\n",
            "Requirement already satisfied: numba in /usr/local/lib/python3.6/dist-packages (from swifter) (0.47.0)\n",
            "Requirement already satisfied: ipywidgets>=7.0.0 in /usr/local/lib/python3.6/dist-packages (from swifter) (7.5.1)\n",
            "Requirement already satisfied: pandas>=0.23.0 in /usr/local/lib/python3.6/dist-packages (from swifter) (0.25.3)\n",
            "Requirement already satisfied: dask[complete]>=0.19.0 in /usr/local/lib/python3.6/dist-packages (from swifter) (2.9.2)\n",
            "Requirement already satisfied: setuptools in /usr/local/lib/python3.6/dist-packages (from numba->swifter) (45.1.0)\n",
            "Requirement already satisfied: llvmlite>=0.31.0dev0 in /usr/local/lib/python3.6/dist-packages (from numba->swifter) (0.31.0)\n",
            "Requirement already satisfied: numpy in /usr/local/lib/python3.6/dist-packages (from numba->swifter) (1.17.5)\n",
            "Requirement already satisfied: ipykernel>=4.5.1 in /usr/local/lib/python3.6/dist-packages (from ipywidgets>=7.0.0->swifter) (4.6.1)\n",
            "Requirement already satisfied: widgetsnbextension~=3.5.0 in /usr/local/lib/python3.6/dist-packages (from ipywidgets>=7.0.0->swifter) (3.5.1)\n",
            "Requirement already satisfied: nbformat>=4.2.0 in /usr/local/lib/python3.6/dist-packages (from ipywidgets>=7.0.0->swifter) (5.0.4)\n",
            "Requirement already satisfied: ipython>=4.0.0; python_version >= \"3.3\" in /usr/local/lib/python3.6/dist-packages (from ipywidgets>=7.0.0->swifter) (5.5.0)\n",
            "Requirement already satisfied: traitlets>=4.3.1 in /usr/local/lib/python3.6/dist-packages (from ipywidgets>=7.0.0->swifter) (4.3.3)\n",
            "Requirement already satisfied: pytz>=2017.2 in /usr/local/lib/python3.6/dist-packages (from pandas>=0.23.0->swifter) (2018.9)\n",
            "Requirement already satisfied: python-dateutil>=2.6.1 in /usr/local/lib/python3.6/dist-packages (from pandas>=0.23.0->swifter) (2.6.1)\n",
            "Requirement already satisfied: fsspec>=0.6.0; extra == \"complete\" in /usr/local/lib/python3.6/dist-packages (from dask[complete]>=0.19.0->swifter) (0.6.2)\n",
            "Requirement already satisfied: toolz>=0.7.3; extra == \"complete\" in /usr/local/lib/python3.6/dist-packages (from dask[complete]>=0.19.0->swifter) (0.10.0)\n",
            "Collecting distributed>=2.0; extra == \"complete\"\n",
            "\u001b[?25l  Downloading https://files.pythonhosted.org/packages/26/99/054a5d1909bf12347e38b9995e5ee555417f8e264678ccebe4d51fb26637/distributed-2.11.0-py3-none-any.whl (595kB)\n",
            "\u001b[K     |████████████████████████████████| 604kB 9.6MB/s \n",
            "\u001b[?25hRequirement already satisfied: bokeh>=1.0.0; extra == \"complete\" in /usr/local/lib/python3.6/dist-packages (from dask[complete]>=0.19.0->swifter) (1.4.0)\n",
            "Requirement already satisfied: cloudpickle>=0.2.1; extra == \"complete\" in /usr/local/lib/python3.6/dist-packages (from dask[complete]>=0.19.0->swifter) (1.2.2)\n",
            "Requirement already satisfied: PyYaml; extra == \"complete\" in /usr/local/lib/python3.6/dist-packages (from dask[complete]>=0.19.0->swifter) (3.13)\n",
            "Collecting partd>=0.3.10; extra == \"complete\"\n",
            "  Downloading https://files.pythonhosted.org/packages/44/e1/68dbe731c9c067655bff1eca5b7d40c20ca4b23fd5ec9f3d17e201a6f36b/partd-1.1.0-py3-none-any.whl\n",
            "Requirement already satisfied: jupyter-client in /usr/local/lib/python3.6/dist-packages (from ipykernel>=4.5.1->ipywidgets>=7.0.0->swifter) (5.3.4)\n",
            "Requirement already satisfied: tornado>=4.0 in /usr/local/lib/python3.6/dist-packages (from ipykernel>=4.5.1->ipywidgets>=7.0.0->swifter) (4.5.3)\n",
            "Requirement already satisfied: notebook>=4.4.1 in /usr/local/lib/python3.6/dist-packages (from widgetsnbextension~=3.5.0->ipywidgets>=7.0.0->swifter) (5.2.2)\n",
            "Requirement already satisfied: jsonschema!=2.5.0,>=2.4 in /usr/local/lib/python3.6/dist-packages (from nbformat>=4.2.0->ipywidgets>=7.0.0->swifter) (2.6.0)\n",
            "Requirement already satisfied: jupyter-core in /usr/local/lib/python3.6/dist-packages (from nbformat>=4.2.0->ipywidgets>=7.0.0->swifter) (4.6.2)\n",
            "Requirement already satisfied: ipython-genutils in /usr/local/lib/python3.6/dist-packages (from nbformat>=4.2.0->ipywidgets>=7.0.0->swifter) (0.2.0)\n",
            "Requirement already satisfied: pexpect; sys_platform != \"win32\" in /usr/local/lib/python3.6/dist-packages (from ipython>=4.0.0; python_version >= \"3.3\"->ipywidgets>=7.0.0->swifter) (4.8.0)\n",
            "Requirement already satisfied: decorator in /usr/local/lib/python3.6/dist-packages (from ipython>=4.0.0; python_version >= \"3.3\"->ipywidgets>=7.0.0->swifter) (4.4.1)\n",
            "Requirement already satisfied: simplegeneric>0.8 in /usr/local/lib/python3.6/dist-packages (from ipython>=4.0.0; python_version >= \"3.3\"->ipywidgets>=7.0.0->swifter) (0.8.1)\n",
            "Requirement already satisfied: prompt-toolkit<2.0.0,>=1.0.4 in /usr/local/lib/python3.6/dist-packages (from ipython>=4.0.0; python_version >= \"3.3\"->ipywidgets>=7.0.0->swifter) (1.0.18)\n",
            "Requirement already satisfied: pickleshare in /usr/local/lib/python3.6/dist-packages (from ipython>=4.0.0; python_version >= \"3.3\"->ipywidgets>=7.0.0->swifter) (0.7.5)\n",
            "Requirement already satisfied: pygments in /usr/local/lib/python3.6/dist-packages (from ipython>=4.0.0; python_version >= \"3.3\"->ipywidgets>=7.0.0->swifter) (2.1.3)\n",
            "Requirement already satisfied: six in /usr/local/lib/python3.6/dist-packages (from traitlets>=4.3.1->ipywidgets>=7.0.0->swifter) (1.12.0)\n",
            "Requirement already satisfied: zict>=0.1.3 in /usr/local/lib/python3.6/dist-packages (from distributed>=2.0; extra == \"complete\"->dask[complete]>=0.19.0->swifter) (1.0.0)\n",
            "Requirement already satisfied: click>=6.6 in /usr/local/lib/python3.6/dist-packages (from distributed>=2.0; extra == \"complete\"->dask[complete]>=0.19.0->swifter) (7.0)\n",
            "Collecting msgpack>=0.6.0\n",
            "\u001b[?25l  Downloading https://files.pythonhosted.org/packages/c9/35/33aa1af0700d21beabdf74373f31c52c048be8ee082f98edbc37ba3ae956/msgpack-1.0.0-cp36-cp36m-manylinux1_x86_64.whl (274kB)\n",
            "\u001b[K     |████████████████████████████████| 276kB 46.1MB/s \n",
            "\u001b[?25hRequirement already satisfied: tblib>=1.6.0 in /usr/local/lib/python3.6/dist-packages (from distributed>=2.0; extra == \"complete\"->dask[complete]>=0.19.0->swifter) (1.6.0)\n",
            "Requirement already satisfied: sortedcontainers!=2.0.0,!=2.0.1 in /usr/local/lib/python3.6/dist-packages (from distributed>=2.0; extra == \"complete\"->dask[complete]>=0.19.0->swifter) (2.1.0)\n",
            "Requirement already satisfied: pillow>=4.0 in /usr/local/lib/python3.6/dist-packages (from bokeh>=1.0.0; extra == \"complete\"->dask[complete]>=0.19.0->swifter) (6.2.2)\n",
            "Requirement already satisfied: packaging>=16.8 in /usr/local/lib/python3.6/dist-packages (from bokeh>=1.0.0; extra == \"complete\"->dask[complete]>=0.19.0->swifter) (20.1)\n",
            "Requirement already satisfied: Jinja2>=2.7 in /usr/local/lib/python3.6/dist-packages (from bokeh>=1.0.0; extra == \"complete\"->dask[complete]>=0.19.0->swifter) (2.11.1)\n",
            "Collecting locket\n",
            "  Downloading https://files.pythonhosted.org/packages/d0/22/3c0f97614e0be8386542facb3a7dcfc2584f7b83608c02333bced641281c/locket-0.2.0.tar.gz\n",
            "Requirement already satisfied: pyzmq>=13 in /usr/local/lib/python3.6/dist-packages (from jupyter-client->ipykernel>=4.5.1->ipywidgets>=7.0.0->swifter) (17.0.0)\n",
            "Requirement already satisfied: terminado>=0.3.3; sys_platform != \"win32\" in /usr/local/lib/python3.6/dist-packages (from notebook>=4.4.1->widgetsnbextension~=3.5.0->ipywidgets>=7.0.0->swifter) (0.8.3)\n",
            "Requirement already satisfied: nbconvert in /usr/local/lib/python3.6/dist-packages (from notebook>=4.4.1->widgetsnbextension~=3.5.0->ipywidgets>=7.0.0->swifter) (5.6.1)\n",
            "Requirement already satisfied: ptyprocess>=0.5 in /usr/local/lib/python3.6/dist-packages (from pexpect; sys_platform != \"win32\"->ipython>=4.0.0; python_version >= \"3.3\"->ipywidgets>=7.0.0->swifter) (0.6.0)\n",
            "Requirement already satisfied: wcwidth in /usr/local/lib/python3.6/dist-packages (from prompt-toolkit<2.0.0,>=1.0.4->ipython>=4.0.0; python_version >= \"3.3\"->ipywidgets>=7.0.0->swifter) (0.1.8)\n",
            "Requirement already satisfied: heapdict in /usr/local/lib/python3.6/dist-packages (from zict>=0.1.3->distributed>=2.0; extra == \"complete\"->dask[complete]>=0.19.0->swifter) (1.0.1)\n",
            "Requirement already satisfied: pyparsing>=2.0.2 in /usr/local/lib/python3.6/dist-packages (from packaging>=16.8->bokeh>=1.0.0; extra == \"complete\"->dask[complete]>=0.19.0->swifter) (2.4.6)\n",
            "Requirement already satisfied: MarkupSafe>=0.23 in /usr/local/lib/python3.6/dist-packages (from Jinja2>=2.7->bokeh>=1.0.0; extra == \"complete\"->dask[complete]>=0.19.0->swifter) (1.1.1)\n",
            "Requirement already satisfied: mistune<2,>=0.8.1 in /usr/local/lib/python3.6/dist-packages (from nbconvert->notebook>=4.4.1->widgetsnbextension~=3.5.0->ipywidgets>=7.0.0->swifter) (0.8.4)\n",
            "Requirement already satisfied: pandocfilters>=1.4.1 in /usr/local/lib/python3.6/dist-packages (from nbconvert->notebook>=4.4.1->widgetsnbextension~=3.5.0->ipywidgets>=7.0.0->swifter) (1.4.2)\n",
            "Requirement already satisfied: entrypoints>=0.2.2 in /usr/local/lib/python3.6/dist-packages (from nbconvert->notebook>=4.4.1->widgetsnbextension~=3.5.0->ipywidgets>=7.0.0->swifter) (0.3)\n",
            "Requirement already satisfied: testpath in /usr/local/lib/python3.6/dist-packages (from nbconvert->notebook>=4.4.1->widgetsnbextension~=3.5.0->ipywidgets>=7.0.0->swifter) (0.4.4)\n",
            "Requirement already satisfied: defusedxml in /usr/local/lib/python3.6/dist-packages (from nbconvert->notebook>=4.4.1->widgetsnbextension~=3.5.0->ipywidgets>=7.0.0->swifter) (0.6.0)\n",
            "Requirement already satisfied: bleach in /usr/local/lib/python3.6/dist-packages (from nbconvert->notebook>=4.4.1->widgetsnbextension~=3.5.0->ipywidgets>=7.0.0->swifter) (3.1.0)\n",
            "Requirement already satisfied: webencodings in /usr/local/lib/python3.6/dist-packages (from bleach->nbconvert->notebook>=4.4.1->widgetsnbextension~=3.5.0->ipywidgets>=7.0.0->swifter) (0.5.1)\n",
            "Building wheels for collected packages: locket\n",
            "  Building wheel for locket (setup.py) ... \u001b[?25l\u001b[?25hdone\n",
            "  Created wheel for locket: filename=locket-0.2.0-cp36-none-any.whl size=4040 sha256=cb82c50a3d67691935121f292549600a29797b20bd5951669efed6dfe8d1016d\n",
            "  Stored in directory: /root/.cache/pip/wheels/26/1e/e8/4fa236ec931b1a0cdd61578e20d4934d7bf188858723b84698\n",
            "Successfully built locket\n",
            "\u001b[31mERROR: distributed 2.11.0 has requirement tornado>=5; python_version < \"3.8\", but you'll have tornado 4.5.3 which is incompatible.\u001b[0m\n",
            "Installing collected packages: tqdm, swifter, msgpack, distributed, locket, partd\n",
            "  Found existing installation: tqdm 4.28.1\n",
            "    Uninstalling tqdm-4.28.1:\n",
            "      Successfully uninstalled tqdm-4.28.1\n",
            "  Found existing installation: msgpack 0.5.6\n",
            "    Uninstalling msgpack-0.5.6:\n",
            "      Successfully uninstalled msgpack-0.5.6\n",
            "  Found existing installation: distributed 1.25.3\n",
            "    Uninstalling distributed-1.25.3:\n",
            "      Successfully uninstalled distributed-1.25.3\n",
            "Successfully installed distributed-2.11.0 locket-0.2.0 msgpack-1.0.0 partd-1.1.0 swifter-0.301 tqdm-4.43.0\n"
          ],
          "name": "stdout"
        },
        {
          "output_type": "display_data",
          "data": {
            "application/vnd.colab-display-data+json": {
              "pip_warning": {
                "packages": [
                  "tqdm"
                ]
              }
            }
          },
          "metadata": {
            "tags": []
          }
        },
        {
          "output_type": "stream",
          "text": [
            "Collecting dexplot\n",
            "  Downloading https://files.pythonhosted.org/packages/5b/af/555b6189101197f4b2eb3319c96b98aa4e94c1b4bfb22953324f81ced326/dexplot-0.0.9-py3-none-any.whl\n",
            "Installing collected packages: dexplot\n",
            "Successfully installed dexplot-0.0.9\n"
          ],
          "name": "stdout"
        }
      ]
    },
    {
      "cell_type": "code",
      "metadata": {
        "id": "Z88vlRJrDqTl",
        "colab_type": "code",
        "colab": {}
      },
      "source": [
        "import pandas as pd\n",
        "import numpy as np\n",
        "import itertools\n",
        "from collections import Counter\n",
        "\n",
        "# libraries for NLP\n",
        "import spacy\n",
        "\n",
        "import nltk\n",
        "from nltk.tokenize.toktok import ToktokTokenizer\n",
        "from nltk.tokenize import word_tokenize\n",
        "from nltk.corpus import stopwords\n",
        "\n",
        "from sklearn.feature_extraction.text import CountVectorizer, TfidfVectorizer\n",
        "\n",
        "import string\n",
        "from string import punctuation\n",
        "\n",
        "import swifter\n",
        "\n",
        "# libraries for getting and moving data\n",
        "import os\n",
        "from os import path\n",
        "import shutil\n",
        "from zipfile import ZipFile\n",
        "\n",
        "# for Images\n",
        "from PIL import Image\n",
        "from wordcloud import WordCloud, STOPWORDS, ImageColorGenerator\n",
        "import seaborn as sns\n",
        "import matplotlib.pyplot as plt\n",
        "import matplotlib.ticker as mtick\n",
        "%matplotlib inline"
      ],
      "execution_count": 0,
      "outputs": []
    },
    {
      "cell_type": "code",
      "metadata": {
        "id": "mpHpaHTM8zdb",
        "colab_type": "code",
        "colab": {}
      },
      "source": [
        "# Seaborn selections\n",
        "sns.set_palette(\"bright\")"
      ],
      "execution_count": 0,
      "outputs": []
    },
    {
      "cell_type": "code",
      "metadata": {
        "id": "VC9SnHaiXD_v",
        "colab_type": "code",
        "outputId": "c01da201-c104-4aeb-d91b-2f797ad979b3",
        "colab": {
          "base_uri": "https://localhost:8080/",
          "height": 105
        }
      },
      "source": [
        "# google colab only\n",
        "nltk.download('stopwords')\n",
        "nltk.download('punkt')"
      ],
      "execution_count": 5,
      "outputs": [
        {
          "output_type": "stream",
          "text": [
            "[nltk_data] Downloading package stopwords to /root/nltk_data...\n",
            "[nltk_data]   Unzipping corpora/stopwords.zip.\n",
            "[nltk_data] Downloading package punkt to /root/nltk_data...\n",
            "[nltk_data]   Unzipping tokenizers/punkt.zip.\n"
          ],
          "name": "stdout"
        },
        {
          "output_type": "execute_result",
          "data": {
            "text/plain": [
              "True"
            ]
          },
          "metadata": {
            "tags": []
          },
          "execution_count": 5
        }
      ]
    },
    {
      "cell_type": "code",
      "metadata": {
        "scrolled": true,
        "id": "zFXWyn4WDqTq",
        "colab_type": "code",
        "colab": {}
      },
      "source": [
        "# necessary dependencies for text pre-processing\n",
        "\n",
        "nlp = spacy.load('en_core_web_sm', parse=True, tag=True, entity=True)\n",
        "#nlp_vec = spacy.load('en_vecs', parse = True, tag=True, #entity=True)\n",
        "tokenizer = ToktokTokenizer()\n",
        "stopword_list = nltk.corpus.stopwords.words('english')\n",
        "stopword_list.remove('no')\n",
        "stopword_list.remove('not')"
      ],
      "execution_count": 0,
      "outputs": []
    },
    {
      "cell_type": "code",
      "metadata": {
        "id": "mLWK5sCCDqTt",
        "colab_type": "code",
        "colab": {}
      },
      "source": [
        "# Set directories\n",
        "# Google Colab\n",
        "src = \"/content/drive/My Drive/DS-Capstone_1/Code/\"\n",
        "dst = \"/content/drive/My Drive/DS-Capstone_1/Data/\"\n",
        "\n",
        "# Local computer\n",
        "# src = \"C:\\\\Users\\\\ellen\\\\Documents\\\\GitHub\\\\Data_Science_Career_Track\\\\Capstone_1\\\\Code\\\\\"\n",
        "# dst = \"C:\\\\Users\\\\ellen\\\\Documents\\\\GitHub\\\\Data_Science_Career_Track\\\\Capstone_1\\\\Data\\\\\"\n",
        "\n",
        "# Work computer\n",
        "# src = \"C:\\\\Users\\\\esavoye\\\\Documents\\\\GitHub\\\\Data_Science_Career_Track\\\\Capstone_1\\\\Code\\\\\"\n",
        "# dst = \"C:\\\\Users\\\\esavoye\\\\Documents\\\\GitHub\\\\Data_Science_Career_Track\\\\Capstone_1\\\\Data\\\\\"\n",
        "\n",
        "# Computer path\n",
        "# unpickled_df = pd.read_pickle(dst + '/cleaned_train_data.pkl')\n",
        "# unpickled_df_slimmed = pd.read_pickle(dst + '/slimmed_subset_df.pkl')\n",
        "\n",
        "# Colab path\n",
        "unpickled_df = pd.read_pickle(dst + 'cleaned_train_data.pkl')\n",
        "unpickled_df_slimmed = pd.read_pickle(dst + 'slimmed_subset_df.pkl')\n"
      ],
      "execution_count": 0,
      "outputs": []
    },
    {
      "cell_type": "markdown",
      "metadata": {
        "id": "SVGGe8SAPHR6",
        "colab_type": "text"
      },
      "source": [
        "## Quick Check"
      ]
    },
    {
      "cell_type": "markdown",
      "metadata": {
        "id": "vjuTAAMUO89m",
        "colab_type": "text"
      },
      "source": [
        "During data cleaning, I found that approximately 22% of the data had identity tags. For EDA, I created a slimmed subset to explore. My initial check shows, as expected, a lack of nulls.  "
      ]
    },
    {
      "cell_type": "code",
      "metadata": {
        "colab_type": "code",
        "outputId": "b6b3babe-5bd1-45b1-a657-ea04f3693a04",
        "id": "9G6BMzYyO2fi",
        "colab": {
          "base_uri": "https://localhost:8080/",
          "height": 914
        }
      },
      "source": [
        "unpickled_df_slimmed.info()"
      ],
      "execution_count": 0,
      "outputs": [
        {
          "output_type": "stream",
          "text": [
            "<class 'pandas.core.frame.DataFrame'>\n",
            "Int64Index: 405130 entries, 4 to 1804863\n",
            "Data columns (total 46 columns):\n",
            "id                                     405130 non-null int64\n",
            "target                                 405130 non-null float64\n",
            "comment_text                           405130 non-null object\n",
            "severe_toxicity                        405130 non-null float64\n",
            "obscene                                405130 non-null float64\n",
            "identity_attack                        405130 non-null float64\n",
            "insult                                 405130 non-null float64\n",
            "threat                                 405130 non-null float64\n",
            "asian                                  405130 non-null float64\n",
            "atheist                                405130 non-null float64\n",
            "bisexual                               405130 non-null float64\n",
            "black                                  405130 non-null float64\n",
            "buddhist                               405130 non-null float64\n",
            "christian                              405130 non-null float64\n",
            "female                                 405130 non-null float64\n",
            "heterosexual                           405130 non-null float64\n",
            "hindu                                  405130 non-null float64\n",
            "homosexual_gay_or_lesbian              405130 non-null float64\n",
            "intellectual_or_learning_disability    405130 non-null float64\n",
            "jewish                                 405130 non-null float64\n",
            "latino                                 405130 non-null float64\n",
            "male                                   405130 non-null float64\n",
            "muslim                                 405130 non-null float64\n",
            "other_disability                       405130 non-null float64\n",
            "other_gender                           405130 non-null float64\n",
            "other_race_or_ethnicity                405130 non-null float64\n",
            "other_religion                         405130 non-null float64\n",
            "other_sexual_orientation               405130 non-null float64\n",
            "physical_disability                    405130 non-null float64\n",
            "psychiatric_or_mental_illness          405130 non-null float64\n",
            "transgender                            405130 non-null float64\n",
            "white                                  405130 non-null float64\n",
            "created_date                           405130 non-null object\n",
            "publication_id                         405130 non-null int64\n",
            "parent_id                              235087 non-null float64\n",
            "article_id                             405130 non-null int64\n",
            "rating                                 405130 non-null object\n",
            "funny                                  405130 non-null int64\n",
            "wow                                    405130 non-null int64\n",
            "sad                                    405130 non-null int64\n",
            "likes                                  405130 non-null int64\n",
            "disagree                               405130 non-null int64\n",
            "sexual_explicit                        405130 non-null float64\n",
            "identity_annotator_count               405130 non-null int64\n",
            "toxicity_annotator_count               405130 non-null int64\n",
            "clean_text                             405130 non-null object\n",
            "dtypes: float64(32), int64(10), object(4)\n",
            "memory usage: 145.3+ MB\n"
          ],
          "name": "stdout"
        }
      ]
    },
    {
      "cell_type": "markdown",
      "metadata": {
        "id": "BXuobNFHDqT1",
        "colab_type": "text"
      },
      "source": [
        "# Questions to ask"
      ]
    },
    {
      "cell_type": "markdown",
      "metadata": {
        "id": "MtAUxWazDqT2",
        "colab_type": "text"
      },
      "source": [
        "1) Is the number of toxic versus non-toxic comments balanced?\n",
        "  - Is the subset balanced?\n",
        "\n",
        "2) What is the frequency of words?\n",
        "  - Are the words with the highest frequency stop words? Do they provide insights?\n",
        "\n",
        "3) How do the length of comments compare to binned toxicity? i.e. low (0-.33], (0.33-.66], (0.66, 1]\n",
        "  - To the slimmed dataset?\n",
        "\n",
        "4) Is there any correlation between the identity any of the labels and target?\n",
        "\n",
        "5) How many identity labels are populated across each row in the slimmed data set?\n",
        "  - For each identity label, what is the distribution? Mean? Mode?\n",
        "\n",
        "6) What words are most prevalent within each toxicity bin? Are they the same across all 3 bins?\n"
      ]
    },
    {
      "cell_type": "markdown",
      "metadata": {
        "id": "bFgLMi4bT5oY",
        "colab_type": "text"
      },
      "source": [
        "### Question 1"
      ]
    },
    {
      "cell_type": "markdown",
      "metadata": {
        "id": "8f1FQBOC65Hk",
        "colab_type": "text"
      },
      "source": [
        "Is the number of toxic versus non-toxic comments balanced?\n",
        "  - Is the subset balanced?"
      ]
    },
    {
      "cell_type": "code",
      "metadata": {
        "id": "q_QgC9jqDqT3",
        "colab_type": "code",
        "colab": {}
      },
      "source": [
        "# adding features\n",
        "# google colab\n",
        "unpickled_df['word_count'] = unpickled_df['clean_text'].apply(lambda x: len(str(x).split()))\n",
        "unpickled_df['word_split'] = unpickled_df['clean_text'].apply(lambda x: str(x).split())\n",
        "unpickled_df['comment_len'] = unpickled_df['clean_text'].astype(str).apply(len)\n",
        "unpickled_df['target_binary'] = np.where(unpickled_df['target'] >= 0.5, 1, 0)\n",
        "\n",
        "#regular computer\n",
        "# unpickled_df['word_count'] = unpickled_df['clean_text'].swifter.apply(lambda x: len(str(x).split()))\n",
        "# unpickled_df['word_split'] = unpickled_df['clean_text'].swifter.apply(lambda x: str(x).split())\n",
        "# unpickled_df['comment_len'] = unpickled_df['clean_text'].astype(str).swifter.apply(len)\n"
      ],
      "execution_count": 0,
      "outputs": []
    },
    {
      "cell_type": "code",
      "metadata": {
        "id": "huQFlxc_4h1X",
        "colab_type": "code",
        "colab": {}
      },
      "source": [
        "# Subset of data with identity labels\n",
        "# google colab\n",
        "unpickled_df_slimmed['word_count'] = unpickled_df_slimmed['clean_text'].apply(lambda x: len(str(x).split()))\n",
        "unpickled_df_slimmed['word_split'] = unpickled_df_slimmed['clean_text'].apply(lambda x: str(x).split())\n",
        "unpickled_df_slimmed['comment_len'] = unpickled_df_slimmed['clean_text'].astype(str).apply(len)\n",
        "unpickled_df_slimmed['target_binary'] = np.where(unpickled_df_slimmed['target'] >= 0.5, 1, 0)"
      ],
      "execution_count": 0,
      "outputs": []
    },
    {
      "cell_type": "code",
      "metadata": {
        "id": "8hhP-2GqxRKl",
        "colab_type": "code",
        "outputId": "68b3633f-afbf-4dce-d15b-3976fc555835",
        "colab": {
          "base_uri": "https://localhost:8080/",
          "height": 52
        }
      },
      "source": [
        "# Check ratio of non-toxic to toxic records \n",
        "toxic_ct = unpickled_df['target_binary'].value_counts()[1]\n",
        "nontoxic_ct = unpickled_df['target_binary'].value_counts()[0]\n",
        "total_ct = toxic_ct + nontoxic_ct\n",
        "\n",
        "print('{:.2%}'.format(toxic_ct/total_ct) + ' of the full data is labelled as toxic')\n",
        "\n",
        "toxic_ct2 = unpickled_df_slimmed['target_binary'].value_counts()[1]\n",
        "nontoxic_ct2 = unpickled_df_slimmed['target_binary'].value_counts()[0]\n",
        "total_ct2 = toxic_ct2 + nontoxic_ct2\n",
        "\n",
        "print('{:.2%}'.format(toxic_ct2/total_ct2) + ' of the identity subset is labelled as toxic')"
      ],
      "execution_count": 0,
      "outputs": [
        {
          "output_type": "stream",
          "text": [
            "8.00% of the full data is labelled as toxic\n",
            "11.36% of the identity subset is labelled as toxic\n"
          ],
          "name": "stdout"
        }
      ]
    },
    {
      "cell_type": "code",
      "metadata": {
        "id": "YS_1ypzxsXsx",
        "colab_type": "code",
        "outputId": "ba7f8df1-6bdd-4174-8c10-3977eaba9ceb",
        "colab": {
          "base_uri": "https://localhost:8080/",
          "height": 319
        }
      },
      "source": [
        "# Full data set\n",
        "ax = sns.countplot(y=\"target_binary\", data=unpickled_df)\n",
        "plt.title('Distribution of Toxicity vs. Non-toxicity')\n",
        "plt.xlabel('Percent')\n",
        "ax.set_xticklabels(ax.get_xticklabels(), rotation=30)\n",
        "ax.xaxis.set_major_formatter(mtick.FuncFormatter(lambda x, pos: '{:,.2f}'.format(x/1000) + 'K'))\n",
        "\n",
        "total = len(unpickled_df['target_binary'])\n",
        "for p in ax.patches:\n",
        "        percentage = '{:.1f}%'.format(100 * p.get_width()/total)\n",
        "        x = p.get_x() + p.get_width() + 0.02\n",
        "        y = p.get_y() + p.get_height()/2\n",
        "        ax.annotate(percentage, (x, y))"
      ],
      "execution_count": 0,
      "outputs": [
        {
          "output_type": "display_data",
          "data": {
            "image/png": "[encoded data removed]",
            "text/plain": [
              "<Figure size 432x288 with 1 Axes>"
            ]
          },
          "metadata": {
            "tags": []
          }
        }
      ]
    },
    {
      "cell_type": "code",
      "metadata": {
        "id": "aLi4L-4u_j5k",
        "colab_type": "code",
        "outputId": "224f187d-9a3f-48b5-923b-0a652ebc981c",
        "colab": {
          "base_uri": "https://localhost:8080/",
          "height": 315
        }
      },
      "source": [
        "# slimmed data set\n",
        "ax2 = sns.countplot(y=\"target_binary\", data=unpickled_df_slimmed)\n",
        "plt.title('Distribution of Toxicity vs. Non-toxicity')\n",
        "plt.xlabel('Percent')\n",
        "ax2.set_xticklabels(ax2.get_xticklabels(), rotation=30)\n",
        "ax2.xaxis.set_major_formatter(mtick.FuncFormatter(lambda x, pos: '{:,.2f}'.format(x/1000) + 'K'))\n",
        "\n",
        "total = len(unpickled_df_slimmed['target_binary'])\n",
        "for p in ax2.patches:\n",
        "        percentage = '{:.1f}%'.format(100 * p.get_width()/total)\n",
        "        x = p.get_x() + p.get_width() + 0.02\n",
        "        y = p.get_y() + p.get_height()/2\n",
        "        ax2.annotate(percentage, (x, y))"
      ],
      "execution_count": 0,
      "outputs": [
        {
          "output_type": "display_data",
          "data": {
            "image/png": "[encoded data removed]",
            "text/plain": [
              "<Figure size 432x288 with 1 Axes>"
            ]
          },
          "metadata": {
            "tags": []
          }
        }
      ]
    },
    {
      "cell_type": "markdown",
      "metadata": {
        "id": "PdMftqs56_N5",
        "colab_type": "text"
      },
      "source": [
        "Neither the full data nor the identity subset are balanced between toxic and non-toxic comments. Given the imbalance, I cannot naively use model accuracy as my only metric for determining success. A confusion matrix, precision and recall should also be used to determine model success."
      ]
    },
    {
      "cell_type": "markdown",
      "metadata": {
        "id": "UQHFH1eRAnGe",
        "colab_type": "text"
      },
      "source": [
        "### Question 2"
      ]
    },
    {
      "cell_type": "markdown",
      "metadata": {
        "id": "5Y-3wRurAUU9",
        "colab_type": "text"
      },
      "source": [
        "  - What is the frequency of words?\n",
        "  - Are the words with the highest frequency stop words? Do they provide insights?"
      ]
    },
    {
      "cell_type": "code",
      "metadata": {
        "id": "YWWyTFPB811k",
        "colab_type": "code",
        "colab": {}
      },
      "source": [
        "def words_top_n(corpus, n_words = None, vectorizer=None):\n",
        "    if vectorizer is None:\n",
        "        print('Vectorizer not selected ... using CountVectorizer (unigram)')\n",
        "    else:\n",
        "        print('Vectorizer HAS been selected ... using the provided vectorizer: ', vectorizer)\n",
        "\n",
        "    if vectorizer is None:\n",
        "        vectorizer = CountVectorizer()\n",
        "    \n",
        "    bag_of_words = vectorizer.fit_transform(corpus)\n",
        "    sum_words = bag_of_words.sum(axis=0) \n",
        "    words_freq = [(word, sum_words[0, idx]) for word, idx in vectorizer.vocabulary_.items()]\n",
        "    words_freq =sorted(words_freq, key = lambda x: x[1], reverse=True)\n",
        "\n",
        "    return words_freq[:n_words]"
      ],
      "execution_count": 0,
      "outputs": []
    },
    {
      "cell_type": "code",
      "metadata": {
        "id": "A0cT_i_USiav",
        "colab_type": "code",
        "outputId": "3c526a3c-6c86-4fd7-dad8-fa5b61c57615",
        "colab": {
          "base_uri": "https://localhost:8080/",
          "height": 386
        }
      },
      "source": [
        "# Unigram\n",
        "common_words = words_top_n(unpickled_df.clean_text, 20)\n",
        "for word, freq in common_words:\n",
        "    print(word, freq)"
      ],
      "execution_count": 0,
      "outputs": [
        {
          "output_type": "stream",
          "text": [
            "The value of vectorizer is None ... using CountVectorizer (unigram)\n",
            "the 4745610\n",
            "to 2658477\n",
            "and 2270193\n",
            "of 2053052\n",
            "is 1525618\n",
            "in 1394292\n",
            "that 1303724\n",
            "for 958144\n",
            "you 954547\n",
            "it 906559\n",
            "are 753675\n",
            "not 714946\n",
            "be 639042\n",
            "have 619586\n",
            "on 617176\n",
            "this 588960\n",
            "with 585841\n",
            "they 574212\n",
            "as 536400\n",
            "was 445466\n"
          ],
          "name": "stdout"
        }
      ]
    },
    {
      "cell_type": "markdown",
      "metadata": {
        "id": "GegO7diiUP7s",
        "colab_type": "text"
      },
      "source": [
        "The top 20 words, using uni-grams, are mostly stop words which isn't very enlightening. During EDA, I made the decision to keep stop words as they can lend sentiment insight. However, on their own, stop words tend to create noise when looking at uni-grams. Next up, I will be using bi-grams to find the 20 most common pair of words in an attempt to mitigate some of the noise."
      ]
    },
    {
      "cell_type": "code",
      "metadata": {
        "colab_type": "code",
        "outputId": "7b0326b3-b0ba-4455-9be7-b30ff5977826",
        "id": "wc7vhGafT3Tj",
        "colab": {
          "base_uri": "https://localhost:8080/",
          "height": 474
        }
      },
      "source": [
        "# Bi-gram\n",
        "common_words = words_top_n(unpickled_df.clean_text, 20, CountVectorizer(ngram_range=(2,2)))\n",
        "for word, freq in common_words:\n",
        "    print(word, freq)"
      ],
      "execution_count": 0,
      "outputs": [
        {
          "output_type": "stream",
          "text": [
            "The value of vectorizer is NOT None ... using the provided vectorizer:  CountVectorizer(analyzer='word', binary=False, decode_error='strict',\n",
            "                dtype=<class 'numpy.int64'>, encoding='utf-8', input='content',\n",
            "                lowercase=True, max_df=1.0, max_features=None, min_df=1,\n",
            "                ngram_range=(2, 2), preprocessor=None, stop_words=None,\n",
            "                strip_accents=None, token_pattern='(?u)\\\\b\\\\w\\\\w+\\\\b',\n",
            "                tokenizer=None, vocabulary=None)\n",
            "of the 421749\n",
            "in the 344600\n",
            "to the 208442\n",
            "to be 175219\n",
            "for the 156030\n",
            "on the 154891\n",
            "it is 150264\n",
            "and the 142674\n",
            "is the 102318\n",
            "that the 101395\n",
            "with the 100884\n",
            "is not 92080\n",
            "they are 89520\n",
            "this is 88004\n",
            "from the 81814\n",
            "you are 80712\n",
            "at the 80035\n",
            "by the 79303\n",
            "if you 78032\n",
            "there is 76685\n"
          ],
          "name": "stdout"
        }
      ]
    },
    {
      "cell_type": "code",
      "metadata": {
        "colab_type": "code",
        "outputId": "e59650d6-a01b-4d2b-976d-344b24f43c4c",
        "id": "fWlEG9M5WPgG",
        "colab": {
          "base_uri": "https://localhost:8080/",
          "height": 474
        }
      },
      "source": [
        "# Tri-gram\n",
        "common_words = words_top_n(unpickled_df.clean_text, 20, CountVectorizer(ngram_range=(3,3)))\n",
        "for word, freq in common_words:\n",
        "    print(word, freq)"
      ],
      "execution_count": 0,
      "outputs": [
        {
          "output_type": "stream",
          "text": [
            "The value of vectorizer is NOT None ... using the provided vectorizer:  CountVectorizer(analyzer='word', binary=False, decode_error='strict',\n",
            "                dtype=<class 'numpy.int64'>, encoding='utf-8', input='content',\n",
            "                lowercase=True, max_df=1.0, max_features=None, min_df=1,\n",
            "                ngram_range=(3, 3), preprocessor=None, stop_words=None,\n",
            "                strip_accents=None, token_pattern='(?u)\\\\b\\\\w\\\\w+\\\\b',\n",
            "                tokenizer=None, vocabulary=None)\n",
            "there is no 23634\n",
            "one of the 22366\n",
            "the rest of 18333\n",
            "to do with 18205\n",
            "the fact that 16087\n",
            "out of the 15381\n",
            "part of the 14867\n",
            "in the us 13398\n",
            "is going to 13224\n",
            "it is not 12836\n",
            "be able to 12769\n",
            "it would be 12301\n",
            "the united states 11962\n",
            "we need to 11207\n",
            "in the world 11109\n",
            "as well as 10878\n",
            "you want to 10650\n",
            "some of the 10021\n",
            "going to be 10013\n",
            "this is the 9905\n"
          ],
          "name": "stdout"
        }
      ]
    },
    {
      "cell_type": "markdown",
      "metadata": {
        "id": "KEiT_jadfPsa",
        "colab_type": "text"
      },
      "source": [
        "Between the 20 most common uni-, bi-, and tri-grams, it appears tri-grams provide the best insight due to the context stop words contribute. "
      ]
    },
    {
      "cell_type": "markdown",
      "metadata": {
        "id": "OJ5x_xFndwjv",
        "colab_type": "text"
      },
      "source": [
        "## Question 3\n"
      ]
    },
    {
      "cell_type": "markdown",
      "metadata": {
        "id": "WlCVgIeDd1tU",
        "colab_type": "text"
      },
      "source": [
        "How do the length of comments compare to binned toxicity? i.e. low [0-.33], (0.33-.66], (0.66, 1]\n",
        "  - To the slimmed dataset?"
      ]
    },
    {
      "cell_type": "code",
      "metadata": {
        "scrolled": true,
        "id": "uusLrxr9DqT7",
        "colab_type": "code",
        "colab": {}
      },
      "source": [
        "unpickled_df['Toxicity_Bins'] = unpickled_df['target'].apply(lambda x: 'Low' if x <= 0.33 else 'Neutral' if x <= 0.66 else 'High')\n",
        "unpickled_df_slimmed['Toxicity_Bins'] = unpickled_df_slimmed['target'].apply(lambda x: 'Low' if x <= 0.33 else 'Neutral' if x <= 0.66 else 'High')"
      ],
      "execution_count": 0,
      "outputs": []
    },
    {
      "cell_type": "code",
      "metadata": {
        "id": "bdT68Cf8gnKJ",
        "colab_type": "code",
        "outputId": "74ab9d1f-f999-4f46-d160-3e1b45482126",
        "colab": {
          "base_uri": "https://localhost:8080/",
          "height": 87
        }
      },
      "source": [
        "unpickled_df.Toxicity_Bins.value_counts()"
      ],
      "execution_count": 0,
      "outputs": [
        {
          "output_type": "execute_result",
          "data": {
            "text/plain": [
              "Low        1599345\n",
              "Neutral     141091\n",
              "High         64438\n",
              "Name: Toxicity_Bins, dtype: int64"
            ]
          },
          "metadata": {
            "tags": []
          },
          "execution_count": 36
        }
      ]
    },
    {
      "cell_type": "code",
      "metadata": {
        "colab_type": "code",
        "outputId": "47eb6f09-5a02-4321-f0fc-5f99ad141188",
        "id": "q3Fb4zXg8EpO",
        "colab": {
          "base_uri": "https://localhost:8080/",
          "height": 87
        }
      },
      "source": [
        "unpickled_df_slimmed.Toxicity_Bins.value_counts()"
      ],
      "execution_count": 0,
      "outputs": [
        {
          "output_type": "execute_result",
          "data": {
            "text/plain": [
              "Low        338361\n",
              "Neutral     48266\n",
              "High        18503\n",
              "Name: Toxicity_Bins, dtype: int64"
            ]
          },
          "metadata": {
            "tags": []
          },
          "execution_count": 37
        }
      ]
    },
    {
      "cell_type": "code",
      "metadata": {
        "id": "1JZwWtmIEkb8",
        "colab_type": "code",
        "outputId": "c0c0ac02-3282-4dd2-e3c5-90e7dc5a0431",
        "colab": {
          "base_uri": "https://localhost:8080/",
          "height": 34
        }
      },
      "source": [
        "unpickled_df[unpickled_df.Toxicity_Bins == 'Low'].comment_len.max()"
      ],
      "execution_count": 0,
      "outputs": [
        {
          "output_type": "execute_result",
          "data": {
            "text/plain": [
              "1856"
            ]
          },
          "metadata": {
            "tags": []
          },
          "execution_count": 80
        }
      ]
    },
    {
      "cell_type": "code",
      "metadata": {
        "id": "_gfvNJJT3-YG",
        "colab_type": "code",
        "outputId": "c94559d8-c1d8-4f42-995e-a1d81c431a4f",
        "colab": {
          "base_uri": "https://localhost:8080/",
          "height": 304
        }
      },
      "source": [
        "unpickled_df[unpickled_df.Toxicity_Bins == 'High'].describe()"
      ],
      "execution_count": 0,
      "outputs": [
        {
          "output_type": "execute_result",
          "data": {
            "text/html": [
              "<div>\n",
              "<style scoped>\n",
              "    .dataframe tbody tr th:only-of-type {\n",
              "        vertical-align: middle;\n",
              "    }\n",
              "\n",
              "    .dataframe tbody tr th {\n",
              "        vertical-align: top;\n",
              "    }\n",
              "\n",
              "    .dataframe thead th {\n",
              "        text-align: right;\n",
              "    }\n",
              "</style>\n",
              "<table border=\"1\" class=\"dataframe\">\n",
              "  <thead>\n",
              "    <tr style=\"text-align: right;\">\n",
              "      <th></th>\n",
              "      <th>id</th>\n",
              "      <th>target</th>\n",
              "      <th>severe_toxicity</th>\n",
              "      <th>obscene</th>\n",
              "      <th>identity_attack</th>\n",
              "      <th>insult</th>\n",
              "      <th>threat</th>\n",
              "      <th>asian</th>\n",
              "      <th>atheist</th>\n",
              "      <th>bisexual</th>\n",
              "      <th>black</th>\n",
              "      <th>buddhist</th>\n",
              "      <th>christian</th>\n",
              "      <th>female</th>\n",
              "      <th>heterosexual</th>\n",
              "      <th>hindu</th>\n",
              "      <th>homosexual_gay_or_lesbian</th>\n",
              "      <th>intellectual_or_learning_disability</th>\n",
              "      <th>jewish</th>\n",
              "      <th>latino</th>\n",
              "      <th>male</th>\n",
              "      <th>muslim</th>\n",
              "      <th>other_disability</th>\n",
              "      <th>other_gender</th>\n",
              "      <th>other_race_or_ethnicity</th>\n",
              "      <th>other_religion</th>\n",
              "      <th>other_sexual_orientation</th>\n",
              "      <th>physical_disability</th>\n",
              "      <th>psychiatric_or_mental_illness</th>\n",
              "      <th>transgender</th>\n",
              "      <th>white</th>\n",
              "      <th>publication_id</th>\n",
              "      <th>parent_id</th>\n",
              "      <th>article_id</th>\n",
              "      <th>funny</th>\n",
              "      <th>wow</th>\n",
              "      <th>sad</th>\n",
              "      <th>likes</th>\n",
              "      <th>disagree</th>\n",
              "      <th>sexual_explicit</th>\n",
              "      <th>identity_annotator_count</th>\n",
              "      <th>toxicity_annotator_count</th>\n",
              "      <th>word_count</th>\n",
              "      <th>comment_len</th>\n",
              "      <th>target_binary</th>\n",
              "    </tr>\n",
              "  </thead>\n",
              "  <tbody>\n",
              "    <tr>\n",
              "      <th>count</th>\n",
              "      <td>6.443800e+04</td>\n",
              "      <td>64438.000000</td>\n",
              "      <td>64438.000000</td>\n",
              "      <td>64438.000000</td>\n",
              "      <td>64438.000000</td>\n",
              "      <td>64438.000000</td>\n",
              "      <td>64438.000000</td>\n",
              "      <td>18503.000000</td>\n",
              "      <td>18503.000000</td>\n",
              "      <td>18503.000000</td>\n",
              "      <td>18503.000000</td>\n",
              "      <td>18503.000000</td>\n",
              "      <td>18503.000000</td>\n",
              "      <td>18503.000000</td>\n",
              "      <td>18503.000000</td>\n",
              "      <td>18503.000000</td>\n",
              "      <td>18503.000000</td>\n",
              "      <td>18503.000000</td>\n",
              "      <td>18503.000000</td>\n",
              "      <td>18503.000000</td>\n",
              "      <td>18503.000000</td>\n",
              "      <td>18503.000000</td>\n",
              "      <td>18503.000000</td>\n",
              "      <td>18503.000000</td>\n",
              "      <td>18503.000000</td>\n",
              "      <td>18503.000000</td>\n",
              "      <td>18503.000000</td>\n",
              "      <td>18503.000000</td>\n",
              "      <td>18503.000000</td>\n",
              "      <td>18503.000000</td>\n",
              "      <td>18503.000000</td>\n",
              "      <td>64438.000000</td>\n",
              "      <td>3.380600e+04</td>\n",
              "      <td>64438.000000</td>\n",
              "      <td>64438.000000</td>\n",
              "      <td>64438.000000</td>\n",
              "      <td>64438.000000</td>\n",
              "      <td>64438.000000</td>\n",
              "      <td>64438.000000</td>\n",
              "      <td>64438.000000</td>\n",
              "      <td>64438.000000</td>\n",
              "      <td>64438.000000</td>\n",
              "      <td>64438.000000</td>\n",
              "      <td>64438.000000</td>\n",
              "      <td>64438.0</td>\n",
              "    </tr>\n",
              "    <tr>\n",
              "      <th>mean</th>\n",
              "      <td>3.774513e+06</td>\n",
              "      <td>0.789406</td>\n",
              "      <td>0.038535</td>\n",
              "      <td>0.163240</td>\n",
              "      <td>0.111026</td>\n",
              "      <td>0.693207</td>\n",
              "      <td>0.048128</td>\n",
              "      <td>0.010595</td>\n",
              "      <td>0.003550</td>\n",
              "      <td>0.002212</td>\n",
              "      <td>0.086540</td>\n",
              "      <td>0.001108</td>\n",
              "      <td>0.060740</td>\n",
              "      <td>0.142233</td>\n",
              "      <td>0.004688</td>\n",
              "      <td>0.001039</td>\n",
              "      <td>0.055851</td>\n",
              "      <td>0.003767</td>\n",
              "      <td>0.021368</td>\n",
              "      <td>0.007981</td>\n",
              "      <td>0.134088</td>\n",
              "      <td>0.089202</td>\n",
              "      <td>0.001331</td>\n",
              "      <td>0.001044</td>\n",
              "      <td>0.009099</td>\n",
              "      <td>0.006156</td>\n",
              "      <td>0.002109</td>\n",
              "      <td>0.001454</td>\n",
              "      <td>0.024435</td>\n",
              "      <td>0.009211</td>\n",
              "      <td>0.122127</td>\n",
              "      <td>52.011003</td>\n",
              "      <td>3.674471e+06</td>\n",
              "      <td>282920.031829</td>\n",
              "      <td>0.240479</td>\n",
              "      <td>0.046168</td>\n",
              "      <td>0.113179</td>\n",
              "      <td>2.355722</td>\n",
              "      <td>0.584484</td>\n",
              "      <td>0.044646</td>\n",
              "      <td>2.094882</td>\n",
              "      <td>56.862038</td>\n",
              "      <td>40.489339</td>\n",
              "      <td>222.556504</td>\n",
              "      <td>1.0</td>\n",
              "    </tr>\n",
              "    <tr>\n",
              "      <th>std</th>\n",
              "      <td>2.452146e+06</td>\n",
              "      <td>0.091858</td>\n",
              "      <td>0.052395</td>\n",
              "      <td>0.212915</td>\n",
              "      <td>0.198468</td>\n",
              "      <td>0.199005</td>\n",
              "      <td>0.144584</td>\n",
              "      <td>0.083039</td>\n",
              "      <td>0.055026</td>\n",
              "      <td>0.029997</td>\n",
              "      <td>0.266237</td>\n",
              "      <td>0.026257</td>\n",
              "      <td>0.215803</td>\n",
              "      <td>0.316423</td>\n",
              "      <td>0.053612</td>\n",
              "      <td>0.024521</td>\n",
              "      <td>0.213728</td>\n",
              "      <td>0.024955</td>\n",
              "      <td>0.135759</td>\n",
              "      <td>0.066895</td>\n",
              "      <td>0.289778</td>\n",
              "      <td>0.269871</td>\n",
              "      <td>0.014419</td>\n",
              "      <td>0.012261</td>\n",
              "      <td>0.045722</td>\n",
              "      <td>0.037515</td>\n",
              "      <td>0.019280</td>\n",
              "      <td>0.016574</td>\n",
              "      <td>0.121709</td>\n",
              "      <td>0.082634</td>\n",
              "      <td>0.308633</td>\n",
              "      <td>30.278677</td>\n",
              "      <td>2.468420e+06</td>\n",
              "      <td>104022.194944</td>\n",
              "      <td>0.970710</td>\n",
              "      <td>0.245247</td>\n",
              "      <td>0.467176</td>\n",
              "      <td>4.753120</td>\n",
              "      <td>1.822958</td>\n",
              "      <td>0.142388</td>\n",
              "      <td>27.011347</td>\n",
              "      <td>170.619112</td>\n",
              "      <td>37.587632</td>\n",
              "      <td>208.790573</td>\n",
              "      <td>0.0</td>\n",
              "    </tr>\n",
              "    <tr>\n",
              "      <th>min</th>\n",
              "      <td>5.985600e+04</td>\n",
              "      <td>0.660377</td>\n",
              "      <td>0.000000</td>\n",
              "      <td>0.000000</td>\n",
              "      <td>0.000000</td>\n",
              "      <td>0.000000</td>\n",
              "      <td>0.000000</td>\n",
              "      <td>0.000000</td>\n",
              "      <td>0.000000</td>\n",
              "      <td>0.000000</td>\n",
              "      <td>0.000000</td>\n",
              "      <td>0.000000</td>\n",
              "      <td>0.000000</td>\n",
              "      <td>0.000000</td>\n",
              "      <td>0.000000</td>\n",
              "      <td>0.000000</td>\n",
              "      <td>0.000000</td>\n",
              "      <td>0.000000</td>\n",
              "      <td>0.000000</td>\n",
              "      <td>0.000000</td>\n",
              "      <td>0.000000</td>\n",
              "      <td>0.000000</td>\n",
              "      <td>0.000000</td>\n",
              "      <td>0.000000</td>\n",
              "      <td>0.000000</td>\n",
              "      <td>0.000000</td>\n",
              "      <td>0.000000</td>\n",
              "      <td>0.000000</td>\n",
              "      <td>0.000000</td>\n",
              "      <td>0.000000</td>\n",
              "      <td>0.000000</td>\n",
              "      <td>2.000000</td>\n",
              "      <td>2.210600e+05</td>\n",
              "      <td>2006.000000</td>\n",
              "      <td>0.000000</td>\n",
              "      <td>0.000000</td>\n",
              "      <td>0.000000</td>\n",
              "      <td>0.000000</td>\n",
              "      <td>0.000000</td>\n",
              "      <td>0.000000</td>\n",
              "      <td>0.000000</td>\n",
              "      <td>4.000000</td>\n",
              "      <td>1.000000</td>\n",
              "      <td>3.000000</td>\n",
              "      <td>1.0</td>\n",
              "    </tr>\n",
              "    <tr>\n",
              "      <th>25%</th>\n",
              "      <td>7.976302e+05</td>\n",
              "      <td>0.700000</td>\n",
              "      <td>0.000000</td>\n",
              "      <td>0.000000</td>\n",
              "      <td>0.000000</td>\n",
              "      <td>0.625000</td>\n",
              "      <td>0.000000</td>\n",
              "      <td>0.000000</td>\n",
              "      <td>0.000000</td>\n",
              "      <td>0.000000</td>\n",
              "      <td>0.000000</td>\n",
              "      <td>0.000000</td>\n",
              "      <td>0.000000</td>\n",
              "      <td>0.000000</td>\n",
              "      <td>0.000000</td>\n",
              "      <td>0.000000</td>\n",
              "      <td>0.000000</td>\n",
              "      <td>0.000000</td>\n",
              "      <td>0.000000</td>\n",
              "      <td>0.000000</td>\n",
              "      <td>0.000000</td>\n",
              "      <td>0.000000</td>\n",
              "      <td>0.000000</td>\n",
              "      <td>0.000000</td>\n",
              "      <td>0.000000</td>\n",
              "      <td>0.000000</td>\n",
              "      <td>0.000000</td>\n",
              "      <td>0.000000</td>\n",
              "      <td>0.000000</td>\n",
              "      <td>0.000000</td>\n",
              "      <td>0.000000</td>\n",
              "      <td>21.000000</td>\n",
              "      <td>7.765885e+05</td>\n",
              "      <td>160142.500000</td>\n",
              "      <td>0.000000</td>\n",
              "      <td>0.000000</td>\n",
              "      <td>0.000000</td>\n",
              "      <td>0.000000</td>\n",
              "      <td>0.000000</td>\n",
              "      <td>0.000000</td>\n",
              "      <td>0.000000</td>\n",
              "      <td>10.000000</td>\n",
              "      <td>14.000000</td>\n",
              "      <td>78.000000</td>\n",
              "      <td>1.0</td>\n",
              "    </tr>\n",
              "    <tr>\n",
              "      <th>50%</th>\n",
              "      <td>5.260946e+06</td>\n",
              "      <td>0.787500</td>\n",
              "      <td>0.017544</td>\n",
              "      <td>0.100000</td>\n",
              "      <td>0.016667</td>\n",
              "      <td>0.712500</td>\n",
              "      <td>0.000000</td>\n",
              "      <td>0.000000</td>\n",
              "      <td>0.000000</td>\n",
              "      <td>0.000000</td>\n",
              "      <td>0.000000</td>\n",
              "      <td>0.000000</td>\n",
              "      <td>0.000000</td>\n",
              "      <td>0.000000</td>\n",
              "      <td>0.000000</td>\n",
              "      <td>0.000000</td>\n",
              "      <td>0.000000</td>\n",
              "      <td>0.000000</td>\n",
              "      <td>0.000000</td>\n",
              "      <td>0.000000</td>\n",
              "      <td>0.000000</td>\n",
              "      <td>0.000000</td>\n",
              "      <td>0.000000</td>\n",
              "      <td>0.000000</td>\n",
              "      <td>0.000000</td>\n",
              "      <td>0.000000</td>\n",
              "      <td>0.000000</td>\n",
              "      <td>0.000000</td>\n",
              "      <td>0.000000</td>\n",
              "      <td>0.000000</td>\n",
              "      <td>0.000000</td>\n",
              "      <td>54.000000</td>\n",
              "      <td>5.213989e+06</td>\n",
              "      <td>334542.500000</td>\n",
              "      <td>0.000000</td>\n",
              "      <td>0.000000</td>\n",
              "      <td>0.000000</td>\n",
              "      <td>1.000000</td>\n",
              "      <td>0.000000</td>\n",
              "      <td>0.000000</td>\n",
              "      <td>0.000000</td>\n",
              "      <td>53.000000</td>\n",
              "      <td>28.000000</td>\n",
              "      <td>153.000000</td>\n",
              "      <td>1.0</td>\n",
              "    </tr>\n",
              "    <tr>\n",
              "      <th>75%</th>\n",
              "      <td>5.811344e+06</td>\n",
              "      <td>0.833333</td>\n",
              "      <td>0.058824</td>\n",
              "      <td>0.200000</td>\n",
              "      <td>0.100000</td>\n",
              "      <td>0.815789</td>\n",
              "      <td>0.014706</td>\n",
              "      <td>0.000000</td>\n",
              "      <td>0.000000</td>\n",
              "      <td>0.000000</td>\n",
              "      <td>0.000000</td>\n",
              "      <td>0.000000</td>\n",
              "      <td>0.000000</td>\n",
              "      <td>0.000000</td>\n",
              "      <td>0.000000</td>\n",
              "      <td>0.000000</td>\n",
              "      <td>0.000000</td>\n",
              "      <td>0.000000</td>\n",
              "      <td>0.000000</td>\n",
              "      <td>0.000000</td>\n",
              "      <td>0.000000</td>\n",
              "      <td>0.000000</td>\n",
              "      <td>0.000000</td>\n",
              "      <td>0.000000</td>\n",
              "      <td>0.000000</td>\n",
              "      <td>0.000000</td>\n",
              "      <td>0.000000</td>\n",
              "      <td>0.000000</td>\n",
              "      <td>0.000000</td>\n",
              "      <td>0.000000</td>\n",
              "      <td>0.000000</td>\n",
              "      <td>55.000000</td>\n",
              "      <td>5.790435e+06</td>\n",
              "      <td>368491.000000</td>\n",
              "      <td>0.000000</td>\n",
              "      <td>0.000000</td>\n",
              "      <td>0.000000</td>\n",
              "      <td>3.000000</td>\n",
              "      <td>0.000000</td>\n",
              "      <td>0.000000</td>\n",
              "      <td>4.000000</td>\n",
              "      <td>68.000000</td>\n",
              "      <td>53.000000</td>\n",
              "      <td>293.000000</td>\n",
              "      <td>1.0</td>\n",
              "    </tr>\n",
              "    <tr>\n",
              "      <th>max</th>\n",
              "      <td>6.333927e+06</td>\n",
              "      <td>1.000000</td>\n",
              "      <td>1.000000</td>\n",
              "      <td>1.000000</td>\n",
              "      <td>1.000000</td>\n",
              "      <td>1.000000</td>\n",
              "      <td>1.000000</td>\n",
              "      <td>1.000000</td>\n",
              "      <td>1.000000</td>\n",
              "      <td>1.000000</td>\n",
              "      <td>1.000000</td>\n",
              "      <td>1.000000</td>\n",
              "      <td>1.000000</td>\n",
              "      <td>1.000000</td>\n",
              "      <td>1.000000</td>\n",
              "      <td>1.000000</td>\n",
              "      <td>1.000000</td>\n",
              "      <td>0.500000</td>\n",
              "      <td>1.000000</td>\n",
              "      <td>1.000000</td>\n",
              "      <td>1.000000</td>\n",
              "      <td>1.000000</td>\n",
              "      <td>0.300000</td>\n",
              "      <td>0.250000</td>\n",
              "      <td>1.000000</td>\n",
              "      <td>1.000000</td>\n",
              "      <td>0.600000</td>\n",
              "      <td>0.500000</td>\n",
              "      <td>1.000000</td>\n",
              "      <td>1.000000</td>\n",
              "      <td>1.000000</td>\n",
              "      <td>111.000000</td>\n",
              "      <td>6.333648e+06</td>\n",
              "      <td>399529.000000</td>\n",
              "      <td>95.000000</td>\n",
              "      <td>5.000000</td>\n",
              "      <td>16.000000</td>\n",
              "      <td>166.000000</td>\n",
              "      <td>96.000000</td>\n",
              "      <td>1.000000</td>\n",
              "      <td>1838.000000</td>\n",
              "      <td>4936.000000</td>\n",
              "      <td>311.000000</td>\n",
              "      <td>993.000000</td>\n",
              "      <td>1.0</td>\n",
              "    </tr>\n",
              "  </tbody>\n",
              "</table>\n",
              "</div>"
            ],
            "text/plain": [
              "                 id        target  ...   comment_len  target_binary\n",
              "count  6.443800e+04  64438.000000  ...  64438.000000        64438.0\n",
              "mean   3.774513e+06      0.789406  ...    222.556504            1.0\n",
              "std    2.452146e+06      0.091858  ...    208.790573            0.0\n",
              "min    5.985600e+04      0.660377  ...      3.000000            1.0\n",
              "25%    7.976302e+05      0.700000  ...     78.000000            1.0\n",
              "50%    5.260946e+06      0.787500  ...    153.000000            1.0\n",
              "75%    5.811344e+06      0.833333  ...    293.000000            1.0\n",
              "max    6.333927e+06      1.000000  ...    993.000000            1.0\n",
              "\n",
              "[8 rows x 45 columns]"
            ]
          },
          "metadata": {
            "tags": []
          },
          "execution_count": 104
        }
      ]
    },
    {
      "cell_type": "code",
      "metadata": {
        "id": "BH9morWcFiSb",
        "colab_type": "code",
        "outputId": "8f1d8506-775a-4e79-d8b5-4b3c6a7bce7e",
        "colab": {
          "base_uri": "https://localhost:8080/",
          "height": 54
        }
      },
      "source": [
        "list(unpickled_df[unpickled_df.comment_len == 1856].clean_text)"
      ],
      "execution_count": 0,
      "outputs": [
        {
          "output_type": "execute_result",
          "data": {
            "text/plain": [
              "['predatory patrol towing isnt a big subject and there is no advocacy group that is paying any attention to it but the city of portland has completely backed off of enforcing state law where the towing predators are operating on private property and this is commissioner novicks failure hes in charge of towing the city has allowed retriever towing to operate in open violation of ada for years at their nw quimby lot and there is absolutely no provision in city ordinance that takes into account when they tow a mobilitydisabled persons vehicle wheelchair or no wheelchair the person has to get themselves to the tow yard which does not have wheelchair access led by senator avel gordly the legislature enacted important new citizen protections against predatory towing effective january 1 2008 but there is no effective way for portlanders to learn what their rights are other than what the predatory towers themselves tell you a description of the protections has never appeared on the city website the version posted there has never been correct it is only in the past two years the the city began enforcing the signage requirements and the city towing coordinator worked with the towers to pass the costs onto the citizens 20 of every tow bill goes to the towers to compensate them for their signs with no upper limit and your 20 is likely to be paying for signs completely unrelated to the place your vehicle was towed from portland towers are allowed to operate in open violation of state law and the citys own statutes providing towing services to property owners for free that is specifically prohibited by state law and city ordinance senator gordlys legislation was intended to protect people living in apartment complexes generally lowincome minority populations and they have no one standing up for them in city hall i hope you are that champion']"
            ]
          },
          "metadata": {
            "tags": []
          },
          "execution_count": 81
        }
      ]
    },
    {
      "cell_type": "code",
      "metadata": {
        "id": "KlpqMngUdWDo",
        "colab_type": "code",
        "outputId": "2e934bfc-4bbc-43e1-e7a5-f1cf0458a616",
        "colab": {
          "base_uri": "https://localhost:8080/",
          "height": 530
        }
      },
      "source": [
        "fig_dims = (12, 8)\n",
        "fig, ax = plt.subplots(figsize=fig_dims)\n",
        "\n",
        "df = unpickled_df[unpickled_df.Toxicity_Bins == 'High']\n",
        "sns.distplot(df['comment_len'], kde=False, norm_hist = True, label='High', ax=ax)\n",
        "\n",
        "df =unpickled_df[unpickled_df.Toxicity_Bins == 'Neutral']\n",
        "sns.distplot(df['comment_len'], kde=False, norm_hist = True, label='Neutral', ax=ax)\n",
        "\n",
        "df =unpickled_df[unpickled_df.Toxicity_Bins == 'Low']\n",
        "sns.distplot(df['comment_len'], kde=False, norm_hist = True, label='Low', ax=ax)\n",
        "\n",
        "# Plot formatting\n",
        "plt.legend(prop={'size': 12})\n",
        "plt.title('Comment Length of Toxicity Bins')\n",
        "plt.xlabel('Comment Length')\n",
        "plt.ylabel('Density')"
      ],
      "execution_count": 0,
      "outputs": [
        {
          "output_type": "execute_result",
          "data": {
            "text/plain": [
              "Text(0, 0.5, 'Density')"
            ]
          },
          "metadata": {
            "tags": []
          },
          "execution_count": 77
        },
        {
          "output_type": "display_data",
          "data": {
            "image/png": "[encoded data removed]",
            "text/plain": [
              "<Figure size 864x576 with 1 Axes>"
            ]
          },
          "metadata": {
            "tags": []
          }
        }
      ]
    },
    {
      "cell_type": "markdown",
      "metadata": {
        "id": "7NSeW9nW718x",
        "colab_type": "text"
      },
      "source": [
        "It's a little difficult to glean much from the above graph. The most I can say for certain is the 'high' toxicity bin, 0.66+, has more comments with length between 50-200. Let's split them into 3 subplots to see if that adds any additional information."
      ]
    },
    {
      "cell_type": "code",
      "metadata": {
        "id": "ndJXksso3XHU",
        "colab_type": "code",
        "outputId": "3b9efb9b-245c-4d19-9c46-41c95bcc76ce",
        "colab": {
          "base_uri": "https://localhost:8080/",
          "height": 323
        }
      },
      "source": [
        "fig, ax =plt.subplots(1,3, sharey=True)#, sharex=True)\n",
        "\n",
        "df = unpickled_df[unpickled_df.Toxicity_Bins == 'High']\n",
        "sns.distplot(df['comment_len'], kde=False, norm_hist = True, color = 'r', axlabel='High', ax=ax[0])\n",
        "\n",
        "df =unpickled_df[unpickled_df.Toxicity_Bins == 'Neutral']\n",
        "sns.distplot(df['comment_len'], kde=False, norm_hist = True, color = 'g', axlabel='Neutral', ax=ax[1])\n",
        "\n",
        "df =unpickled_df[unpickled_df.Toxicity_Bins == 'Low']\n",
        "sns.distplot(df['comment_len'], kde=False, norm_hist = True, color = 'b', axlabel='Low', ax=ax[2])\n",
        "\n",
        "# Plot formatting\n",
        "fig.suptitle('Comment Length of Toxicity Bins', y=1.05)\n",
        "fig.tight_layout()"
      ],
      "execution_count": 0,
      "outputs": [
        {
          "output_type": "display_data",
          "data": {
            "image/png": "[encoded data removed]",
            "text/plain": [
              "<Figure size 432x288 with 3 Axes>"
            ]
          },
          "metadata": {
            "tags": []
          }
        }
      ]
    },
    {
      "cell_type": "code",
      "metadata": {
        "id": "A2D4MD64zLVI",
        "colab_type": "code",
        "outputId": "52e180e9-ceee-441e-a6e0-6032cc94a2d5",
        "colab": {
          "base_uri": "https://localhost:8080/",
          "height": 298
        }
      },
      "source": [
        "fig, ax = plt.subplots()\n",
        "sns.boxplot(x=\"Toxicity_Bins\", y=\"comment_len\", data=unpickled_df, order=[\"High\", \"Neutral\", 'Low'])"
      ],
      "execution_count": 0,
      "outputs": [
        {
          "output_type": "execute_result",
          "data": {
            "text/plain": [
              "<matplotlib.axes._subplots.AxesSubplot at 0x7fdaede14cc0>"
            ]
          },
          "metadata": {
            "tags": []
          },
          "execution_count": 101
        },
        {
          "output_type": "display_data",
          "data": {
            "image/png": "[encoded data removed]",
            "text/plain": [
              "<Figure size 432x288 with 1 Axes>"
            ]
          },
          "metadata": {
            "tags": []
          }
        }
      ]
    },
    {
      "cell_type": "code",
      "metadata": {
        "colab_type": "code",
        "id": "DeTNiJ85-LFb",
        "colab": {}
      },
      "source": [
        "low = unpickled_df[unpickled_df.Toxicity_Bins == 'Low'].comment_len.describe()\n",
        "neutral = unpickled_df[unpickled_df.Toxicity_Bins == 'Neutral'].comment_len.describe()\n",
        "high = unpickled_df[unpickled_df.Toxicity_Bins == 'High'].comment_len.describe()"
      ],
      "execution_count": 0,
      "outputs": []
    },
    {
      "cell_type": "code",
      "metadata": {
        "id": "2uD7QU9f-KxI",
        "colab_type": "code",
        "outputId": "c73f4f9c-108f-429f-b687-2d33df4b1c1e",
        "colab": {
          "base_uri": "https://localhost:8080/",
          "height": 527
        }
      },
      "source": [
        "print('Toxicity Bin - low: ', low, '\\n')\n",
        "print('Toxicity Bin - neutral: ', neutral, '\\n')\n",
        "print('Toxicity Bin - high: ', high)"
      ],
      "execution_count": 0,
      "outputs": [
        {
          "output_type": "stream",
          "text": [
            "Toxicity Bin - low:  count    1.599345e+06\n",
            "mean     2.860069e+02\n",
            "std      2.611858e+02\n",
            "min      0.000000e+00\n",
            "25%      8.800000e+01\n",
            "50%      1.930000e+02\n",
            "75%      4.010000e+02\n",
            "max      1.856000e+03\n",
            "Name: comment_len, dtype: float64 \n",
            "\n",
            "Toxicity Bin - neutral:  count    141091.000000\n",
            "mean        304.869524\n",
            "std         255.299488\n",
            "min           2.000000\n",
            "25%         110.000000\n",
            "50%         220.000000\n",
            "75%         422.000000\n",
            "max         993.000000\n",
            "Name: comment_len, dtype: float64 \n",
            "\n",
            "Toxicity Bin - high:  count    64438.000000\n",
            "mean       222.556504\n",
            "std        208.790573\n",
            "min          3.000000\n",
            "25%         78.000000\n",
            "50%        153.000000\n",
            "75%        293.000000\n",
            "max        993.000000\n",
            "Name: comment_len, dtype: float64\n"
          ],
          "name": "stdout"
        }
      ]
    },
    {
      "cell_type": "markdown",
      "metadata": {
        "id": "od_nfDzP1tac",
        "colab_type": "text"
      },
      "source": [
        "The split out histograms shows the 'high' toxicity scores with more short comments in comparison to 'neutral' or 'low'. Interestingly enough, the median of comment length for 'high' is 153 while 'low' and 'neutral' are 193 and 200 respectively. This shows the 3 histograms are skewed to the right with the remaining 50% of the data spread out between ~200 to 1000+ for comment length."
      ]
    },
    {
      "cell_type": "code",
      "metadata": {
        "id": "6tWTbIdy5fSZ",
        "colab_type": "code",
        "colab": {}
      },
      "source": [
        "low = unpickled_df_slimmed[unpickled_df_slimmed.Toxicity_Bins == 'Low'].comment_len.describe()\n",
        "neutral = unpickled_df_slimmed[unpickled_df_slimmed.Toxicity_Bins == 'Neutral'].comment_len.describe()\n",
        "high = unpickled_df_slimmed[unpickled_df_slimmed.Toxicity_Bins == 'High'].comment_len.describe()"
      ],
      "execution_count": 0,
      "outputs": []
    },
    {
      "cell_type": "code",
      "metadata": {
        "id": "_yoh8PsH55Wz",
        "colab_type": "code",
        "outputId": "d0bcbb53-407d-449f-bfe7-2dedcc44d2f9",
        "colab": {
          "base_uri": "https://localhost:8080/",
          "height": 527
        }
      },
      "source": [
        "print('Toxicity Bin - low: ', low, '\\n')\n",
        "print('Toxicity Bin - neutral: ', neutral, '\\n')\n",
        "print('Toxicity Bin - high: ', high)"
      ],
      "execution_count": 0,
      "outputs": [
        {
          "output_type": "stream",
          "text": [
            "Toxicity Bin - low:  count    338361.000000\n",
            "mean        340.440184\n",
            "std         281.907419\n",
            "min           0.000000\n",
            "25%         114.000000\n",
            "50%         248.000000\n",
            "75%         500.000000\n",
            "max        1807.000000\n",
            "Name: comment_len, dtype: float64 \n",
            "\n",
            "Toxicity Bin - neutral:  count    48266.000000\n",
            "mean       350.593793\n",
            "std        269.578162\n",
            "min          3.000000\n",
            "25%        137.000000\n",
            "50%        265.000000\n",
            "75%        501.000000\n",
            "max        991.000000\n",
            "Name: comment_len, dtype: float64 \n",
            "\n",
            "Toxicity Bin - high:  count    18503.000000\n",
            "mean       261.451602\n",
            "std        230.597305\n",
            "min          3.000000\n",
            "25%         96.000000\n",
            "50%        185.000000\n",
            "75%        346.000000\n",
            "max        989.000000\n",
            "Name: comment_len, dtype: float64\n"
          ],
          "name": "stdout"
        }
      ]
    },
    {
      "cell_type": "code",
      "metadata": {
        "colab_type": "code",
        "outputId": "a1b76ce6-3027-4421-b448-426ac0078c05",
        "id": "wUGtVE8m9vy-",
        "colab": {
          "base_uri": "https://localhost:8080/",
          "height": 298
        }
      },
      "source": [
        "fig, ax = plt.subplots()\n",
        "sns.boxplot(x=\"Toxicity_Bins\", y=\"comment_len\", data=unpickled_df_slimmed, order=[\"High\", \"Neutral\", 'Low'])"
      ],
      "execution_count": 0,
      "outputs": [
        {
          "output_type": "execute_result",
          "data": {
            "text/plain": [
              "<matplotlib.axes._subplots.AxesSubplot at 0x7fdaf89ac748>"
            ]
          },
          "metadata": {
            "tags": []
          },
          "execution_count": 105
        },
        {
          "output_type": "display_data",
          "data": {
            "image/png": "[encoded data removed]",
            "text/plain": [
              "<Figure size 432x288 with 1 Axes>"
            ]
          },
          "metadata": {
            "tags": []
          }
        }
      ]
    },
    {
      "cell_type": "markdown",
      "metadata": {
        "id": "QR4WPV13_OsL",
        "colab_type": "text"
      },
      "source": [
        "The identity data set trends mirror the full data set in regards to distribution of comment lengths versus toxicity."
      ]
    },
    {
      "cell_type": "markdown",
      "metadata": {
        "id": "F2kNBjQ4pmTE",
        "colab_type": "text"
      },
      "source": [
        "## Question 4"
      ]
    },
    {
      "cell_type": "markdown",
      "metadata": {
        "id": "g6WAmsexppb0",
        "colab_type": "text"
      },
      "source": [
        "Is there any correlation between the identity any of the labels and target?\n"
      ]
    },
    {
      "cell_type": "code",
      "metadata": {
        "id": "jdBRDcTyDqUD",
        "colab_type": "code",
        "colab": {}
      },
      "source": [
        "subset_col = ['male', 'female', 'transgender', 'other_gender', 'heterosexual', 'homosexual_gay_or_lesbian', 'bisexual', 'other_sexual_orientation',\n",
        "  'christian', 'jewish', 'muslim', 'hindu', 'buddhist', 'atheist', 'other_religion', 'black', 'white', 'asian', 'latino', 'other_race_or_ethnicity',\n",
        "  'physical_disability', 'intellectual_or_learning_disability', 'psychiatric_or_mental_illness', 'other_disability', 'target'] "
      ],
      "execution_count": 0,
      "outputs": []
    },
    {
      "cell_type": "code",
      "metadata": {
        "id": "oxsrDp4Vth44",
        "colab_type": "code",
        "colab": {}
      },
      "source": [
        "identity_subset_df = unpickled_df_slimmed[subset_col].copy()"
      ],
      "execution_count": 0,
      "outputs": []
    },
    {
      "cell_type": "code",
      "metadata": {
        "id": "N4AvZB_S0Ty-",
        "colab_type": "code",
        "outputId": "2973e385-d5e2-4675-ba06-d5d56b45a9f1",
        "colab": {
          "base_uri": "https://localhost:8080/",
          "height": 215
        }
      },
      "source": [
        "identity_subset_df.head()"
      ],
      "execution_count": 0,
      "outputs": [
        {
          "output_type": "execute_result",
          "data": {
            "text/html": [
              "<div>\n",
              "<style scoped>\n",
              "    .dataframe tbody tr th:only-of-type {\n",
              "        vertical-align: middle;\n",
              "    }\n",
              "\n",
              "    .dataframe tbody tr th {\n",
              "        vertical-align: top;\n",
              "    }\n",
              "\n",
              "    .dataframe thead th {\n",
              "        text-align: right;\n",
              "    }\n",
              "</style>\n",
              "<table border=\"1\" class=\"dataframe\">\n",
              "  <thead>\n",
              "    <tr style=\"text-align: right;\">\n",
              "      <th></th>\n",
              "      <th>male</th>\n",
              "      <th>female</th>\n",
              "      <th>transgender</th>\n",
              "      <th>other_gender</th>\n",
              "      <th>heterosexual</th>\n",
              "      <th>homosexual_gay_or_lesbian</th>\n",
              "      <th>bisexual</th>\n",
              "      <th>other_sexual_orientation</th>\n",
              "      <th>christian</th>\n",
              "      <th>jewish</th>\n",
              "      <th>muslim</th>\n",
              "      <th>hindu</th>\n",
              "      <th>buddhist</th>\n",
              "      <th>atheist</th>\n",
              "      <th>other_religion</th>\n",
              "      <th>black</th>\n",
              "      <th>white</th>\n",
              "      <th>asian</th>\n",
              "      <th>latino</th>\n",
              "      <th>other_race_or_ethnicity</th>\n",
              "      <th>physical_disability</th>\n",
              "      <th>intellectual_or_learning_disability</th>\n",
              "      <th>psychiatric_or_mental_illness</th>\n",
              "      <th>other_disability</th>\n",
              "      <th>target</th>\n",
              "    </tr>\n",
              "  </thead>\n",
              "  <tbody>\n",
              "    <tr>\n",
              "      <th>4</th>\n",
              "      <td>0.0</td>\n",
              "      <td>0.0</td>\n",
              "      <td>0.0</td>\n",
              "      <td>0.0</td>\n",
              "      <td>0.0</td>\n",
              "      <td>0.0</td>\n",
              "      <td>0.0</td>\n",
              "      <td>0.0</td>\n",
              "      <td>0.0</td>\n",
              "      <td>0.0</td>\n",
              "      <td>0.0</td>\n",
              "      <td>0.0</td>\n",
              "      <td>0.0</td>\n",
              "      <td>0.0</td>\n",
              "      <td>0.0</td>\n",
              "      <td>0.0</td>\n",
              "      <td>0.0</td>\n",
              "      <td>0.0</td>\n",
              "      <td>0.0</td>\n",
              "      <td>0.0</td>\n",
              "      <td>0.0</td>\n",
              "      <td>0.25</td>\n",
              "      <td>0.0</td>\n",
              "      <td>0.0</td>\n",
              "      <td>0.893617</td>\n",
              "    </tr>\n",
              "    <tr>\n",
              "      <th>11</th>\n",
              "      <td>0.6</td>\n",
              "      <td>0.0</td>\n",
              "      <td>0.0</td>\n",
              "      <td>0.0</td>\n",
              "      <td>0.0</td>\n",
              "      <td>0.0</td>\n",
              "      <td>0.0</td>\n",
              "      <td>0.0</td>\n",
              "      <td>0.0</td>\n",
              "      <td>0.0</td>\n",
              "      <td>0.0</td>\n",
              "      <td>0.0</td>\n",
              "      <td>0.0</td>\n",
              "      <td>0.0</td>\n",
              "      <td>0.0</td>\n",
              "      <td>0.0</td>\n",
              "      <td>0.0</td>\n",
              "      <td>0.0</td>\n",
              "      <td>0.0</td>\n",
              "      <td>0.0</td>\n",
              "      <td>0.0</td>\n",
              "      <td>0.00</td>\n",
              "      <td>0.0</td>\n",
              "      <td>0.0</td>\n",
              "      <td>0.440000</td>\n",
              "    </tr>\n",
              "    <tr>\n",
              "      <th>19</th>\n",
              "      <td>0.0</td>\n",
              "      <td>0.0</td>\n",
              "      <td>0.0</td>\n",
              "      <td>0.0</td>\n",
              "      <td>0.0</td>\n",
              "      <td>0.0</td>\n",
              "      <td>0.0</td>\n",
              "      <td>0.0</td>\n",
              "      <td>0.0</td>\n",
              "      <td>0.0</td>\n",
              "      <td>0.0</td>\n",
              "      <td>0.0</td>\n",
              "      <td>0.0</td>\n",
              "      <td>0.0</td>\n",
              "      <td>0.0</td>\n",
              "      <td>0.0</td>\n",
              "      <td>0.0</td>\n",
              "      <td>0.0</td>\n",
              "      <td>0.0</td>\n",
              "      <td>0.0</td>\n",
              "      <td>0.0</td>\n",
              "      <td>0.00</td>\n",
              "      <td>0.0</td>\n",
              "      <td>0.0</td>\n",
              "      <td>0.500000</td>\n",
              "    </tr>\n",
              "    <tr>\n",
              "      <th>20</th>\n",
              "      <td>0.0</td>\n",
              "      <td>0.0</td>\n",
              "      <td>0.0</td>\n",
              "      <td>0.0</td>\n",
              "      <td>0.0</td>\n",
              "      <td>0.0</td>\n",
              "      <td>0.0</td>\n",
              "      <td>0.0</td>\n",
              "      <td>0.0</td>\n",
              "      <td>0.0</td>\n",
              "      <td>0.0</td>\n",
              "      <td>0.0</td>\n",
              "      <td>0.0</td>\n",
              "      <td>0.0</td>\n",
              "      <td>0.0</td>\n",
              "      <td>0.0</td>\n",
              "      <td>0.0</td>\n",
              "      <td>0.0</td>\n",
              "      <td>0.0</td>\n",
              "      <td>0.0</td>\n",
              "      <td>0.0</td>\n",
              "      <td>0.00</td>\n",
              "      <td>0.0</td>\n",
              "      <td>0.0</td>\n",
              "      <td>0.000000</td>\n",
              "    </tr>\n",
              "    <tr>\n",
              "      <th>31</th>\n",
              "      <td>0.0</td>\n",
              "      <td>0.0</td>\n",
              "      <td>0.0</td>\n",
              "      <td>0.0</td>\n",
              "      <td>0.0</td>\n",
              "      <td>0.0</td>\n",
              "      <td>0.0</td>\n",
              "      <td>0.0</td>\n",
              "      <td>1.0</td>\n",
              "      <td>0.0</td>\n",
              "      <td>1.0</td>\n",
              "      <td>0.0</td>\n",
              "      <td>0.0</td>\n",
              "      <td>0.0</td>\n",
              "      <td>0.0</td>\n",
              "      <td>0.0</td>\n",
              "      <td>0.0</td>\n",
              "      <td>0.0</td>\n",
              "      <td>0.0</td>\n",
              "      <td>0.0</td>\n",
              "      <td>0.0</td>\n",
              "      <td>0.00</td>\n",
              "      <td>0.0</td>\n",
              "      <td>0.0</td>\n",
              "      <td>0.912500</td>\n",
              "    </tr>\n",
              "  </tbody>\n",
              "</table>\n",
              "</div>"
            ],
            "text/plain": [
              "    male  female  ...  other_disability    target\n",
              "4    0.0     0.0  ...               0.0  0.893617\n",
              "11   0.6     0.0  ...               0.0  0.440000\n",
              "19   0.0     0.0  ...               0.0  0.500000\n",
              "20   0.0     0.0  ...               0.0  0.000000\n",
              "31   0.0     0.0  ...               0.0  0.912500\n",
              "\n",
              "[5 rows x 25 columns]"
            ]
          },
          "metadata": {
            "tags": []
          },
          "execution_count": 24
        }
      ]
    },
    {
      "cell_type": "code",
      "metadata": {
        "id": "ybPHZZjTyX-k",
        "colab_type": "code",
        "outputId": "6f9d3329-c6a2-40cb-9221-ae6ffae85fe0",
        "colab": {
          "base_uri": "https://localhost:8080/",
          "height": 662
        }
      },
      "source": [
        "plt.figure(figsize=(10,8))\n",
        "# sns.heatmap(identity_subset_df.corr(),cmap='viridis',annot=False) \n",
        "sns.heatmap(identity_subset_df.corr(),cmap='Blues',annot=False) "
      ],
      "execution_count": 0,
      "outputs": [
        {
          "output_type": "execute_result",
          "data": {
            "text/plain": [
              "<matplotlib.axes._subplots.AxesSubplot at 0x7fdd662b0dd8>"
            ]
          },
          "metadata": {
            "tags": []
          },
          "execution_count": 42
        },
        {
          "output_type": "display_data",
          "data": {
            "image/png": "[encoded data removed]",
            "text/plain": [
              "<Figure size 720x576 with 2 Axes>"
            ]
          },
          "metadata": {
            "tags": []
          }
        }
      ]
    },
    {
      "cell_type": "markdown",
      "metadata": {
        "id": "rEkk1hW4y3Bo",
        "colab_type": "text"
      },
      "source": [
        "Aside from some correlation between male and female, hindu and buddhist, and black and white, the remaining fields have very little correlation. Target does not have any significant correlation with any of the identity labels. The implication being a positive identification does not imply a positive, toxic, target."
      ]
    },
    {
      "cell_type": "markdown",
      "metadata": {
        "id": "hR5j6UOups1Z",
        "colab_type": "text"
      },
      "source": [
        "## Question 5"
      ]
    },
    {
      "cell_type": "markdown",
      "metadata": {
        "id": "1ozRBKddpuzz",
        "colab_type": "text"
      },
      "source": [
        "How many identity labels are populated across each row in the slimmed data set?\n",
        "  - For each identity label, what is the distribution? Mean? Mode?\n"
      ]
    },
    {
      "cell_type": "code",
      "metadata": {
        "id": "2MYumFnJDqUG",
        "colab_type": "code",
        "outputId": "de099c55-2ba7-4576-8902-53db9a0e4d42",
        "colab": {
          "base_uri": "https://localhost:8080/",
          "height": 304
        }
      },
      "source": [
        "unpickled_df_slimmed.describe()"
      ],
      "execution_count": 0,
      "outputs": [
        {
          "output_type": "execute_result",
          "data": {
            "text/html": [
              "<div>\n",
              "<style scoped>\n",
              "    .dataframe tbody tr th:only-of-type {\n",
              "        vertical-align: middle;\n",
              "    }\n",
              "\n",
              "    .dataframe tbody tr th {\n",
              "        vertical-align: top;\n",
              "    }\n",
              "\n",
              "    .dataframe thead th {\n",
              "        text-align: right;\n",
              "    }\n",
              "</style>\n",
              "<table border=\"1\" class=\"dataframe\">\n",
              "  <thead>\n",
              "    <tr style=\"text-align: right;\">\n",
              "      <th></th>\n",
              "      <th>id</th>\n",
              "      <th>target</th>\n",
              "      <th>severe_toxicity</th>\n",
              "      <th>obscene</th>\n",
              "      <th>identity_attack</th>\n",
              "      <th>insult</th>\n",
              "      <th>threat</th>\n",
              "      <th>asian</th>\n",
              "      <th>atheist</th>\n",
              "      <th>bisexual</th>\n",
              "      <th>black</th>\n",
              "      <th>buddhist</th>\n",
              "      <th>christian</th>\n",
              "      <th>female</th>\n",
              "      <th>heterosexual</th>\n",
              "      <th>hindu</th>\n",
              "      <th>homosexual_gay_or_lesbian</th>\n",
              "      <th>intellectual_or_learning_disability</th>\n",
              "      <th>jewish</th>\n",
              "      <th>latino</th>\n",
              "      <th>male</th>\n",
              "      <th>muslim</th>\n",
              "      <th>other_disability</th>\n",
              "      <th>other_gender</th>\n",
              "      <th>other_race_or_ethnicity</th>\n",
              "      <th>other_religion</th>\n",
              "      <th>other_sexual_orientation</th>\n",
              "      <th>physical_disability</th>\n",
              "      <th>psychiatric_or_mental_illness</th>\n",
              "      <th>transgender</th>\n",
              "      <th>white</th>\n",
              "      <th>publication_id</th>\n",
              "      <th>parent_id</th>\n",
              "      <th>article_id</th>\n",
              "      <th>funny</th>\n",
              "      <th>wow</th>\n",
              "      <th>sad</th>\n",
              "      <th>likes</th>\n",
              "      <th>disagree</th>\n",
              "      <th>sexual_explicit</th>\n",
              "      <th>identity_annotator_count</th>\n",
              "      <th>toxicity_annotator_count</th>\n",
              "      <th>word_count</th>\n",
              "      <th>comment_len</th>\n",
              "      <th>target_binary</th>\n",
              "    </tr>\n",
              "  </thead>\n",
              "  <tbody>\n",
              "    <tr>\n",
              "      <th>count</th>\n",
              "      <td>4.051300e+05</td>\n",
              "      <td>405130.000000</td>\n",
              "      <td>405130.000000</td>\n",
              "      <td>405130.000000</td>\n",
              "      <td>405130.000000</td>\n",
              "      <td>405130.000000</td>\n",
              "      <td>405130.000000</td>\n",
              "      <td>405130.000000</td>\n",
              "      <td>405130.000000</td>\n",
              "      <td>405130.000000</td>\n",
              "      <td>405130.000000</td>\n",
              "      <td>405130.000000</td>\n",
              "      <td>405130.000000</td>\n",
              "      <td>405130.000000</td>\n",
              "      <td>405130.000000</td>\n",
              "      <td>405130.000000</td>\n",
              "      <td>405130.000000</td>\n",
              "      <td>405130.000000</td>\n",
              "      <td>405130.000000</td>\n",
              "      <td>405130.000000</td>\n",
              "      <td>405130.000000</td>\n",
              "      <td>405130.000000</td>\n",
              "      <td>405130.000000</td>\n",
              "      <td>405130.000000</td>\n",
              "      <td>405130.000000</td>\n",
              "      <td>405130.000000</td>\n",
              "      <td>405130.000000</td>\n",
              "      <td>405130.000000</td>\n",
              "      <td>405130.000000</td>\n",
              "      <td>405130.000000</td>\n",
              "      <td>405130.00000</td>\n",
              "      <td>405130.000000</td>\n",
              "      <td>2.350870e+05</td>\n",
              "      <td>405130.000000</td>\n",
              "      <td>405130.000000</td>\n",
              "      <td>405130.000000</td>\n",
              "      <td>405130.000000</td>\n",
              "      <td>405130.000000</td>\n",
              "      <td>405130.000000</td>\n",
              "      <td>405130.000000</td>\n",
              "      <td>405130.000000</td>\n",
              "      <td>405130.000000</td>\n",
              "      <td>405130.000000</td>\n",
              "      <td>405130.000000</td>\n",
              "      <td>405130.000000</td>\n",
              "    </tr>\n",
              "    <tr>\n",
              "      <th>mean</th>\n",
              "      <td>3.734479e+06</td>\n",
              "      <td>0.140298</td>\n",
              "      <td>0.006936</td>\n",
              "      <td>0.016321</td>\n",
              "      <td>0.060596</td>\n",
              "      <td>0.099587</td>\n",
              "      <td>0.011613</td>\n",
              "      <td>0.011964</td>\n",
              "      <td>0.003205</td>\n",
              "      <td>0.001884</td>\n",
              "      <td>0.034393</td>\n",
              "      <td>0.001410</td>\n",
              "      <td>0.095268</td>\n",
              "      <td>0.127670</td>\n",
              "      <td>0.003237</td>\n",
              "      <td>0.001457</td>\n",
              "      <td>0.025611</td>\n",
              "      <td>0.001088</td>\n",
              "      <td>0.017863</td>\n",
              "      <td>0.006127</td>\n",
              "      <td>0.108687</td>\n",
              "      <td>0.049460</td>\n",
              "      <td>0.001220</td>\n",
              "      <td>0.000884</td>\n",
              "      <td>0.008248</td>\n",
              "      <td>0.006761</td>\n",
              "      <td>0.001494</td>\n",
              "      <td>0.001356</td>\n",
              "      <td>0.012083</td>\n",
              "      <td>0.006724</td>\n",
              "      <td>0.05695</td>\n",
              "      <td>50.175865</td>\n",
              "      <td>3.704679e+06</td>\n",
              "      <td>281511.298791</td>\n",
              "      <td>0.268356</td>\n",
              "      <td>0.046032</td>\n",
              "      <td>0.112305</td>\n",
              "      <td>2.566929</td>\n",
              "      <td>0.599761</td>\n",
              "      <td>0.012204</td>\n",
              "      <td>6.410900</td>\n",
              "      <td>10.385528</td>\n",
              "      <td>60.243263</td>\n",
              "      <td>338.042307</td>\n",
              "      <td>0.113630</td>\n",
              "    </tr>\n",
              "    <tr>\n",
              "      <th>std</th>\n",
              "      <td>2.446379e+06</td>\n",
              "      <td>0.218561</td>\n",
              "      <td>0.028085</td>\n",
              "      <td>0.069201</td>\n",
              "      <td>0.134140</td>\n",
              "      <td>0.185337</td>\n",
              "      <td>0.052903</td>\n",
              "      <td>0.087166</td>\n",
              "      <td>0.050193</td>\n",
              "      <td>0.026077</td>\n",
              "      <td>0.167900</td>\n",
              "      <td>0.030923</td>\n",
              "      <td>0.256671</td>\n",
              "      <td>0.305384</td>\n",
              "      <td>0.045801</td>\n",
              "      <td>0.030862</td>\n",
              "      <td>0.143739</td>\n",
              "      <td>0.016032</td>\n",
              "      <td>0.122145</td>\n",
              "      <td>0.058684</td>\n",
              "      <td>0.267894</td>\n",
              "      <td>0.202459</td>\n",
              "      <td>0.014102</td>\n",
              "      <td>0.011853</td>\n",
              "      <td>0.042717</td>\n",
              "      <td>0.037504</td>\n",
              "      <td>0.015374</td>\n",
              "      <td>0.017505</td>\n",
              "      <td>0.089183</td>\n",
              "      <td>0.069027</td>\n",
              "      <td>0.21596</td>\n",
              "      <td>26.596067</td>\n",
              "      <td>2.454646e+06</td>\n",
              "      <td>103559.032447</td>\n",
              "      <td>1.060748</td>\n",
              "      <td>0.253802</td>\n",
              "      <td>0.463989</td>\n",
              "      <td>4.942980</td>\n",
              "      <td>1.891215</td>\n",
              "      <td>0.062474</td>\n",
              "      <td>37.294163</td>\n",
              "      <td>53.505124</td>\n",
              "      <td>49.310837</td>\n",
              "      <td>278.840257</td>\n",
              "      <td>0.317362</td>\n",
              "    </tr>\n",
              "    <tr>\n",
              "      <th>min</th>\n",
              "      <td>5.985600e+04</td>\n",
              "      <td>0.000000</td>\n",
              "      <td>0.000000</td>\n",
              "      <td>0.000000</td>\n",
              "      <td>0.000000</td>\n",
              "      <td>0.000000</td>\n",
              "      <td>0.000000</td>\n",
              "      <td>0.000000</td>\n",
              "      <td>0.000000</td>\n",
              "      <td>0.000000</td>\n",
              "      <td>0.000000</td>\n",
              "      <td>0.000000</td>\n",
              "      <td>0.000000</td>\n",
              "      <td>0.000000</td>\n",
              "      <td>0.000000</td>\n",
              "      <td>0.000000</td>\n",
              "      <td>0.000000</td>\n",
              "      <td>0.000000</td>\n",
              "      <td>0.000000</td>\n",
              "      <td>0.000000</td>\n",
              "      <td>0.000000</td>\n",
              "      <td>0.000000</td>\n",
              "      <td>0.000000</td>\n",
              "      <td>0.000000</td>\n",
              "      <td>0.000000</td>\n",
              "      <td>0.000000</td>\n",
              "      <td>0.000000</td>\n",
              "      <td>0.000000</td>\n",
              "      <td>0.000000</td>\n",
              "      <td>0.000000</td>\n",
              "      <td>0.00000</td>\n",
              "      <td>2.000000</td>\n",
              "      <td>6.618700e+04</td>\n",
              "      <td>2006.000000</td>\n",
              "      <td>0.000000</td>\n",
              "      <td>0.000000</td>\n",
              "      <td>0.000000</td>\n",
              "      <td>0.000000</td>\n",
              "      <td>0.000000</td>\n",
              "      <td>0.000000</td>\n",
              "      <td>4.000000</td>\n",
              "      <td>3.000000</td>\n",
              "      <td>0.000000</td>\n",
              "      <td>0.000000</td>\n",
              "      <td>0.000000</td>\n",
              "    </tr>\n",
              "    <tr>\n",
              "      <th>25%</th>\n",
              "      <td>8.045102e+05</td>\n",
              "      <td>0.000000</td>\n",
              "      <td>0.000000</td>\n",
              "      <td>0.000000</td>\n",
              "      <td>0.000000</td>\n",
              "      <td>0.000000</td>\n",
              "      <td>0.000000</td>\n",
              "      <td>0.000000</td>\n",
              "      <td>0.000000</td>\n",
              "      <td>0.000000</td>\n",
              "      <td>0.000000</td>\n",
              "      <td>0.000000</td>\n",
              "      <td>0.000000</td>\n",
              "      <td>0.000000</td>\n",
              "      <td>0.000000</td>\n",
              "      <td>0.000000</td>\n",
              "      <td>0.000000</td>\n",
              "      <td>0.000000</td>\n",
              "      <td>0.000000</td>\n",
              "      <td>0.000000</td>\n",
              "      <td>0.000000</td>\n",
              "      <td>0.000000</td>\n",
              "      <td>0.000000</td>\n",
              "      <td>0.000000</td>\n",
              "      <td>0.000000</td>\n",
              "      <td>0.000000</td>\n",
              "      <td>0.000000</td>\n",
              "      <td>0.000000</td>\n",
              "      <td>0.000000</td>\n",
              "      <td>0.000000</td>\n",
              "      <td>0.00000</td>\n",
              "      <td>21.000000</td>\n",
              "      <td>7.932285e+05</td>\n",
              "      <td>160309.000000</td>\n",
              "      <td>0.000000</td>\n",
              "      <td>0.000000</td>\n",
              "      <td>0.000000</td>\n",
              "      <td>0.000000</td>\n",
              "      <td>0.000000</td>\n",
              "      <td>0.000000</td>\n",
              "      <td>4.000000</td>\n",
              "      <td>4.000000</td>\n",
              "      <td>21.000000</td>\n",
              "      <td>115.000000</td>\n",
              "      <td>0.000000</td>\n",
              "    </tr>\n",
              "    <tr>\n",
              "      <th>50%</th>\n",
              "      <td>5.222179e+06</td>\n",
              "      <td>0.000000</td>\n",
              "      <td>0.000000</td>\n",
              "      <td>0.000000</td>\n",
              "      <td>0.000000</td>\n",
              "      <td>0.000000</td>\n",
              "      <td>0.000000</td>\n",
              "      <td>0.000000</td>\n",
              "      <td>0.000000</td>\n",
              "      <td>0.000000</td>\n",
              "      <td>0.000000</td>\n",
              "      <td>0.000000</td>\n",
              "      <td>0.000000</td>\n",
              "      <td>0.000000</td>\n",
              "      <td>0.000000</td>\n",
              "      <td>0.000000</td>\n",
              "      <td>0.000000</td>\n",
              "      <td>0.000000</td>\n",
              "      <td>0.000000</td>\n",
              "      <td>0.000000</td>\n",
              "      <td>0.000000</td>\n",
              "      <td>0.000000</td>\n",
              "      <td>0.000000</td>\n",
              "      <td>0.000000</td>\n",
              "      <td>0.000000</td>\n",
              "      <td>0.000000</td>\n",
              "      <td>0.000000</td>\n",
              "      <td>0.000000</td>\n",
              "      <td>0.000000</td>\n",
              "      <td>0.000000</td>\n",
              "      <td>0.00000</td>\n",
              "      <td>54.000000</td>\n",
              "      <td>5.213037e+06</td>\n",
              "      <td>332002.000000</td>\n",
              "      <td>0.000000</td>\n",
              "      <td>0.000000</td>\n",
              "      <td>0.000000</td>\n",
              "      <td>1.000000</td>\n",
              "      <td>0.000000</td>\n",
              "      <td>0.000000</td>\n",
              "      <td>4.000000</td>\n",
              "      <td>4.000000</td>\n",
              "      <td>44.000000</td>\n",
              "      <td>246.000000</td>\n",
              "      <td>0.000000</td>\n",
              "    </tr>\n",
              "    <tr>\n",
              "      <th>75%</th>\n",
              "      <td>5.781790e+06</td>\n",
              "      <td>0.200000</td>\n",
              "      <td>0.000000</td>\n",
              "      <td>0.000000</td>\n",
              "      <td>0.000000</td>\n",
              "      <td>0.166667</td>\n",
              "      <td>0.000000</td>\n",
              "      <td>0.000000</td>\n",
              "      <td>0.000000</td>\n",
              "      <td>0.000000</td>\n",
              "      <td>0.000000</td>\n",
              "      <td>0.000000</td>\n",
              "      <td>0.000000</td>\n",
              "      <td>0.000000</td>\n",
              "      <td>0.000000</td>\n",
              "      <td>0.000000</td>\n",
              "      <td>0.000000</td>\n",
              "      <td>0.000000</td>\n",
              "      <td>0.000000</td>\n",
              "      <td>0.000000</td>\n",
              "      <td>0.000000</td>\n",
              "      <td>0.000000</td>\n",
              "      <td>0.000000</td>\n",
              "      <td>0.000000</td>\n",
              "      <td>0.000000</td>\n",
              "      <td>0.000000</td>\n",
              "      <td>0.000000</td>\n",
              "      <td>0.000000</td>\n",
              "      <td>0.000000</td>\n",
              "      <td>0.000000</td>\n",
              "      <td>0.00000</td>\n",
              "      <td>54.000000</td>\n",
              "      <td>5.783998e+06</td>\n",
              "      <td>366898.750000</td>\n",
              "      <td>0.000000</td>\n",
              "      <td>0.000000</td>\n",
              "      <td>0.000000</td>\n",
              "      <td>3.000000</td>\n",
              "      <td>0.000000</td>\n",
              "      <td>0.000000</td>\n",
              "      <td>6.000000</td>\n",
              "      <td>10.000000</td>\n",
              "      <td>88.000000</td>\n",
              "      <td>493.000000</td>\n",
              "      <td>0.000000</td>\n",
              "    </tr>\n",
              "    <tr>\n",
              "      <th>max</th>\n",
              "      <td>6.333950e+06</td>\n",
              "      <td>1.000000</td>\n",
              "      <td>0.644363</td>\n",
              "      <td>1.000000</td>\n",
              "      <td>1.000000</td>\n",
              "      <td>1.000000</td>\n",
              "      <td>1.000000</td>\n",
              "      <td>1.000000</td>\n",
              "      <td>1.000000</td>\n",
              "      <td>1.000000</td>\n",
              "      <td>1.000000</td>\n",
              "      <td>1.000000</td>\n",
              "      <td>1.000000</td>\n",
              "      <td>1.000000</td>\n",
              "      <td>1.000000</td>\n",
              "      <td>1.000000</td>\n",
              "      <td>1.000000</td>\n",
              "      <td>1.000000</td>\n",
              "      <td>1.000000</td>\n",
              "      <td>1.000000</td>\n",
              "      <td>1.000000</td>\n",
              "      <td>1.000000</td>\n",
              "      <td>0.600000</td>\n",
              "      <td>0.750000</td>\n",
              "      <td>1.000000</td>\n",
              "      <td>1.000000</td>\n",
              "      <td>0.750000</td>\n",
              "      <td>1.000000</td>\n",
              "      <td>1.000000</td>\n",
              "      <td>1.000000</td>\n",
              "      <td>1.00000</td>\n",
              "      <td>111.000000</td>\n",
              "      <td>6.333789e+06</td>\n",
              "      <td>399541.000000</td>\n",
              "      <td>95.000000</td>\n",
              "      <td>15.000000</td>\n",
              "      <td>24.000000</td>\n",
              "      <td>186.000000</td>\n",
              "      <td>173.000000</td>\n",
              "      <td>1.000000</td>\n",
              "      <td>1866.000000</td>\n",
              "      <td>4897.000000</td>\n",
              "      <td>309.000000</td>\n",
              "      <td>1807.000000</td>\n",
              "      <td>1.000000</td>\n",
              "    </tr>\n",
              "  </tbody>\n",
              "</table>\n",
              "</div>"
            ],
            "text/plain": [
              "                 id         target  ...    comment_len  target_binary\n",
              "count  4.051300e+05  405130.000000  ...  405130.000000  405130.000000\n",
              "mean   3.734479e+06       0.140298  ...     338.042307       0.113630\n",
              "std    2.446379e+06       0.218561  ...     278.840257       0.317362\n",
              "min    5.985600e+04       0.000000  ...       0.000000       0.000000\n",
              "25%    8.045102e+05       0.000000  ...     115.000000       0.000000\n",
              "50%    5.222179e+06       0.000000  ...     246.000000       0.000000\n",
              "75%    5.781790e+06       0.200000  ...     493.000000       0.000000\n",
              "max    6.333950e+06       1.000000  ...    1807.000000       1.000000\n",
              "\n",
              "[8 rows x 45 columns]"
            ]
          },
          "metadata": {
            "tags": []
          },
          "execution_count": 92
        }
      ]
    },
    {
      "cell_type": "code",
      "metadata": {
        "id": "P1P_DirBFLAx",
        "colab_type": "code",
        "colab": {}
      },
      "source": [
        "slimmed_identity_tags = unpickled_df_slimmed.copy()"
      ],
      "execution_count": 0,
      "outputs": []
    },
    {
      "cell_type": "code",
      "metadata": {
        "id": "Ic2CmLGVE0Oh",
        "colab_type": "code",
        "colab": {}
      },
      "source": [
        "col_names_to_remove = ['id', 'target', 'comment_text', 'severe_toxicity', 'obscene', 'identity_attack', 'insult', 'threat', 'created_date',\n",
        " 'publication_id', 'parent_id', 'article_id', 'rating', 'funny', 'wow', 'sad', 'likes', 'disagree', 'sexual_explicit', 'identity_annotator_count',\n",
        " 'toxicity_annotator_count', 'clean_text', 'word_count', 'word_split', 'comment_len', 'target_binary', 'Toxicity_Bins']"
      ],
      "execution_count": 0,
      "outputs": []
    },
    {
      "cell_type": "code",
      "metadata": {
        "id": "k7HQSkbmKLyD",
        "colab_type": "code",
        "colab": {}
      },
      "source": [
        "slimmed_identity_tags = slimmed_identity_tags.drop(col_names_to_remove, axis = 1) "
      ],
      "execution_count": 0,
      "outputs": []
    },
    {
      "cell_type": "code",
      "metadata": {
        "id": "wF1T6I3jMJ1o",
        "colab_type": "code",
        "outputId": "3a7717aa-2a04-4183-bb29-04e35be703a8",
        "colab": {
          "base_uri": "https://localhost:8080/",
          "height": 527
        }
      },
      "source": [
        "slimmed_identity_tags.info()"
      ],
      "execution_count": 0,
      "outputs": [
        {
          "output_type": "stream",
          "text": [
            "<class 'pandas.core.frame.DataFrame'>\n",
            "Int64Index: 405130 entries, 4 to 1804863\n",
            "Data columns (total 24 columns):\n",
            "asian                                  405130 non-null float64\n",
            "atheist                                405130 non-null float64\n",
            "bisexual                               405130 non-null float64\n",
            "black                                  405130 non-null float64\n",
            "buddhist                               405130 non-null float64\n",
            "christian                              405130 non-null float64\n",
            "female                                 405130 non-null float64\n",
            "heterosexual                           405130 non-null float64\n",
            "hindu                                  405130 non-null float64\n",
            "homosexual_gay_or_lesbian              405130 non-null float64\n",
            "intellectual_or_learning_disability    405130 non-null float64\n",
            "jewish                                 405130 non-null float64\n",
            "latino                                 405130 non-null float64\n",
            "male                                   405130 non-null float64\n",
            "muslim                                 405130 non-null float64\n",
            "other_disability                       405130 non-null float64\n",
            "other_gender                           405130 non-null float64\n",
            "other_race_or_ethnicity                405130 non-null float64\n",
            "other_religion                         405130 non-null float64\n",
            "other_sexual_orientation               405130 non-null float64\n",
            "physical_disability                    405130 non-null float64\n",
            "psychiatric_or_mental_illness          405130 non-null float64\n",
            "transgender                            405130 non-null float64\n",
            "white                                  405130 non-null float64\n",
            "dtypes: float64(24)\n",
            "memory usage: 77.3 MB\n"
          ],
          "name": "stdout"
        }
      ]
    },
    {
      "cell_type": "code",
      "metadata": {
        "id": "nE4-KaZiKXfi",
        "colab_type": "code",
        "outputId": "c2132988-09e3-4c65-f569-f15efdb6e345",
        "colab": {
          "base_uri": "https://localhost:8080/",
          "height": 304
        }
      },
      "source": [
        "slimmed_identity_tags.describe()"
      ],
      "execution_count": 0,
      "outputs": [
        {
          "output_type": "execute_result",
          "data": {
            "text/html": [
              "<div>\n",
              "<style scoped>\n",
              "    .dataframe tbody tr th:only-of-type {\n",
              "        vertical-align: middle;\n",
              "    }\n",
              "\n",
              "    .dataframe tbody tr th {\n",
              "        vertical-align: top;\n",
              "    }\n",
              "\n",
              "    .dataframe thead th {\n",
              "        text-align: right;\n",
              "    }\n",
              "</style>\n",
              "<table border=\"1\" class=\"dataframe\">\n",
              "  <thead>\n",
              "    <tr style=\"text-align: right;\">\n",
              "      <th></th>\n",
              "      <th>asian</th>\n",
              "      <th>atheist</th>\n",
              "      <th>bisexual</th>\n",
              "      <th>black</th>\n",
              "      <th>buddhist</th>\n",
              "      <th>christian</th>\n",
              "      <th>female</th>\n",
              "      <th>heterosexual</th>\n",
              "      <th>hindu</th>\n",
              "      <th>homosexual_gay_or_lesbian</th>\n",
              "      <th>intellectual_or_learning_disability</th>\n",
              "      <th>jewish</th>\n",
              "      <th>latino</th>\n",
              "      <th>male</th>\n",
              "      <th>muslim</th>\n",
              "      <th>other_disability</th>\n",
              "      <th>other_gender</th>\n",
              "      <th>other_race_or_ethnicity</th>\n",
              "      <th>other_religion</th>\n",
              "      <th>other_sexual_orientation</th>\n",
              "      <th>physical_disability</th>\n",
              "      <th>psychiatric_or_mental_illness</th>\n",
              "      <th>transgender</th>\n",
              "      <th>white</th>\n",
              "    </tr>\n",
              "  </thead>\n",
              "  <tbody>\n",
              "    <tr>\n",
              "      <th>count</th>\n",
              "      <td>405130.000000</td>\n",
              "      <td>405130.000000</td>\n",
              "      <td>405130.000000</td>\n",
              "      <td>405130.000000</td>\n",
              "      <td>405130.000000</td>\n",
              "      <td>405130.000000</td>\n",
              "      <td>405130.000000</td>\n",
              "      <td>405130.000000</td>\n",
              "      <td>405130.000000</td>\n",
              "      <td>405130.000000</td>\n",
              "      <td>405130.000000</td>\n",
              "      <td>405130.000000</td>\n",
              "      <td>405130.000000</td>\n",
              "      <td>405130.000000</td>\n",
              "      <td>405130.000000</td>\n",
              "      <td>405130.000000</td>\n",
              "      <td>405130.000000</td>\n",
              "      <td>405130.000000</td>\n",
              "      <td>405130.000000</td>\n",
              "      <td>405130.000000</td>\n",
              "      <td>405130.000000</td>\n",
              "      <td>405130.000000</td>\n",
              "      <td>405130.000000</td>\n",
              "      <td>405130.00000</td>\n",
              "    </tr>\n",
              "    <tr>\n",
              "      <th>mean</th>\n",
              "      <td>0.011964</td>\n",
              "      <td>0.003205</td>\n",
              "      <td>0.001884</td>\n",
              "      <td>0.034393</td>\n",
              "      <td>0.001410</td>\n",
              "      <td>0.095268</td>\n",
              "      <td>0.127670</td>\n",
              "      <td>0.003237</td>\n",
              "      <td>0.001457</td>\n",
              "      <td>0.025611</td>\n",
              "      <td>0.001088</td>\n",
              "      <td>0.017863</td>\n",
              "      <td>0.006127</td>\n",
              "      <td>0.108687</td>\n",
              "      <td>0.049460</td>\n",
              "      <td>0.001220</td>\n",
              "      <td>0.000884</td>\n",
              "      <td>0.008248</td>\n",
              "      <td>0.006761</td>\n",
              "      <td>0.001494</td>\n",
              "      <td>0.001356</td>\n",
              "      <td>0.012083</td>\n",
              "      <td>0.006724</td>\n",
              "      <td>0.05695</td>\n",
              "    </tr>\n",
              "    <tr>\n",
              "      <th>std</th>\n",
              "      <td>0.087166</td>\n",
              "      <td>0.050193</td>\n",
              "      <td>0.026077</td>\n",
              "      <td>0.167900</td>\n",
              "      <td>0.030923</td>\n",
              "      <td>0.256671</td>\n",
              "      <td>0.305384</td>\n",
              "      <td>0.045801</td>\n",
              "      <td>0.030862</td>\n",
              "      <td>0.143739</td>\n",
              "      <td>0.016032</td>\n",
              "      <td>0.122145</td>\n",
              "      <td>0.058684</td>\n",
              "      <td>0.267894</td>\n",
              "      <td>0.202459</td>\n",
              "      <td>0.014102</td>\n",
              "      <td>0.011853</td>\n",
              "      <td>0.042717</td>\n",
              "      <td>0.037504</td>\n",
              "      <td>0.015374</td>\n",
              "      <td>0.017505</td>\n",
              "      <td>0.089183</td>\n",
              "      <td>0.069027</td>\n",
              "      <td>0.21596</td>\n",
              "    </tr>\n",
              "    <tr>\n",
              "      <th>min</th>\n",
              "      <td>0.000000</td>\n",
              "      <td>0.000000</td>\n",
              "      <td>0.000000</td>\n",
              "      <td>0.000000</td>\n",
              "      <td>0.000000</td>\n",
              "      <td>0.000000</td>\n",
              "      <td>0.000000</td>\n",
              "      <td>0.000000</td>\n",
              "      <td>0.000000</td>\n",
              "      <td>0.000000</td>\n",
              "      <td>0.000000</td>\n",
              "      <td>0.000000</td>\n",
              "      <td>0.000000</td>\n",
              "      <td>0.000000</td>\n",
              "      <td>0.000000</td>\n",
              "      <td>0.000000</td>\n",
              "      <td>0.000000</td>\n",
              "      <td>0.000000</td>\n",
              "      <td>0.000000</td>\n",
              "      <td>0.000000</td>\n",
              "      <td>0.000000</td>\n",
              "      <td>0.000000</td>\n",
              "      <td>0.000000</td>\n",
              "      <td>0.00000</td>\n",
              "    </tr>\n",
              "    <tr>\n",
              "      <th>25%</th>\n",
              "      <td>0.000000</td>\n",
              "      <td>0.000000</td>\n",
              "      <td>0.000000</td>\n",
              "      <td>0.000000</td>\n",
              "      <td>0.000000</td>\n",
              "      <td>0.000000</td>\n",
              "      <td>0.000000</td>\n",
              "      <td>0.000000</td>\n",
              "      <td>0.000000</td>\n",
              "      <td>0.000000</td>\n",
              "      <td>0.000000</td>\n",
              "      <td>0.000000</td>\n",
              "      <td>0.000000</td>\n",
              "      <td>0.000000</td>\n",
              "      <td>0.000000</td>\n",
              "      <td>0.000000</td>\n",
              "      <td>0.000000</td>\n",
              "      <td>0.000000</td>\n",
              "      <td>0.000000</td>\n",
              "      <td>0.000000</td>\n",
              "      <td>0.000000</td>\n",
              "      <td>0.000000</td>\n",
              "      <td>0.000000</td>\n",
              "      <td>0.00000</td>\n",
              "    </tr>\n",
              "    <tr>\n",
              "      <th>50%</th>\n",
              "      <td>0.000000</td>\n",
              "      <td>0.000000</td>\n",
              "      <td>0.000000</td>\n",
              "      <td>0.000000</td>\n",
              "      <td>0.000000</td>\n",
              "      <td>0.000000</td>\n",
              "      <td>0.000000</td>\n",
              "      <td>0.000000</td>\n",
              "      <td>0.000000</td>\n",
              "      <td>0.000000</td>\n",
              "      <td>0.000000</td>\n",
              "      <td>0.000000</td>\n",
              "      <td>0.000000</td>\n",
              "      <td>0.000000</td>\n",
              "      <td>0.000000</td>\n",
              "      <td>0.000000</td>\n",
              "      <td>0.000000</td>\n",
              "      <td>0.000000</td>\n",
              "      <td>0.000000</td>\n",
              "      <td>0.000000</td>\n",
              "      <td>0.000000</td>\n",
              "      <td>0.000000</td>\n",
              "      <td>0.000000</td>\n",
              "      <td>0.00000</td>\n",
              "    </tr>\n",
              "    <tr>\n",
              "      <th>75%</th>\n",
              "      <td>0.000000</td>\n",
              "      <td>0.000000</td>\n",
              "      <td>0.000000</td>\n",
              "      <td>0.000000</td>\n",
              "      <td>0.000000</td>\n",
              "      <td>0.000000</td>\n",
              "      <td>0.000000</td>\n",
              "      <td>0.000000</td>\n",
              "      <td>0.000000</td>\n",
              "      <td>0.000000</td>\n",
              "      <td>0.000000</td>\n",
              "      <td>0.000000</td>\n",
              "      <td>0.000000</td>\n",
              "      <td>0.000000</td>\n",
              "      <td>0.000000</td>\n",
              "      <td>0.000000</td>\n",
              "      <td>0.000000</td>\n",
              "      <td>0.000000</td>\n",
              "      <td>0.000000</td>\n",
              "      <td>0.000000</td>\n",
              "      <td>0.000000</td>\n",
              "      <td>0.000000</td>\n",
              "      <td>0.000000</td>\n",
              "      <td>0.00000</td>\n",
              "    </tr>\n",
              "    <tr>\n",
              "      <th>max</th>\n",
              "      <td>1.000000</td>\n",
              "      <td>1.000000</td>\n",
              "      <td>1.000000</td>\n",
              "      <td>1.000000</td>\n",
              "      <td>1.000000</td>\n",
              "      <td>1.000000</td>\n",
              "      <td>1.000000</td>\n",
              "      <td>1.000000</td>\n",
              "      <td>1.000000</td>\n",
              "      <td>1.000000</td>\n",
              "      <td>1.000000</td>\n",
              "      <td>1.000000</td>\n",
              "      <td>1.000000</td>\n",
              "      <td>1.000000</td>\n",
              "      <td>1.000000</td>\n",
              "      <td>0.600000</td>\n",
              "      <td>0.750000</td>\n",
              "      <td>1.000000</td>\n",
              "      <td>1.000000</td>\n",
              "      <td>0.750000</td>\n",
              "      <td>1.000000</td>\n",
              "      <td>1.000000</td>\n",
              "      <td>1.000000</td>\n",
              "      <td>1.00000</td>\n",
              "    </tr>\n",
              "  </tbody>\n",
              "</table>\n",
              "</div>"
            ],
            "text/plain": [
              "               asian        atheist  ...    transgender         white\n",
              "count  405130.000000  405130.000000  ...  405130.000000  405130.00000\n",
              "mean        0.011964       0.003205  ...       0.006724       0.05695\n",
              "std         0.087166       0.050193  ...       0.069027       0.21596\n",
              "min         0.000000       0.000000  ...       0.000000       0.00000\n",
              "25%         0.000000       0.000000  ...       0.000000       0.00000\n",
              "50%         0.000000       0.000000  ...       0.000000       0.00000\n",
              "75%         0.000000       0.000000  ...       0.000000       0.00000\n",
              "max         1.000000       1.000000  ...       1.000000       1.00000\n",
              "\n",
              "[8 rows x 24 columns]"
            ]
          },
          "metadata": {
            "tags": []
          },
          "execution_count": 49
        }
      ]
    },
    {
      "cell_type": "markdown",
      "metadata": {
        "id": "mbeKsP0OMaNv",
        "colab_type": "text"
      },
      "source": [
        "Initially, I expected to see NaN or NULL for tags that didn't correspond to the comment of that record. However, in looking at the distributions and info for the tags, I can see that tags which don't apply are identified with a 0 for the relevant records. Given the small range (0-1) and how skewed to 0 the data is (as seen above), I'm going to multiply all the identity tag ratios by 100."
      ]
    },
    {
      "cell_type": "code",
      "metadata": {
        "id": "W9exFnsF2okD",
        "colab_type": "code",
        "colab": {}
      },
      "source": [
        "slimmed_identity_tags = slimmed_identity_tags * 100"
      ],
      "execution_count": 0,
      "outputs": []
    },
    {
      "cell_type": "code",
      "metadata": {
        "id": "Ps7ag8Od7Mrj",
        "colab_type": "code",
        "outputId": "9f2052a6-a585-4961-803d-d5c425edd2d7",
        "colab": {
          "base_uri": "https://localhost:8080/",
          "height": 304
        }
      },
      "source": [
        "slimmed_identity_tags.describe()"
      ],
      "execution_count": 0,
      "outputs": [
        {
          "output_type": "execute_result",
          "data": {
            "text/html": [
              "<div>\n",
              "<style scoped>\n",
              "    .dataframe tbody tr th:only-of-type {\n",
              "        vertical-align: middle;\n",
              "    }\n",
              "\n",
              "    .dataframe tbody tr th {\n",
              "        vertical-align: top;\n",
              "    }\n",
              "\n",
              "    .dataframe thead th {\n",
              "        text-align: right;\n",
              "    }\n",
              "</style>\n",
              "<table border=\"1\" class=\"dataframe\">\n",
              "  <thead>\n",
              "    <tr style=\"text-align: right;\">\n",
              "      <th></th>\n",
              "      <th>asian</th>\n",
              "      <th>atheist</th>\n",
              "      <th>bisexual</th>\n",
              "      <th>black</th>\n",
              "      <th>buddhist</th>\n",
              "      <th>christian</th>\n",
              "      <th>female</th>\n",
              "      <th>heterosexual</th>\n",
              "      <th>hindu</th>\n",
              "      <th>homosexual_gay_or_lesbian</th>\n",
              "      <th>intellectual_or_learning_disability</th>\n",
              "      <th>jewish</th>\n",
              "      <th>latino</th>\n",
              "      <th>male</th>\n",
              "      <th>muslim</th>\n",
              "      <th>other_disability</th>\n",
              "      <th>other_gender</th>\n",
              "      <th>other_race_or_ethnicity</th>\n",
              "      <th>other_religion</th>\n",
              "      <th>other_sexual_orientation</th>\n",
              "      <th>physical_disability</th>\n",
              "      <th>psychiatric_or_mental_illness</th>\n",
              "      <th>transgender</th>\n",
              "      <th>white</th>\n",
              "    </tr>\n",
              "  </thead>\n",
              "  <tbody>\n",
              "    <tr>\n",
              "      <th>count</th>\n",
              "      <td>405130.000000</td>\n",
              "      <td>405130.000000</td>\n",
              "      <td>405130.000000</td>\n",
              "      <td>405130.000000</td>\n",
              "      <td>405130.00000</td>\n",
              "      <td>405130.000000</td>\n",
              "      <td>405130.000000</td>\n",
              "      <td>405130.000000</td>\n",
              "      <td>405130.000000</td>\n",
              "      <td>405130.000000</td>\n",
              "      <td>405130.000000</td>\n",
              "      <td>405130.000000</td>\n",
              "      <td>405130.000000</td>\n",
              "      <td>405130.000000</td>\n",
              "      <td>405130.000000</td>\n",
              "      <td>405130.000000</td>\n",
              "      <td>405130.000000</td>\n",
              "      <td>405130.000000</td>\n",
              "      <td>405130.000000</td>\n",
              "      <td>405130.000000</td>\n",
              "      <td>405130.000000</td>\n",
              "      <td>405130.000000</td>\n",
              "      <td>405130.000000</td>\n",
              "      <td>405130.000000</td>\n",
              "    </tr>\n",
              "    <tr>\n",
              "      <th>mean</th>\n",
              "      <td>1.196355</td>\n",
              "      <td>0.320502</td>\n",
              "      <td>0.188429</td>\n",
              "      <td>3.439263</td>\n",
              "      <td>0.14105</td>\n",
              "      <td>9.526806</td>\n",
              "      <td>12.767027</td>\n",
              "      <td>0.323704</td>\n",
              "      <td>0.145738</td>\n",
              "      <td>2.561058</td>\n",
              "      <td>0.108810</td>\n",
              "      <td>1.786259</td>\n",
              "      <td>0.612658</td>\n",
              "      <td>10.868674</td>\n",
              "      <td>4.945957</td>\n",
              "      <td>0.122035</td>\n",
              "      <td>0.088383</td>\n",
              "      <td>0.824753</td>\n",
              "      <td>0.676121</td>\n",
              "      <td>0.149368</td>\n",
              "      <td>0.135606</td>\n",
              "      <td>1.208312</td>\n",
              "      <td>0.672367</td>\n",
              "      <td>5.695039</td>\n",
              "    </tr>\n",
              "    <tr>\n",
              "      <th>std</th>\n",
              "      <td>8.716616</td>\n",
              "      <td>5.019273</td>\n",
              "      <td>2.607737</td>\n",
              "      <td>16.790023</td>\n",
              "      <td>3.09233</td>\n",
              "      <td>25.667074</td>\n",
              "      <td>30.538373</td>\n",
              "      <td>4.580071</td>\n",
              "      <td>3.086157</td>\n",
              "      <td>14.373918</td>\n",
              "      <td>1.603164</td>\n",
              "      <td>12.214548</td>\n",
              "      <td>5.868400</td>\n",
              "      <td>26.789446</td>\n",
              "      <td>20.245876</td>\n",
              "      <td>1.410179</td>\n",
              "      <td>1.185302</td>\n",
              "      <td>4.271724</td>\n",
              "      <td>3.750375</td>\n",
              "      <td>1.537388</td>\n",
              "      <td>1.750522</td>\n",
              "      <td>8.918316</td>\n",
              "      <td>6.902715</td>\n",
              "      <td>21.596028</td>\n",
              "    </tr>\n",
              "    <tr>\n",
              "      <th>min</th>\n",
              "      <td>0.000000</td>\n",
              "      <td>0.000000</td>\n",
              "      <td>0.000000</td>\n",
              "      <td>0.000000</td>\n",
              "      <td>0.00000</td>\n",
              "      <td>0.000000</td>\n",
              "      <td>0.000000</td>\n",
              "      <td>0.000000</td>\n",
              "      <td>0.000000</td>\n",
              "      <td>0.000000</td>\n",
              "      <td>0.000000</td>\n",
              "      <td>0.000000</td>\n",
              "      <td>0.000000</td>\n",
              "      <td>0.000000</td>\n",
              "      <td>0.000000</td>\n",
              "      <td>0.000000</td>\n",
              "      <td>0.000000</td>\n",
              "      <td>0.000000</td>\n",
              "      <td>0.000000</td>\n",
              "      <td>0.000000</td>\n",
              "      <td>0.000000</td>\n",
              "      <td>0.000000</td>\n",
              "      <td>0.000000</td>\n",
              "      <td>0.000000</td>\n",
              "    </tr>\n",
              "    <tr>\n",
              "      <th>25%</th>\n",
              "      <td>0.000000</td>\n",
              "      <td>0.000000</td>\n",
              "      <td>0.000000</td>\n",
              "      <td>0.000000</td>\n",
              "      <td>0.00000</td>\n",
              "      <td>0.000000</td>\n",
              "      <td>0.000000</td>\n",
              "      <td>0.000000</td>\n",
              "      <td>0.000000</td>\n",
              "      <td>0.000000</td>\n",
              "      <td>0.000000</td>\n",
              "      <td>0.000000</td>\n",
              "      <td>0.000000</td>\n",
              "      <td>0.000000</td>\n",
              "      <td>0.000000</td>\n",
              "      <td>0.000000</td>\n",
              "      <td>0.000000</td>\n",
              "      <td>0.000000</td>\n",
              "      <td>0.000000</td>\n",
              "      <td>0.000000</td>\n",
              "      <td>0.000000</td>\n",
              "      <td>0.000000</td>\n",
              "      <td>0.000000</td>\n",
              "      <td>0.000000</td>\n",
              "    </tr>\n",
              "    <tr>\n",
              "      <th>50%</th>\n",
              "      <td>0.000000</td>\n",
              "      <td>0.000000</td>\n",
              "      <td>0.000000</td>\n",
              "      <td>0.000000</td>\n",
              "      <td>0.00000</td>\n",
              "      <td>0.000000</td>\n",
              "      <td>0.000000</td>\n",
              "      <td>0.000000</td>\n",
              "      <td>0.000000</td>\n",
              "      <td>0.000000</td>\n",
              "      <td>0.000000</td>\n",
              "      <td>0.000000</td>\n",
              "      <td>0.000000</td>\n",
              "      <td>0.000000</td>\n",
              "      <td>0.000000</td>\n",
              "      <td>0.000000</td>\n",
              "      <td>0.000000</td>\n",
              "      <td>0.000000</td>\n",
              "      <td>0.000000</td>\n",
              "      <td>0.000000</td>\n",
              "      <td>0.000000</td>\n",
              "      <td>0.000000</td>\n",
              "      <td>0.000000</td>\n",
              "      <td>0.000000</td>\n",
              "    </tr>\n",
              "    <tr>\n",
              "      <th>75%</th>\n",
              "      <td>0.000000</td>\n",
              "      <td>0.000000</td>\n",
              "      <td>0.000000</td>\n",
              "      <td>0.000000</td>\n",
              "      <td>0.00000</td>\n",
              "      <td>0.000000</td>\n",
              "      <td>0.000000</td>\n",
              "      <td>0.000000</td>\n",
              "      <td>0.000000</td>\n",
              "      <td>0.000000</td>\n",
              "      <td>0.000000</td>\n",
              "      <td>0.000000</td>\n",
              "      <td>0.000000</td>\n",
              "      <td>0.000000</td>\n",
              "      <td>0.000000</td>\n",
              "      <td>0.000000</td>\n",
              "      <td>0.000000</td>\n",
              "      <td>0.000000</td>\n",
              "      <td>0.000000</td>\n",
              "      <td>0.000000</td>\n",
              "      <td>0.000000</td>\n",
              "      <td>0.000000</td>\n",
              "      <td>0.000000</td>\n",
              "      <td>0.000000</td>\n",
              "    </tr>\n",
              "    <tr>\n",
              "      <th>max</th>\n",
              "      <td>100.000000</td>\n",
              "      <td>100.000000</td>\n",
              "      <td>100.000000</td>\n",
              "      <td>100.000000</td>\n",
              "      <td>100.00000</td>\n",
              "      <td>100.000000</td>\n",
              "      <td>100.000000</td>\n",
              "      <td>100.000000</td>\n",
              "      <td>100.000000</td>\n",
              "      <td>100.000000</td>\n",
              "      <td>100.000000</td>\n",
              "      <td>100.000000</td>\n",
              "      <td>100.000000</td>\n",
              "      <td>100.000000</td>\n",
              "      <td>100.000000</td>\n",
              "      <td>60.000000</td>\n",
              "      <td>75.000000</td>\n",
              "      <td>100.000000</td>\n",
              "      <td>100.000000</td>\n",
              "      <td>75.000000</td>\n",
              "      <td>100.000000</td>\n",
              "      <td>100.000000</td>\n",
              "      <td>100.000000</td>\n",
              "      <td>100.000000</td>\n",
              "    </tr>\n",
              "  </tbody>\n",
              "</table>\n",
              "</div>"
            ],
            "text/plain": [
              "               asian        atheist  ...    transgender          white\n",
              "count  405130.000000  405130.000000  ...  405130.000000  405130.000000\n",
              "mean        1.196355       0.320502  ...       0.672367       5.695039\n",
              "std         8.716616       5.019273  ...       6.902715      21.596028\n",
              "min         0.000000       0.000000  ...       0.000000       0.000000\n",
              "25%         0.000000       0.000000  ...       0.000000       0.000000\n",
              "50%         0.000000       0.000000  ...       0.000000       0.000000\n",
              "75%         0.000000       0.000000  ...       0.000000       0.000000\n",
              "max       100.000000     100.000000  ...     100.000000     100.000000\n",
              "\n",
              "[8 rows x 24 columns]"
            ]
          },
          "metadata": {
            "tags": []
          },
          "execution_count": 94
        }
      ]
    },
    {
      "cell_type": "markdown",
      "metadata": {
        "id": "8T8ASrjS-37d",
        "colab_type": "text"
      },
      "source": [
        "Even though I multiplied the entire identity tag data set by 100, IQR 25%, 50%, and 75%, are all still 0 for each identity tag. I could change 0 to NaN or NULL but I think that will skew the data in the opposite direction"
      ]
    },
    {
      "cell_type": "markdown",
      "metadata": {
        "id": "jmYelyCxvDVO",
        "colab_type": "text"
      },
      "source": [
        "## Question 6"
      ]
    },
    {
      "cell_type": "markdown",
      "metadata": {
        "id": "2Cq-ogtpp1zd",
        "colab_type": "text"
      },
      "source": [
        "What words are most prevalent within each toxicity bin? Are they the same across all 3 bins?"
      ]
    },
    {
      "cell_type": "code",
      "metadata": {
        "id": "IaCAtIBzyB4U",
        "colab_type": "code",
        "colab": {}
      },
      "source": [
        "unpickled_df_low = unpickled_df[unpickled_df.Toxicity_Bins == 'Low'].clean_text\n",
        "unpickled_df_neutral = unpickled_df[unpickled_df.Toxicity_Bins == 'Neutral'].clean_text\n",
        "unpickled_df_high = unpickled_df[unpickled_df.Toxicity_Bins == 'High'].clean_text"
      ],
      "execution_count": 0,
      "outputs": []
    },
    {
      "cell_type": "code",
      "metadata": {
        "id": "dXsNR6O-DqUK",
        "colab_type": "code",
        "outputId": "e065b291-aa28-4451-8d71-9b07fc659b0c",
        "colab": {
          "base_uri": "https://localhost:8080/",
          "height": 70
        }
      },
      "source": [
        "# All 'high' reviews:\n",
        "text_high = \" \".join(comment for comment in unpickled_df_high)\n",
        "print (\"There are {} words in the combination of all 'high toxicity' comments.\".format(len(text_high)))\n",
        "\n",
        "# All 'neutral' reviews:\n",
        "text_neutral = \" \".join(comment for comment in unpickled_df_neutral)\n",
        "print (\"There are {} words in the combination of all 'neutral toxicity' comments.\".format(len(text_neutral)))\n",
        "\n",
        "# All 'low' reviews:\n",
        "text_low = \" \".join(comment for comment in unpickled_df_low)\n",
        "print (\"There are {} words in the combination of all 'low toxicity' comments.\".format(len(text_low)))"
      ],
      "execution_count": 0,
      "outputs": [
        {
          "output_type": "stream",
          "text": [
            "There are 14405533 words in the combination of all 'high toxicity' comments.\n",
            "There are 43155436 words in the combination of all 'neutral toxicity' comments.\n",
            "There are 459023008 words in the combination of all 'low toxicity' comments.\n"
          ],
          "name": "stdout"
        }
      ]
    },
    {
      "cell_type": "code",
      "metadata": {
        "id": "j9deS_9oqHQk",
        "colab_type": "code",
        "colab": {}
      },
      "source": [
        "# set up for word clouds\n",
        "def plot_wordcloud(wordcloud):\n",
        "    plt.imshow(wordcloud)\n",
        "    plt.axis(\"off\")\n",
        "    plt.show()"
      ],
      "execution_count": 0,
      "outputs": []
    },
    {
      "cell_type": "code",
      "metadata": {
        "id": "T-9yhoql4tCZ",
        "colab_type": "code",
        "outputId": "c8d55948-2ded-4e90-ff24-d650f2fdd96b",
        "colab": {
          "base_uri": "https://localhost:8080/",
          "height": 234
        }
      },
      "source": [
        "# Create and generate a word cloud image for each bin:\n",
        "wordcloud_high = WordCloud().generate(text_high)\n",
        "plot_wordcloud(wordcloud_high)"
      ],
      "execution_count": 0,
      "outputs": [
        {
          "output_type": "display_data",
          "data": {
            "image/png": "[encoded data removed]",
            "text/plain": [
              "<Figure size 432x288 with 1 Axes>"
            ]
          },
          "metadata": {
            "tags": []
          }
        },
        {
          "output_type": "execute_result",
          "data": {
            "text/plain": [
              "Text(0.5, 0.98, 'Toxicity Bin: High')"
            ]
          },
          "metadata": {
            "tags": []
          },
          "execution_count": 21
        },
        {
          "output_type": "display_data",
          "data": {
            "text/plain": [
              "<Figure size 432x288 with 0 Axes>"
            ]
          },
          "metadata": {
            "tags": []
          }
        }
      ]
    },
    {
      "cell_type": "code",
      "metadata": {
        "id": "a5eG5h1E4wZA",
        "colab_type": "code",
        "outputId": "b005d64e-8c6a-4344-8593-3771e56387a7",
        "colab": {
          "base_uri": "https://localhost:8080/",
          "height": 198
        }
      },
      "source": [
        "# Create and generate a word cloud image for each bin:\n",
        "wordcloud_neutral = WordCloud().generate(text_neutral)\n",
        "plot_wordcloud(wordcloud_neutral)"
      ],
      "execution_count": 0,
      "outputs": [
        {
          "output_type": "display_data",
          "data": {
            "image/png": "[encoded data removed]",
            "text/plain": [
              "<Figure size 432x288 with 1 Axes>"
            ]
          },
          "metadata": {
            "tags": []
          }
        }
      ]
    },
    {
      "cell_type": "code",
      "metadata": {
        "id": "-_vUWE_y4w1O",
        "colab_type": "code",
        "outputId": "289f0738-5101-4550-be4d-d4afe21befb3",
        "colab": {
          "base_uri": "https://localhost:8080/",
          "height": 198
        }
      },
      "source": [
        "# Create and generate a word cloud image for each bin:\n",
        "wordcloud_low = WordCloud().generate(text_low)\n",
        "plot_wordcloud(wordcloud_low)"
      ],
      "execution_count": 0,
      "outputs": [
        {
          "output_type": "display_data",
          "data": {
            "image/png": "[encoded data removed]",
            "text/plain": [
              "<Figure size 432x288 with 1 Axes>"
            ]
          },
          "metadata": {
            "tags": []
          }
        }
      ]
    },
    {
      "cell_type": "markdown",
      "metadata": {
        "id": "BszJFD9WDqUN",
        "colab_type": "text"
      },
      "source": [
        "Between 'high' and 'neutral', trump, one, think, and people stand out the most. In comparison to 'low', only think and one cross all 3 word clouds. The words that stand out in 'low', canada, even, now, and maybe, tend to have a neutral connotation. Comparatively, stupid, idiot, and trump from 'high' have more of a negative connotation, especially in the fraught political environment of society today. By breaking the text into bins and creating word clouds, we are given a snapshot to how negative, neutral, and possibly positive words align with the target value assigned."
      ]
    },
    {
      "cell_type": "markdown",
      "metadata": {
        "id": "3oC5W4pjAv-A",
        "colab_type": "text"
      },
      "source": [
        "# Output"
      ]
    },
    {
      "cell_type": "code",
      "metadata": {
        "id": "kfvKW1qlAtdS",
        "colab_type": "code",
        "colab": {}
      },
      "source": [
        "# Create pickle file for use in the future \n",
        "\n",
        "unpickled_df_slimmed.to_pickle(dst + '/slimmed_data_w_features.pkl')\n",
        "unpickled_df.to_pickle(dst + '/full_data_w_features.pkl')"
      ],
      "execution_count": 0,
      "outputs": []
    }
  ]
}