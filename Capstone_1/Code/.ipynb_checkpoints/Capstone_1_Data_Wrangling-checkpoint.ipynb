{
 "cells": [
  {
   "cell_type": "markdown",
   "metadata": {},
   "source": [
    "# Springboard--DSC Program\n",
    "\n",
    "# Capstone Project 1 - Data Wrangling \n",
    "### by Ellen A. Savoye"
   ]
  },
  {
   "cell_type": "markdown",
   "metadata": {},
   "source": [
    "The data collected is from a Kaggle competition, Jigsaw Unintended Bias in Toxicity Classification, via the Kaggle API. Of the 7 files in the zipped data, we will be focusing on the 'train' data. The original 'train' data is comprised of 45 columns containing information on toxicity and identity labels, comments, and metadata. "
   ]
  },
  {
   "cell_type": "markdown",
   "metadata": {},
   "source": [
    "### Import packages and data"
   ]
  },
  {
   "cell_type": "code",
   "execution_count": 10,
   "metadata": {},
   "outputs": [],
   "source": [
    "#!pip install kaggle\n",
    "#!pip install spacy"
   ]
  },
  {
   "cell_type": "code",
   "execution_count": 11,
   "metadata": {},
   "outputs": [],
   "source": [
    "import spacy\n",
    "import pandas as pd\n",
    "import numpy as np\n",
    "import nltk\n",
    "from nltk.tokenize.toktok import ToktokTokenizer\n",
    "import re\n",
    "from bs4 import BeautifulSoup\n",
    "from contractions import CONTRACTION_MAP\n",
    "import unicodedata\n",
    "\n",
    "import json\n",
    "import os\n",
    "from os import path\n",
    "import shutil\n",
    "from zipfile import ZipFile\n",
    "\n",
    "from kaggle.api.kaggle_api_extended import KaggleApi"
   ]
  },
  {
   "cell_type": "code",
   "execution_count": 12,
   "metadata": {},
   "outputs": [],
   "source": [
    "# necessary dependencies for text pre-processing\n",
    "\n",
    "nlp = spacy.load('en_core_web_sm', parse=True, tag=True, entity=True)\n",
    "#nlp_vec = spacy.load('en_vecs', parse = True, tag=True, #entity=True)\n",
    "tokenizer = ToktokTokenizer()\n",
    "stopword_list = nltk.corpus.stopwords.words('english')\n",
    "stopword_list.remove('no')\n",
    "stopword_list.remove('not')"
   ]
  },
  {
   "cell_type": "code",
   "execution_count": 13,
   "metadata": {
    "scrolled": true
   },
   "outputs": [
    {
     "name": "stdout",
     "output_type": "stream",
     "text": [
      "Data is already downloaded\n"
     ]
    }
   ],
   "source": [
    "# Set directories\n",
    "src = \"C:\\\\Users\\\\ellen\\\\Documents\\\\GitHub\\\\Data_Science_Career_Track\\\\Capstone_1\\\\Code\\\\\"\n",
    "dst = \"C:\\\\Users\\\\ellen\\\\Documents\\\\GitHub\\\\Data_Science_Career_Track\\\\Capstone_1\\\\Data\\\\\"\n",
    "\n",
    "kaggle_comp_name = 'jigsaw-unintended-bias-in-toxicity-classification'\n",
    "zipfile_name = kaggle_comp_name + '.zip'\n",
    "\n",
    "csv_file = [i for i in os.listdir(dst) if i.startswith(\"train\") and path.isfile(path.join(dst, i))]\n",
    "zip_file = [i for i in os.listdir(dst) if i.startswith(\"jigsaw\") and path.isfile(path.join(dst, i))]\n",
    "\n",
    "if zip_file[0] != zipfile_name:\n",
    "    #Import data from Kaggle API\n",
    "    api = KaggleApi()\n",
    "    api.authenticate()\n",
    "    files = api.competition_download_files(kaggle_comp_name)\n",
    "    \n",
    "    # Move the jigsaw zip file to the Data folder\n",
    "    files = [i for i in os.listdir(src) if i.startswith(\"jigsaw\") and path.isfile(path.join(src, i))]\n",
    "    for f in files:\n",
    "        shutil.move(path.join(src, f), dst)\n",
    "    \n",
    "    # Check if Train data is already extracted\n",
    "    if csv_file != 'train.csv':\n",
    "        with ZipFile(dst + zipfile_name, 'r') as zipObj:\n",
    "            # Extract all the contents of zip file in current directory\n",
    "            print(zipObj.namelist())\n",
    "            zipObj.extract('train.csv', path = dst)\n",
    "else:\n",
    "    print('Data is already downloaded')"
   ]
  },
  {
   "cell_type": "code",
   "execution_count": 14,
   "metadata": {
    "scrolled": true
   },
   "outputs": [
    {
     "name": "stdout",
     "output_type": "stream",
     "text": [
      "Total rows: 1804874\n",
      "['id', 'target', 'comment_text', 'severe_toxicity', 'obscene', 'identity_attack', 'insult', 'threat', 'asian', 'atheist', 'bisexual', 'black', 'buddhist', 'christian', 'female', 'heterosexual', 'hindu', 'homosexual_gay_or_lesbian', 'intellectual_or_learning_disability', 'jewish', 'latino', 'male', 'muslim', 'other_disability', 'other_gender', 'other_race_or_ethnicity', 'other_religion', 'other_sexual_orientation', 'physical_disability', 'psychiatric_or_mental_illness', 'transgender', 'white', 'created_date', 'publication_id', 'parent_id', 'article_id', 'rating', 'funny', 'wow', 'sad', 'likes', 'disagree', 'sexual_explicit', 'identity_annotator_count', 'toxicity_annotator_count']\n"
     ]
    }
   ],
   "source": [
    "# Read in the train dataset\n",
    "csv_filename = 'train.csv'\n",
    "train_data = pd.read_csv(dst + csv_filename, low_memory=False)\n",
    "\n",
    "# Output the number of rows\n",
    "print(\"Total rows: {0}\".format(len(train_data)))\n",
    "\n",
    "# See which headers are available\n",
    "print(list(train_data))"
   ]
  },
  {
   "cell_type": "markdown",
   "metadata": {},
   "source": [
    "The metadata from Civil Comments platform is contained in the following columns: created_date, publication_id, parent_id, article_id, rating, funny, wow, sad, likes, and disagree.\n",
    "\n",
    "I will be keeping these fields in for further exploration and possible use."
   ]
  },
  {
   "cell_type": "code",
   "execution_count": 15,
   "metadata": {},
   "outputs": [
    {
     "name": "stdout",
     "output_type": "stream",
     "text": [
      "Missing values per column:\n",
      "id                                           0\n",
      "target                                       0\n",
      "comment_text                                 0\n",
      "severe_toxicity                              0\n",
      "obscene                                      0\n",
      "identity_attack                              0\n",
      "insult                                       0\n",
      "threat                                       0\n",
      "asian                                  1399744\n",
      "atheist                                1399744\n",
      "bisexual                               1399744\n",
      "black                                  1399744\n",
      "buddhist                               1399744\n",
      "christian                              1399744\n",
      "female                                 1399744\n",
      "heterosexual                           1399744\n",
      "hindu                                  1399744\n",
      "homosexual_gay_or_lesbian              1399744\n",
      "intellectual_or_learning_disability    1399744\n",
      "jewish                                 1399744\n",
      "latino                                 1399744\n",
      "male                                   1399744\n",
      "muslim                                 1399744\n",
      "other_disability                       1399744\n",
      "other_gender                           1399744\n",
      "other_race_or_ethnicity                1399744\n",
      "other_religion                         1399744\n",
      "other_sexual_orientation               1399744\n",
      "physical_disability                    1399744\n",
      "psychiatric_or_mental_illness          1399744\n",
      "transgender                            1399744\n",
      "white                                  1399744\n",
      "created_date                                 0\n",
      "publication_id                               0\n",
      "parent_id                               778646\n",
      "article_id                                   0\n",
      "rating                                       0\n",
      "funny                                        0\n",
      "wow                                          0\n",
      "sad                                          0\n",
      "likes                                        0\n",
      "disagree                                     0\n",
      "sexual_explicit                              0\n",
      "identity_annotator_count                     0\n",
      "toxicity_annotator_count                     0\n",
      "dtype: int64\n"
     ]
    }
   ],
   "source": [
    "#function for counting null records:\n",
    "def num_missing(x):\n",
    "    return sum(x.isnull())\n",
    "\n",
    "#Applying per column:\n",
    "print(\"Missing values per column:\")\n",
    "print(train_data.apply(num_missing, axis=0))"
   ]
  },
  {
   "cell_type": "code",
   "execution_count": 16,
   "metadata": {},
   "outputs": [
    {
     "name": "stdout",
     "output_type": "stream",
     "text": [
      "id                                      0.0\n",
      "target                                  0.0\n",
      "comment_text                            0.0\n",
      "severe_toxicity                         0.0\n",
      "obscene                                 0.0\n",
      "identity_attack                         0.0\n",
      "insult                                  0.0\n",
      "threat                                  0.0\n",
      "asian                                  77.6\n",
      "atheist                                77.6\n",
      "bisexual                               77.6\n",
      "black                                  77.6\n",
      "buddhist                               77.6\n",
      "christian                              77.6\n",
      "female                                 77.6\n",
      "heterosexual                           77.6\n",
      "hindu                                  77.6\n",
      "homosexual_gay_or_lesbian              77.6\n",
      "intellectual_or_learning_disability    77.6\n",
      "jewish                                 77.6\n",
      "latino                                 77.6\n",
      "male                                   77.6\n",
      "muslim                                 77.6\n",
      "other_disability                       77.6\n",
      "other_gender                           77.6\n",
      "other_race_or_ethnicity                77.6\n",
      "other_religion                         77.6\n",
      "other_sexual_orientation               77.6\n",
      "physical_disability                    77.6\n",
      "psychiatric_or_mental_illness          77.6\n",
      "transgender                            77.6\n",
      "white                                  77.6\n",
      "created_date                            0.0\n",
      "publication_id                          0.0\n",
      "parent_id                              43.1\n",
      "article_id                              0.0\n",
      "rating                                  0.0\n",
      "funny                                   0.0\n",
      "wow                                     0.0\n",
      "sad                                     0.0\n",
      "likes                                   0.0\n",
      "disagree                                0.0\n",
      "sexual_explicit                         0.0\n",
      "identity_annotator_count                0.0\n",
      "toxicity_annotator_count                0.0\n",
      "dtype: float64\n"
     ]
    }
   ],
   "source": [
    "# Find percent of missing values for each column instead of number of records\n",
    "\n",
    "percent_missing = train_data.isnull().sum() * 100 / len(train_data)\n",
    "print(round(percent_missing,1))"
   ]
  },
  {
   "cell_type": "code",
   "execution_count": 17,
   "metadata": {},
   "outputs": [
    {
     "data": {
      "text/plain": [
       "id                                       int64\n",
       "target                                 float64\n",
       "comment_text                            object\n",
       "severe_toxicity                        float64\n",
       "obscene                                float64\n",
       "identity_attack                        float64\n",
       "insult                                 float64\n",
       "threat                                 float64\n",
       "asian                                  float64\n",
       "atheist                                float64\n",
       "bisexual                               float64\n",
       "black                                  float64\n",
       "buddhist                               float64\n",
       "christian                              float64\n",
       "female                                 float64\n",
       "heterosexual                           float64\n",
       "hindu                                  float64\n",
       "homosexual_gay_or_lesbian              float64\n",
       "intellectual_or_learning_disability    float64\n",
       "jewish                                 float64\n",
       "latino                                 float64\n",
       "male                                   float64\n",
       "muslim                                 float64\n",
       "other_disability                       float64\n",
       "other_gender                           float64\n",
       "other_race_or_ethnicity                float64\n",
       "other_religion                         float64\n",
       "other_sexual_orientation               float64\n",
       "physical_disability                    float64\n",
       "psychiatric_or_mental_illness          float64\n",
       "transgender                            float64\n",
       "white                                  float64\n",
       "created_date                            object\n",
       "publication_id                           int64\n",
       "parent_id                              float64\n",
       "article_id                               int64\n",
       "rating                                  object\n",
       "funny                                    int64\n",
       "wow                                      int64\n",
       "sad                                      int64\n",
       "likes                                    int64\n",
       "disagree                                 int64\n",
       "sexual_explicit                        float64\n",
       "identity_annotator_count                 int64\n",
       "toxicity_annotator_count                 int64\n",
       "dtype: object"
      ]
     },
     "execution_count": 17,
     "metadata": {},
     "output_type": "execute_result"
    }
   ],
   "source": [
    "# Data type of each column\n",
    "\n",
    "train_data.dtypes"
   ]
  },
  {
   "cell_type": "code",
   "execution_count": 27,
   "metadata": {},
   "outputs": [
    {
     "data": {
      "text/plain": [
       "array(['rejected', 'approved'], dtype=object)"
      ]
     },
     "execution_count": 27,
     "metadata": {},
     "output_type": "execute_result"
    }
   ],
   "source": [
    "train_data.rating.unique()"
   ]
  },
  {
   "cell_type": "code",
   "execution_count": 22,
   "metadata": {},
   "outputs": [
    {
     "data": {
      "text/plain": [
       "(1804874, 45)"
      ]
     },
     "execution_count": 22,
     "metadata": {},
     "output_type": "execute_result"
    }
   ],
   "source": [
    "train_data.shape"
   ]
  },
  {
   "cell_type": "markdown",
   "metadata": {},
   "source": [
    "There are 45 columns in the train dataframe. Of those 45, only three columns, 'comment_text', 'created_date', and 'rating', are objects. The remaining 42 are either float64 or int64. These columns are non-categorical. 'Comment_text' is categorical containing the individual comments that we need to analyze. 'Created_date' contains the original date the comments were created. 'Rating' is a categorical containing two values: rejected or approved. "
   ]
  },
  {
   "cell_type": "code",
   "execution_count": 26,
   "metadata": {},
   "outputs": [
    {
     "data": {
      "text/plain": [
       "0    This is so cool. It's like, 'would you want yo...\n",
       "1    Thank you!! This would make my life a lot less...\n",
       "2    This is such an urgent design problem; kudos t...\n",
       "3    Is this something I'll be able to install on m...\n",
       "4                 haha you guys are a bunch of losers.\n",
       "Name: comment_text, dtype: object"
      ]
     },
     "execution_count": 26,
     "metadata": {},
     "output_type": "execute_result"
    }
   ],
   "source": [
    "train_data.comment_text.head(5)"
   ]
  },
  {
   "cell_type": "code",
   "execution_count": 19,
   "metadata": {},
   "outputs": [
    {
     "data": {
      "text/plain": [
       "array([0.        , 0.89361702, 0.66666667, ..., 0.87726476, 0.01116838,\n",
       "       0.87008821])"
      ]
     },
     "execution_count": 19,
     "metadata": {},
     "output_type": "execute_result"
    }
   ],
   "source": [
    "# View unique records in a particular column\n",
    "\n",
    "#sorted(train_data.target.unique())\n",
    "train_data.target.unique()"
   ]
  },
  {
   "cell_type": "markdown",
   "metadata": {},
   "source": [
    "Toxicity and identity labels range from 0.0-1.0. The value represents the fraction of raters who believed the label fit the comment. Toxicity labels do not have any missing values. According to the competition details, a subset of comments have been labeled with a variety of identity attributes that have been mentioned in the comment. As such, every identity label is missing ~78% of the values per column. The subset comprises approximately 22% of the data. \n",
    "\n",
    "Two examples of how labeling works are as follows:\n",
    "Example 1: \n",
    "    - Comment: I'm a white woman in my late 60's and believe me, they are not too crazy about me either!!\n",
    "    - Toxicity Labels: All 0.0\n",
    "    - Identity Mention Labels: female: 1.0, white: 1.0 (all others 0.0)\n",
    "\n",
    "Example 2: \n",
    "    - Comment: Continue to stand strong LGBT community. Yes, indeed, you'll overcome and you have.\n",
    "    - Toxicity Labels: All 0.0\n",
    "    - Identity Mention Labels: homosexual_gay_or_lesbian: 0.8, bisexual: 0.6, transgender: 0.3 (all others 0.0)\n"
   ]
  },
  {
   "cell_type": "markdown",
   "metadata": {},
   "source": [
    "'Target' is the toxicity label. 'Severe_toxicity', 'obscene', 'identity_attack', 'insult', 'threat', and 'sexual_explicit' are toxicity sub types. All toxicity labels can be converted to categorical variables by using >= 0.5 as a positive indicator (1). \n",
    "\n",
    "Aside from 'id', 'comment_text', 'identity_annotator_count' and 'toxicity_annotator_count', the same conversion can be applied to the remaining identity columns. 'Id' is a unique identifier for each comment but may not hold value to keep in the data frame. 'Identity_annotator_count' and 'toxicity_annotator_count' are metadata columns from Jigsaw and may not hold value either. However, I'm not removing them until I do my exploratory data analysis to determine if they offer valuable insights. "
   ]
  },
  {
   "cell_type": "markdown",
   "metadata": {},
   "source": [
    "'Comment_text' will need to be cleaned, vectorized, and eventually create a design matrix.  "
   ]
  },
  {
   "cell_type": "code",
   "execution_count": 28,
   "metadata": {},
   "outputs": [
    {
     "data": {
      "text/plain": [
       "(array([], dtype=int64), array([], dtype=int64))"
      ]
     },
     "execution_count": 28,
     "metadata": {},
     "output_type": "execute_result"
    }
   ],
   "source": [
    "# Checking for blank string records\n",
    "np.where(train_data.applymap(lambda x: x == ''))"
   ]
  },
  {
   "cell_type": "code",
   "execution_count": 30,
   "metadata": {},
   "outputs": [
    {
     "name": "stdout",
     "output_type": "stream",
     "text": [
      "Minimum value: \n"
     ]
    },
    {
     "data": {
      "text/plain": [
       "id                                                                                 59848\n",
       "target                                                                                 0\n",
       "comment_text                           \u0010Canada is north of the USA border,  its colde...\n",
       "severe_toxicity                                                                        0\n",
       "obscene                                                                                0\n",
       "identity_attack                                                                        0\n",
       "insult                                                                                 0\n",
       "threat                                                                                 0\n",
       "asian                                                                                  0\n",
       "atheist                                                                                0\n",
       "bisexual                                                                               0\n",
       "black                                                                                  0\n",
       "buddhist                                                                               0\n",
       "christian                                                                              0\n",
       "female                                                                                 0\n",
       "heterosexual                                                                           0\n",
       "hindu                                                                                  0\n",
       "homosexual_gay_or_lesbian                                                              0\n",
       "intellectual_or_learning_disability                                                    0\n",
       "jewish                                                                                 0\n",
       "latino                                                                                 0\n",
       "male                                                                                   0\n",
       "muslim                                                                                 0\n",
       "other_disability                                                                       0\n",
       "other_gender                                                                           0\n",
       "other_race_or_ethnicity                                                                0\n",
       "other_religion                                                                         0\n",
       "other_sexual_orientation                                                               0\n",
       "physical_disability                                                                    0\n",
       "psychiatric_or_mental_illness                                                          0\n",
       "transgender                                                                            0\n",
       "white                                                                                  0\n",
       "created_date                                               2015-09-29 10:50:41.987077+00\n",
       "publication_id                                                                         2\n",
       "parent_id                                                                          61006\n",
       "article_id                                                                          2006\n",
       "rating                                                                          approved\n",
       "funny                                                                                  0\n",
       "wow                                                                                    0\n",
       "sad                                                                                    0\n",
       "likes                                                                                  0\n",
       "disagree                                                                               0\n",
       "sexual_explicit                                                                        0\n",
       "identity_annotator_count                                                               0\n",
       "toxicity_annotator_count                                                               3\n",
       "dtype: object"
      ]
     },
     "execution_count": 30,
     "metadata": {},
     "output_type": "execute_result"
    }
   ],
   "source": [
    "# Checking the range of numerical columns\n",
    "print('Minimum value: ')\n",
    "train_data.iloc[:,:].min()"
   ]
  },
  {
   "cell_type": "code",
   "execution_count": 31,
   "metadata": {},
   "outputs": [
    {
     "name": "stdout",
     "output_type": "stream",
     "text": [
      "Maximum value: \n"
     ]
    },
    {
     "data": {
      "text/plain": [
       "id                                                           6334010\n",
       "target                                                             1\n",
       "comment_text                                         🤣gotta love it!\n",
       "severe_toxicity                                                    1\n",
       "obscene                                                            1\n",
       "identity_attack                                                    1\n",
       "insult                                                             1\n",
       "threat                                                             1\n",
       "asian                                                              1\n",
       "atheist                                                            1\n",
       "bisexual                                                           1\n",
       "black                                                              1\n",
       "buddhist                                                           1\n",
       "christian                                                          1\n",
       "female                                                             1\n",
       "heterosexual                                                       1\n",
       "hindu                                                              1\n",
       "homosexual_gay_or_lesbian                                          1\n",
       "intellectual_or_learning_disability                                1\n",
       "jewish                                                             1\n",
       "latino                                                             1\n",
       "male                                                               1\n",
       "muslim                                                             1\n",
       "other_disability                                                 0.6\n",
       "other_gender                                                    0.75\n",
       "other_race_or_ethnicity                                            1\n",
       "other_religion                                                     1\n",
       "other_sexual_orientation                                        0.75\n",
       "physical_disability                                                1\n",
       "psychiatric_or_mental_illness                                      1\n",
       "transgender                                                        1\n",
       "white                                                              1\n",
       "created_date                           2017-11-11 01:01:10.822969+00\n",
       "publication_id                                                   115\n",
       "parent_id                                                6.33396e+06\n",
       "article_id                                                    399541\n",
       "rating                                                      rejected\n",
       "funny                                                            102\n",
       "wow                                                               21\n",
       "sad                                                               31\n",
       "likes                                                            300\n",
       "disagree                                                         187\n",
       "sexual_explicit                                                    1\n",
       "identity_annotator_count                                        1866\n",
       "toxicity_annotator_count                                        4936\n",
       "dtype: object"
      ]
     },
     "execution_count": 31,
     "metadata": {},
     "output_type": "execute_result"
    }
   ],
   "source": [
    "print('Maximum value: ')\n",
    "train_data.iloc[:,:].max()"
   ]
  },
  {
   "cell_type": "code",
   "execution_count": null,
   "metadata": {},
   "outputs": [],
   "source": []
  },
  {
   "cell_type": "markdown",
   "metadata": {},
   "source": [
    "what can be deleted from messages field?\n",
    "-stop words, punctuation, emoji, \n",
    "\n",
    "lematization or stemming\n",
    "output of wrangling - corpus can be part of a data frame with other cleaned up columns"
   ]
  },
  {
   "cell_type": "markdown",
   "metadata": {},
   "source": [
    "- Why removing meta-data columns? There has to be a data-science driven reason ...\n",
    "    1) can't delete columns from dataset without approval from owner of data\n",
    "    2) just because I don't see a connection doesn't mean there is one\n",
    "    3) how can use the information that we're given to create a potential feature that is a measure the level of intention - like or don't like\n",
    "\n",
    "- Null values implies values that are missing. Is it possible to have values that are missing that are not null?\n",
    "    1) cases where values are not null but can still be not good\n",
    " \n",
    "- How would we check for data quality?\n",
    "    1) max, min, range, content, etc.\n",
    "\n",
    "- There seem to be many columns with about 80% of values that are missing. How do we deal with this?\n",
    "    1) Could limit the data to the ~20% of the data with identifiers\n",
    "    2) concentrate on comment_text and response variable initially?\n",
    "    \n",
    "    a) would it make sense to compute them myself?\n",
    "\n",
    "- Do we know what columns are categorical and what columns are non-categorical? \n",
    "    1) I would say the identity labels are categorical\n",
    "    2) target is the response\n",
    "    3) what would comment_text be?\n",
    "    non-categorical predominantly - continuous metric\n",
    "    categorical - comment_text, refers to a class\n",
    "\n",
    "- Think about ways of persisting the dataset as an output of the wrangling phase, which will be an input to the next phase storytelling). (Hint ... you can use something like Pickle, or perhaps generate a CSV file)\n",
    "    1) pickle the data"
   ]
  },
  {
   "cell_type": "markdown",
   "metadata": {},
   "source": [
    "emoji - encoded to a string as a token (possibility); do search on how to deal with emoji in NLP\n",
    "\n",
    "packages - nltk, spacy\n",
    "\n",
    "check if summation of identity labels across rows is equal to 1.0"
   ]
  },
  {
   "cell_type": "markdown",
   "metadata": {},
   "source": [
    "# NLP Things"
   ]
  },
  {
   "cell_type": "markdown",
   "metadata": {},
   "source": [
    "unicode remove, freq count is an option, every emoji maps to a unicode character and maybe can map it to a text entity. \n",
    "\n",
    "\n",
    "frequency stopwords, manual inspection\n",
    "think about & determine - punc, stop words, conjuctions"
   ]
  },
  {
   "cell_type": "code",
   "execution_count": 40,
   "metadata": {},
   "outputs": [],
   "source": [
    "comment_df = train_data[['id', 'comment_text']]"
   ]
  },
  {
   "cell_type": "code",
   "execution_count": 84,
   "metadata": {},
   "outputs": [],
   "source": [
    "# Remove accented characters - convert to standardized ASCII characters\n",
    "\n",
    "def remove_accented_chars(text):\n",
    "    text = unicodedata.normalize('NFKD', text).encode('ascii', 'ignore').decode('utf-8', 'ignore')\n",
    "    return text\n",
    "\n",
    "train_data.loc[:,'comment_text_cleaned'] = train_data.loc[:,'comment_text'].apply(lambda x: remove_accented_chars(x))"
   ]
  },
  {
   "cell_type": "code",
   "execution_count": 92,
   "metadata": {},
   "outputs": [],
   "source": [
    "# removing contractions \n",
    "\n",
    "def expand_contractions(text, contraction_mapping=CONTRACTION_MAP):\n",
    "    \n",
    "    contractions_pattern = re.compile('({})'.format('|'.join(contraction_mapping.keys())), \n",
    "                                      flags=re.IGNORECASE|re.DOTALL)\n",
    "    def expand_match(contraction):\n",
    "        match = contraction.group(0)\n",
    "        first_char = match[0]\n",
    "        expanded_contraction = contraction_mapping.get(match)\\\n",
    "                                if contraction_mapping.get(match)\\\n",
    "                                else contraction_mapping.get(match.lower())                       \n",
    "        expanded_contraction = first_char+expanded_contraction[1:]\n",
    "        return expanded_contraction\n",
    "        \n",
    "    expanded_text = contractions_pattern.sub(expand_match, text)\n",
    "    expanded_text = re.sub(\"'\", \"\", expanded_text)\n",
    "    return expanded_text\n",
    "\n",
    "train_data.loc[:,'comment_text_cleaned'] = train_data.loc[:,'comment_text_cleaned'].apply(lambda x: expand_contractions(x))"
   ]
  },
  {
   "cell_type": "code",
   "execution_count": 93,
   "metadata": {},
   "outputs": [
    {
     "name": "stdout",
     "output_type": "stream",
     "text": [
      "0          this is so cool. it is like, would you want yo...\n",
      "1          thank you!! this would make my life a lot less...\n",
      "2          this is such an urgent design problem; kudos t...\n",
      "3          is this something i will be able to install on...\n",
      "4                       haha you guys are a bunch of losers.\n",
      "5                                       ur a sh*tty comment.\n",
      "6                                hahahahahahahahhha suck it.\n",
      "7                                        ffffuuuuuuuuuuuuuuu\n",
      "8          the ranchers seem motivated by mostly by greed...\n",
      "9          it was a great show. not a combo i would of ex...\n",
      "10                                   wow, that sounds great.\n",
      "11         this is a great story. man. i wonder if the pe...\n",
      "12            this seems like a step in the right direction.\n",
      "13         it is ridiculous that these guys are being cal...\n",
      "14         this story gets more ridiculous by the hour! a...\n",
      "15         i agree; i do not want to grant them the legit...\n",
      "16         interesting. i will be curious to see how this...\n",
      "17                           awesome! i love civil comments!\n",
      "18         i am glad you are working on this, and i look ...\n",
      "19         angry trolls, misogynists and racists\", oh my....\n",
      "20         nice to some attempts to try to make comments ...\n",
      "21         one would hope that the purpose of introducing...\n",
      "22         comments will be randomly chosen and be review...\n",
      "23         she would be a major improvement for city coun...\n",
      "24         i agree! comments have so much potential to be...\n",
      "25         great question! it is one we are asked a lot. ...\n",
      "26         thanks, christa!  will you be adding any featu...\n",
      "27         our aim is actually the opposite: we want spir...\n",
      "28         thanks! we are really going to try  not only t...\n",
      "29         i applaud civils efforts to create some new te...\n",
      "                                 ...                        \n",
      "1804844    one of the first things that they teach in law...\n",
      "1804845    i would ask ms. renzetti to be honest with her...\n",
      "1804846    betcha his career is not over, contrary to pop...\n",
      "1804847    i understand your attitude on this.  but i thi...\n",
      "1804848    womens rights?  last i checked women were just...\n",
      "1804849    a democrat accused of sexual harassment, go fi...\n",
      "1804850    every time there are testimonies, like this, i...\n",
      "1804851    so you think that we should have laws protecti...\n",
      "1804852    xi and his comrades must be smirking over trum...\n",
      "1804853    love your sarcasm thick or are you just being ...\n",
      "1804854    all economists are using gdp in the world. ind...\n",
      "1804855    it is of course normal and natural for eugene ...\n",
      "1804856    believing in god or not believing in god are p...\n",
      "1804857    i take your point, but i think you are shootin...\n",
      "1804858    my thought exactly.  the only people he has no...\n",
      "1804859    irt satire, fully disagree with your post.  2/...\n",
      "1804860    gba:  i do agree that disruptive behavior shou...\n",
      "1804861    i agree, bill g\\nthe vote-buying has begun by ...\n",
      "1804862    no, the probability of dying may be very, very...\n",
      "1804863    nah, i am too boring to parody.  this guy camp...\n",
      "1804864    yes, of course that works for files on board a...\n",
      "1804865    payettes point of view is legitimate and i thi...\n",
      "1804866                there is no whine like alberta whine!\n",
      "1804867    if alberta had given them nothing, you would s...\n",
      "1804868    cont....gba:  \"heres the summation of that \"le...\n",
      "1804869    maybe the tax on \"things\" would be collected w...\n",
      "1804870    what do you call people who still think the di...\n",
      "1804871    thank you ,,,right or wrong,,, i am following ...\n",
      "1804872    anyone who is quoted as having the following e...\n",
      "1804873    students defined as ebd are legally just as di...\n",
      "Name: comment_text_cleaned, Length: 1804874, dtype: object\n"
     ]
    }
   ],
   "source": [
    "print(train_data.loc[:,'comment_text_cleaned'])"
   ]
  },
  {
   "cell_type": "code",
   "execution_count": 96,
   "metadata": {},
   "outputs": [
    {
     "data": {
      "text/plain": [
       "(array([  78744,  120961,  162887,  203729,  208209,  347259,  412110,\n",
       "         430730,  459559,  471847,  518735,  588255,  726155,  834734,\n",
       "         847842,  906198, 1133942, 1364503, 1368360, 1415413, 1460246,\n",
       "        1478845, 1690888, 1736323, 1749861, 1766576], dtype=int64),\n",
       " array([45, 45, 45, 45, 45, 45, 45, 45, 45, 45, 45, 45, 45, 45, 45, 45, 45,\n",
       "        45, 45, 45, 45, 45, 45, 45, 45, 45], dtype=int64))"
      ]
     },
     "execution_count": 96,
     "metadata": {},
     "output_type": "execute_result"
    }
   ],
   "source": [
    "# Checking for blank string records\n",
    "np.where(train_data.applymap(lambda x: x == ''))"
   ]
  },
  {
   "cell_type": "code",
   "execution_count": null,
   "metadata": {},
   "outputs": [],
   "source": [
    "# change characters to lower case - DO LAST\n",
    "\n",
    "train_data.loc[:,'comment_text_cleaned'] = train_data.loc[:,'comment_text_cleaned'].apply(lambda x: x.lower())"
   ]
  }
 ],
 "metadata": {
  "kernelspec": {
   "display_name": "Python 3",
   "language": "python",
   "name": "python3"
  },
  "language_info": {
   "codemirror_mode": {
    "name": "ipython",
    "version": 3
   },
   "file_extension": ".py",
   "mimetype": "text/x-python",
   "name": "python",
   "nbconvert_exporter": "python",
   "pygments_lexer": "ipython3",
   "version": "3.7.3"
  },
  "toc": {
   "base_numbering": 1,
   "nav_menu": {},
   "number_sections": true,
   "sideBar": true,
   "skip_h1_title": false,
   "title_cell": "Table of Contents",
   "title_sidebar": "Contents",
   "toc_cell": false,
   "toc_position": {},
   "toc_section_display": true,
   "toc_window_display": false
  }
 },
 "nbformat": 4,
 "nbformat_minor": 2
}
