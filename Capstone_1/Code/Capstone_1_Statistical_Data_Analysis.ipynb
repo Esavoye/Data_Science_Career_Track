{
  "nbformat": 4,
  "nbformat_minor": 0,
  "metadata": {
    "colab": {
      "name": "Capstone_1_Statistical_Data_Analysis",
      "provenance": [],
      "collapsed_sections": [],
      "toc_visible": true,
      "machine_shape": "hm"
    },
    "kernelspec": {
      "name": "python3",
      "display_name": "Python 3"
    }
  },
  "cells": [
    {
      "cell_type": "markdown",
      "metadata": {
        "id": "TBCvmtGfo-Th",
        "colab_type": "text"
      },
      "source": [
        "# Springboard--DSC Program\n",
        "\n",
        "# Capstone Project 1 - Statistical Data Analysis \n",
        "### by Ellen A. Savoye"
      ]
    },
    {
      "cell_type": "code",
      "metadata": {
        "id": "8excymRso7jd",
        "colab_type": "code",
        "outputId": "6147f7c0-7d0b-4e0c-ad39-838a533bb6df",
        "colab": {
          "base_uri": "https://localhost:8080/",
          "height": 34
        }
      },
      "source": [
        "from google.colab import drive\n",
        "drive.mount('/content/drive')"
      ],
      "execution_count": 56,
      "outputs": [
        {
          "output_type": "stream",
          "text": [
            "Drive already mounted at /content/drive; to attempt to forcibly remount, call drive.mount(\"/content/drive\", force_remount=True).\n"
          ],
          "name": "stdout"
        }
      ]
    },
    {
      "cell_type": "markdown",
      "metadata": {
        "id": "Q9K1yheAu0A9",
        "colab_type": "text"
      },
      "source": [
        "## Summary"
      ]
    },
    {
      "cell_type": "markdown",
      "metadata": {
        "id": "V69Mvr_uu9M9",
        "colab_type": "text"
      },
      "source": [
        "During EDA, I created new features to convert the target variable into binary as well as created toxicity bins: low, medium, and high. In combination with comment length and word frequency, I visually explored the distribution of binned toxicity for any patterns, trends, or similarities. I found that toxic comments had a tendency for being shorter in length than non-toxic. \n",
        "\n",
        "Using statistical analysis, I'm going to see if the average length of comments associated with toxic/non-toxic comments have a statistically significant difference. \n",
        "\n",
        "Following that, I am going to create my design matrix and use it to determine which features are correlated and statistically significant via correlation coefficient and p-values.  \n"
      ]
    },
    {
      "cell_type": "markdown",
      "metadata": {
        "id": "NVOstLhVmv7X",
        "colab_type": "text"
      },
      "source": [
        "# Import packages and data\n"
      ]
    },
    {
      "cell_type": "code",
      "metadata": {
        "id": "k9bv0hBza7DG",
        "colab_type": "code",
        "colab": {}
      },
      "source": [
        "# !pip install wordcloud\n",
        "# !pip install kaggle\n",
        "# !pip install spacy\n",
        "# !pip install swifter\n",
        "# !pip install tqdm"
      ],
      "execution_count": 0,
      "outputs": []
    },
    {
      "cell_type": "code",
      "metadata": {
        "id": "V000gO_ZTLla",
        "colab_type": "code",
        "colab": {
          "base_uri": "https://localhost:8080/",
          "height": 70
        },
        "outputId": "b06c14ba-c427-4c35-97c4-8934703ceca4"
      },
      "source": [
        "import pandas as pd\n",
        "import numpy as np\n",
        "import itertools\n",
        "from collections import Counter\n",
        "\n",
        "# libraries for NLP\n",
        "import spacy\n",
        "import nltk\n",
        "from nltk.tokenize.toktok import ToktokTokenizer\n",
        "from nltk.tokenize import word_tokenize\n",
        "from nltk.corpus import stopwords\n",
        "\n",
        "from sklearn.feature_extraction.text import CountVectorizer, TfidfVectorizer, TfidfTransformer\n",
        "from scipy import stats\n",
        "# from scipy.stats import pearsonr\n",
        "\n",
        "# libraries for getting and moving data\n",
        "import os\n",
        "from os import path\n",
        "import shutil\n",
        "from zipfile import ZipFile\n",
        "\n",
        "# for Images\n",
        "from PIL import Image\n",
        "import seaborn as sns\n",
        "import matplotlib.pyplot as plt\n",
        "import matplotlib.ticker as mtick\n",
        "%matplotlib inline"
      ],
      "execution_count": 2,
      "outputs": [
        {
          "output_type": "stream",
          "text": [
            "/usr/local/lib/python3.6/dist-packages/statsmodels/tools/_testing.py:19: FutureWarning: pandas.util.testing is deprecated. Use the functions in the public API at pandas.testing instead.\n",
            "  import pandas.util.testing as tm\n"
          ],
          "name": "stderr"
        }
      ]
    },
    {
      "cell_type": "code",
      "metadata": {
        "id": "i_wKFpFJbDNl",
        "colab_type": "code",
        "outputId": "ffd3c044-822f-4815-bb9c-2770163a9ddf",
        "colab": {
          "base_uri": "https://localhost:8080/",
          "height": 101
        }
      },
      "source": [
        "# google colab only\n",
        "nltk.download('stopwords')\n",
        "nltk.download('punkt')"
      ],
      "execution_count": 4,
      "outputs": [
        {
          "output_type": "stream",
          "text": [
            "[nltk_data] Downloading package stopwords to /root/nltk_data...\n",
            "[nltk_data]   Package stopwords is already up-to-date!\n",
            "[nltk_data] Downloading package punkt to /root/nltk_data...\n",
            "[nltk_data]   Package punkt is already up-to-date!\n"
          ],
          "name": "stdout"
        },
        {
          "output_type": "execute_result",
          "data": {
            "text/plain": [
              "True"
            ]
          },
          "metadata": {
            "tags": []
          },
          "execution_count": 4
        }
      ]
    },
    {
      "cell_type": "code",
      "metadata": {
        "id": "UStVLS0nbGO9",
        "colab_type": "code",
        "colab": {}
      },
      "source": [
        "# necessary dependencies for text pre-processing\n",
        "\n",
        "nlp = spacy.load('en_core_web_sm', parse=True, tag=True, entity=True)\n",
        "#nlp_vec = spacy.load('en_vecs', parse = True, tag=True, #entity=True)\n",
        "tokenizer = ToktokTokenizer()\n",
        "stopword_list = nltk.corpus.stopwords.words('english')\n",
        "stopword_list.remove('no')\n",
        "stopword_list.remove('not')"
      ],
      "execution_count": 0,
      "outputs": []
    },
    {
      "cell_type": "code",
      "metadata": {
        "id": "fg16C-vsbIAv",
        "colab_type": "code",
        "colab": {}
      },
      "source": [
        "# Set directories\n",
        "# Google Colab\n",
        "src = \"/content/drive/My Drive/DS-Capstone_1/Code/\"\n",
        "dst = \"/content/drive/My Drive/DS-Capstone_1/Data/\"\n",
        "\n",
        "# Local computer\n",
        "# src = \"C:\\\\Users\\\\ellen\\\\Documents\\\\GitHub\\\\Data_Science_Career_Track\\\\Capstone_1\\\\Code\\\\\"\n",
        "# dst = \"C:\\\\Users\\\\ellen\\\\Documents\\\\GitHub\\\\Data_Science_Career_Track\\\\Capstone_1\\\\Data\\\\\"\n",
        "\n",
        "# Work computer\n",
        "# src = \"C:\\\\Users\\\\esavoye\\\\Documents\\\\GitHub\\\\Data_Science_Career_Track\\\\Capstone_1\\\\Code\\\\\"\n",
        "# dst = \"C:\\\\Users\\\\esavoye\\\\Documents\\\\GitHub\\\\Data_Science_Career_Track\\\\Capstone_1\\\\Data\\\\\"\n",
        "\n",
        "# Computer path\n",
        "# unpickled_df = pd.read_pickle(dst + '/full_data_w_features.pkl')\n",
        "# unpickled_df_slimmed = pd.read_pickle(dst + '/slimmed_data_w_features.pkl')\n",
        "\n",
        "# Colab path\n",
        "unpickled_df = pd.read_pickle(dst + 'full_data_w_features.pkl')\n",
        "unpickled_df_slimmed = pd.read_pickle(dst + 'slimmed_data_w_features.pkl')\n"
      ],
      "execution_count": 0,
      "outputs": []
    },
    {
      "cell_type": "code",
      "metadata": {
        "id": "ip8En3esrI7U",
        "colab_type": "code",
        "outputId": "39bb2150-4403-4bfa-96d9-b14888047436",
        "colab": {
          "base_uri": "https://localhost:8080/",
          "height": 991
        }
      },
      "source": [
        "unpickled_df.info()"
      ],
      "execution_count": 8,
      "outputs": [
        {
          "output_type": "stream",
          "text": [
            "<class 'pandas.core.frame.DataFrame'>\n",
            "RangeIndex: 1804874 entries, 0 to 1804873\n",
            "Data columns (total 51 columns):\n",
            " #   Column                               Dtype  \n",
            "---  ------                               -----  \n",
            " 0   id                                   int64  \n",
            " 1   target                               float64\n",
            " 2   comment_text                         object \n",
            " 3   severe_toxicity                      float64\n",
            " 4   obscene                              float64\n",
            " 5   identity_attack                      float64\n",
            " 6   insult                               float64\n",
            " 7   threat                               float64\n",
            " 8   asian                                float64\n",
            " 9   atheist                              float64\n",
            " 10  bisexual                             float64\n",
            " 11  black                                float64\n",
            " 12  buddhist                             float64\n",
            " 13  christian                            float64\n",
            " 14  female                               float64\n",
            " 15  heterosexual                         float64\n",
            " 16  hindu                                float64\n",
            " 17  homosexual_gay_or_lesbian            float64\n",
            " 18  intellectual_or_learning_disability  float64\n",
            " 19  jewish                               float64\n",
            " 20  latino                               float64\n",
            " 21  male                                 float64\n",
            " 22  muslim                               float64\n",
            " 23  other_disability                     float64\n",
            " 24  other_gender                         float64\n",
            " 25  other_race_or_ethnicity              float64\n",
            " 26  other_religion                       float64\n",
            " 27  other_sexual_orientation             float64\n",
            " 28  physical_disability                  float64\n",
            " 29  psychiatric_or_mental_illness        float64\n",
            " 30  transgender                          float64\n",
            " 31  white                                float64\n",
            " 32  created_date                         object \n",
            " 33  publication_id                       int64  \n",
            " 34  parent_id                            float64\n",
            " 35  article_id                           int64  \n",
            " 36  rating                               object \n",
            " 37  funny                                int64  \n",
            " 38  wow                                  int64  \n",
            " 39  sad                                  int64  \n",
            " 40  likes                                int64  \n",
            " 41  disagree                             int64  \n",
            " 42  sexual_explicit                      float64\n",
            " 43  identity_annotator_count             int64  \n",
            " 44  toxicity_annotator_count             int64  \n",
            " 45  clean_text                           object \n",
            " 46  word_count                           int64  \n",
            " 47  word_split                           object \n",
            " 48  comment_len                          int64  \n",
            " 49  target_binary                        int64  \n",
            " 50  Toxicity_Bins                        object \n",
            "dtypes: float64(32), int64(13), object(6)\n",
            "memory usage: 702.3+ MB\n"
          ],
          "name": "stdout"
        }
      ]
    },
    {
      "cell_type": "markdown",
      "metadata": {
        "id": "lSEObFsHcT2r",
        "colab_type": "text"
      },
      "source": [
        "# Statistical Analysis"
      ]
    },
    {
      "cell_type": "markdown",
      "metadata": {
        "id": "JdmY4ccm5Wly",
        "colab_type": "text"
      },
      "source": [
        "## Testing Null Hypothesis\n"
      ]
    },
    {
      "cell_type": "markdown",
      "metadata": {
        "id": "9TDN_0ywb5y-",
        "colab_type": "text"
      },
      "source": [
        "Given that the libraries and data files are loaded, I'm now going to see if the average length of comments associated with toxic/non-toxic comments have a statistically significant difference. \n",
        "\n",
        "My null hypothesis is the average length of toxic comments and average length of non-toxic comments are the same.\n",
        "\n",
        "My alternative hypothesis is that there is a variation between the averages of toxic and non-toxic comments.\n",
        "\n",
        "I'll be using a 5% significance level (𝛼=0.05) and a bootstrapped hypothesis to calculate the p-value of the observed difference between toxic and non-toxic comment lenghts. "
      ]
    },
    {
      "cell_type": "code",
      "metadata": {
        "id": "SAtNnrs6r-qG",
        "colab_type": "code",
        "colab": {}
      },
      "source": [
        "# testing with n=5,000\n",
        "N_rep = 5000\n",
        "\n",
        "# bootstrap replicate function\n",
        "def bs_replicate_1d(data, func):\n",
        "    '''Generate bootstrap replicate of 1D data'''\n",
        "    bs_sample = np.random.choice(data, len(data))\n",
        "    \n",
        "    return func(bs_sample)\n",
        "\n",
        "def draw_bs_reps(data, func, size=1):\n",
        "    \"\"\"Draw bootstrap replicates.\"\"\"\n",
        "\n",
        "    # Initialize array of replicates: bs_replicates\n",
        "    bs_replicates = np.empty(size)\n",
        "\n",
        "    # Generate replicates\n",
        "    for i in range(size):\n",
        "        bs_replicates[i] = bs_replicate_1d(data, func)\n",
        "\n",
        "    return bs_replicates\n"
      ],
      "execution_count": 0,
      "outputs": []
    },
    {
      "cell_type": "code",
      "metadata": {
        "id": "OXO7yRxtxra2",
        "colab_type": "code",
        "outputId": "f9ef48f1-fb51-495c-cc65-c38c261ea0bd",
        "colab": {
          "base_uri": "https://localhost:8080/",
          "height": 34
        }
      },
      "source": [
        "bs_replicates = [bs_replicate_1d(unpickled_df.comment_len, np.mean) for i in np.arange(N_rep)]\n",
        "\n",
        "conf_int = np.percentile(bs_replicates, [5,95])\n",
        "print(conf_int)"
      ],
      "execution_count": 10,
      "outputs": [
        {
          "output_type": "stream",
          "text": [
            "[284.88419735 285.53095629]\n"
          ],
          "name": "stdout"
        }
      ]
    },
    {
      "cell_type": "code",
      "metadata": {
        "id": "uZFX3orWq8SK",
        "colab_type": "code",
        "colab": {}
      },
      "source": [
        "# create data sets to test hypothesis\n",
        "\n",
        "toxic_com = unpickled_df[unpickled_df.target_binary == 1].comment_len\n",
        "non_toxic_com = unpickled_df[unpickled_df.target_binary == 0].comment_len"
      ],
      "execution_count": 0,
      "outputs": []
    },
    {
      "cell_type": "code",
      "metadata": {
        "id": "_ufOajOtwyK6",
        "colab_type": "code",
        "outputId": "c049204a-ae70-4a12-e3d5-3c5937e309ec",
        "colab": {
          "base_uri": "https://localhost:8080/",
          "height": 34
        }
      },
      "source": [
        "# difference of means\n",
        "\n",
        "diff_of_means = np.mean(non_toxic_com) - np.mean(toxic_com)\n",
        "print(diff_of_means)"
      ],
      "execution_count": 12,
      "outputs": [
        {
          "output_type": "stream",
          "text": [
            "20.71298975683942\n"
          ],
          "name": "stdout"
        }
      ]
    },
    {
      "cell_type": "code",
      "metadata": {
        "id": "y5m2do_fx3q1",
        "colab_type": "code",
        "outputId": "17376ebc-1ca3-48dd-e756-359433f8a026",
        "colab": {
          "base_uri": "https://localhost:8080/",
          "height": 34
        }
      },
      "source": [
        "# Two-sample bootstrap hypothesis test for difference of means\n",
        "\n",
        "# Compute mean of all comment lengths\n",
        "comment_len_mean = np.mean(unpickled_df.comment_len)\n",
        "\n",
        "# Generate shifted arrays\n",
        "toxic_com_shifted = toxic_com - np.mean(toxic_com) + comment_len_mean\n",
        "non_toxic_com_shifted = non_toxic_com - np.mean(non_toxic_com) + comment_len_mean\n",
        "\n",
        "# Compute 5,000 bootstrap replicates from shifted arrays\n",
        "bs_replicates_toxic_com = draw_bs_reps(toxic_com_shifted, np.mean, size=N_rep)\n",
        "bs_replicates_non_toxic_com = draw_bs_reps(non_toxic_com_shifted, np.mean, size=N_rep)\n",
        "\n",
        "# Get replicates of difference of means: bs_replicates\n",
        "bs_replicates = bs_replicates_non_toxic_com - bs_replicates_toxic_com\n",
        "\n",
        "# Compute and print p-value: p\n",
        "p = np.sum(bs_replicates >= diff_of_means) / len(bs_replicates)\n",
        "print('p-value =', p)"
      ],
      "execution_count": 13,
      "outputs": [
        {
          "output_type": "stream",
          "text": [
            "p-value = 0.0\n"
          ],
          "name": "stdout"
        }
      ]
    },
    {
      "cell_type": "markdown",
      "metadata": {
        "id": "BHWq85NdwxSx",
        "colab_type": "text"
      },
      "source": [
        "The p-value calculated is 0.0. Strictly speaking, this is statistically significant. However, one thing to keep in mind is the larger the data set, the easier it is to get a low p-value. In terms of practical significance and practical considerations, yes it is important. Knowing that the average length of comments is different between toxic and non-toxic comments has practical significance in that it lends a certain context. I was originally under the impression that toxic comments were going to be long-winded and longer in length. Between EDA and testing my null hypothesis, I was shown to be incorrect.  \n",
        "\n",
        "So in the end, I reject my null hypothesis. "
      ]
    },
    {
      "cell_type": "code",
      "metadata": {
        "colab_type": "code",
        "id": "rg2nxqfK0SWU",
        "colab": {}
      },
      "source": [
        "# create data sets to test hypothesis\n",
        "\n",
        "toxic_com = unpickled_df_slimmed[unpickled_df_slimmed.target_binary == 1].comment_len\n",
        "non_toxic_com = unpickled_df_slimmed[unpickled_df_slimmed.target_binary == 0].comment_len"
      ],
      "execution_count": 0,
      "outputs": []
    },
    {
      "cell_type": "code",
      "metadata": {
        "colab_type": "code",
        "outputId": "ca806b13-e42d-4858-87d8-c58bf38200dd",
        "id": "aqtzcPL40SWm",
        "colab": {
          "base_uri": "https://localhost:8080/",
          "height": 34
        }
      },
      "source": [
        "# difference of means\n",
        "\n",
        "diff_of_means = np.mean(non_toxic_com) - np.mean(toxic_com)\n",
        "print(diff_of_means)"
      ],
      "execution_count": 14,
      "outputs": [
        {
          "output_type": "stream",
          "text": [
            "20.71298975683942\n"
          ],
          "name": "stdout"
        }
      ]
    },
    {
      "cell_type": "code",
      "metadata": {
        "colab_type": "code",
        "outputId": "6c672c91-7106-404c-b488-0155986efe71",
        "id": "ZWbVyonx0SWr",
        "colab": {
          "base_uri": "https://localhost:8080/",
          "height": 34
        }
      },
      "source": [
        "# Two-sample bootstrap hypothesis test for difference of means\n",
        "\n",
        "# Compute mean of all comment lengths\n",
        "comment_len_mean = np.mean(unpickled_df.comment_len)\n",
        "\n",
        "# Generate shifted arrays\n",
        "toxic_com_shifted = toxic_com - np.mean(toxic_com) + comment_len_mean\n",
        "non_toxic_com_shifted = non_toxic_com - np.mean(non_toxic_com) + comment_len_mean\n",
        "\n",
        "# Compute 5,000 bootstrap replicates from shifted arrays\n",
        "bs_replicates_toxic_com = draw_bs_reps(toxic_com_shifted, np.mean, size=N_rep)\n",
        "bs_replicates_non_toxic_com = draw_bs_reps(non_toxic_com_shifted, np.mean, size=N_rep)\n",
        "\n",
        "# Get replicates of difference of means: bs_replicates\n",
        "bs_replicates = bs_replicates_non_toxic_com - bs_replicates_toxic_com\n",
        "\n",
        "# Compute and print p-value: p\n",
        "p = np.sum(bs_replicates >= diff_of_means) / len(bs_replicates)\n",
        "print('p-value =', p)"
      ],
      "execution_count": 15,
      "outputs": [
        {
          "output_type": "stream",
          "text": [
            "p-value = 0.0\n"
          ],
          "name": "stdout"
        }
      ]
    },
    {
      "cell_type": "markdown",
      "metadata": {
        "id": "V6wVl6Av4HUl",
        "colab_type": "text"
      },
      "source": [
        "I ran the same bootstrap test on the subset comprised of the identity labels and found the same result as above."
      ]
    },
    {
      "cell_type": "code",
      "metadata": {
        "id": "bMx4aUCV4id2",
        "colab_type": "code",
        "outputId": "c5df61be-366e-4b98-f088-f480cb74c70b",
        "colab": {
          "base_uri": "https://localhost:8080/",
          "height": 295
        }
      },
      "source": [
        "_ = plt.hist(bs_replicates, bins=50)\n",
        "_ = plt.axvline(x=diff_of_means, color='r')\n",
        "_ = plt.xlabel('Bootstrap Mean Differences')\n",
        "_ = plt.ylabel('Freq')\n",
        "_ = plt.title('Differences in Avg Toxic & Non-Toxic Comments')"
      ],
      "execution_count": 16,
      "outputs": [
        {
          "output_type": "display_data",
          "data": {
            "image/png": "[encoded data removed]",
            "text/plain": [
              "<Figure size 432x288 with 1 Axes>"
            ]
          },
          "metadata": {
            "tags": [],
            "needs_background": "light"
          }
        }
      ]
    },
    {
      "cell_type": "markdown",
      "metadata": {
        "id": "mfzcFfXU52JE",
        "colab_type": "text"
      },
      "source": [
        "## Correlation Between Features"
      ]
    },
    {
      "cell_type": "code",
      "metadata": {
        "id": "TaLqMRnRcPw3",
        "colab_type": "code",
        "colab": {}
      },
      "source": [
        "def pearsonr_pval(x,y):\n",
        "    return stats.pearsonr(x,y)[1]"
      ],
      "execution_count": 0,
      "outputs": []
    },
    {
      "cell_type": "code",
      "metadata": {
        "id": "B6nLo71jac0u",
        "colab_type": "code",
        "colab": {}
      },
      "source": [
        "subset_col = ['male', 'female', 'transgender', 'other_gender', 'heterosexual', 'homosexual_gay_or_lesbian', 'bisexual', 'other_sexual_orientation',\n",
        "  'christian', 'jewish', 'muslim', 'hindu', 'buddhist', 'atheist', 'other_religion', 'black', 'white', 'asian', 'latino', 'other_race_or_ethnicity',\n",
        "  'physical_disability', 'intellectual_or_learning_disability', 'psychiatric_or_mental_illness', 'other_disability', 'target_binary'] "
      ],
      "execution_count": 0,
      "outputs": []
    },
    {
      "cell_type": "code",
      "metadata": {
        "id": "_uGNJ7thajB-",
        "colab_type": "code",
        "colab": {}
      },
      "source": [
        "identity_subset_df = unpickled_df_slimmed[subset_col].copy()"
      ],
      "execution_count": 0,
      "outputs": []
    },
    {
      "cell_type": "code",
      "metadata": {
        "id": "nKcxWGgkcyhb",
        "colab_type": "code",
        "colab": {
          "base_uri": "https://localhost:8080/",
          "height": 673
        },
        "outputId": "47eb7f26-68d1-4f3a-c6cf-a8e16b89b491"
      },
      "source": [
        "# correlation coefficients\n",
        "plt.figure(figsize=(10,8))\n",
        "ax = plt.axes()\n",
        "ax.set_title('Correlation Coefficient')\n",
        "sns.heatmap(identity_subset_df.corr(),annot=False,  ax = ax)"
      ],
      "execution_count": 28,
      "outputs": [
        {
          "output_type": "execute_result",
          "data": {
            "text/plain": [
              "<matplotlib.axes._subplots.AxesSubplot at 0x7f01a13ce9b0>"
            ]
          },
          "metadata": {
            "tags": []
          },
          "execution_count": 28
        },
        {
          "output_type": "display_data",
          "data": {
            "image/png": "[encoded data removed]",
            "text/plain": [
              "<Figure size 720x576 with 2 Axes>"
            ]
          },
          "metadata": {
            "tags": [],
            "needs_background": "light"
          }
        }
      ]
    },
    {
      "cell_type": "code",
      "metadata": {
        "id": "iFCT0FubamVf",
        "colab_type": "code",
        "colab": {
          "base_uri": "https://localhost:8080/",
          "height": 673
        },
        "outputId": "bb7d4475-4b2b-4ace-ff62-7546e48cbae2"
      },
      "source": [
        "# p-values\n",
        "\n",
        "plt.figure(figsize=(10,8))\n",
        "ax = plt.axes()\n",
        "ax.set_title('PearsonR P-Value')\n",
        "sns.heatmap(identity_subset_df.corr(method=pearsonr_pval),annot=False,  ax = ax)"
      ],
      "execution_count": 29,
      "outputs": [
        {
          "output_type": "execute_result",
          "data": {
            "text/plain": [
              "<matplotlib.axes._subplots.AxesSubplot at 0x7f01a06a7400>"
            ]
          },
          "metadata": {
            "tags": []
          },
          "execution_count": 29
        },
        {
          "output_type": "display_data",
          "data": {
            "image/png": "[encoded data removed]",
            "text/plain": [
              "<Figure size 720x576 with 2 Axes>"
            ]
          },
          "metadata": {
            "tags": [],
            "needs_background": "light"
          }
        }
      ]
    },
    {
      "cell_type": "markdown",
      "metadata": {
        "id": "DXJTRU20dc3R",
        "colab_type": "text"
      },
      "source": [
        "## Help???"
      ]
    },
    {
      "cell_type": "markdown",
      "metadata": {
        "id": "32WXfVHa7HLR",
        "colab_type": "text"
      },
      "source": [
        "Prior to creating the correlation and p-values between features, I first need to assemble my design matrix using my slimmed data set."
      ]
    },
    {
      "cell_type": "code",
      "metadata": {
        "id": "qNSmd1RO6Fl3",
        "colab_type": "code",
        "outputId": "b366b7e2-8a8f-48f0-89ae-de95a84c5fc1",
        "colab": {
          "base_uri": "https://localhost:8080/",
          "height": 34
        }
      },
      "source": [
        "def make_xy(unpickled_df_slimmed, vectorizer=None):\n",
        "    if vectorizer is None:\n",
        "        print('The value of vectorizer is None ... using CountVectorizer')\n",
        "    \n",
        "    if vectorizer is None:\n",
        "        vectorizer = CountVectorizer()\n",
        "    X = vectorizer.fit_transform(unpickled_df_slimmed.clean_text)\n",
        "    # X = X.tocsc()  # some versions of sklearn return COO format\n",
        "    tfidf_transformer = TfidfTransformer()\n",
        "    X_tfidf = tfidf_transformer.fit_transform(X)\n",
        "    y = (unpickled_df_slimmed.target_binary == 1).values.astype(np.int)\n",
        "    return X, y, vectorizer \n",
        "#\n",
        "\n",
        "X, y, vectorizer = make_xy(unpickled_df_slimmed)"
      ],
      "execution_count": 17,
      "outputs": [
        {
          "output_type": "stream",
          "text": [
            "The value of vectorizer is None ... using CountVectorizer\n"
          ],
          "name": "stdout"
        }
      ]
    },
    {
      "cell_type": "code",
      "metadata": {
        "id": "893gaeFmXjh6",
        "colab_type": "code",
        "colab": {
          "base_uri": "https://localhost:8080/",
          "height": 34
        },
        "outputId": "03681704-9342-4417-e611-07b54e4dd6af"
      },
      "source": [
        "print('X is a ' + str(type(X)))"
      ],
      "execution_count": 77,
      "outputs": [
        {
          "output_type": "stream",
          "text": [
            "X is a <class 'scipy.sparse.csr.csr_matrix'>\n"
          ],
          "name": "stdout"
        }
      ]
    },
    {
      "cell_type": "code",
      "metadata": {
        "id": "4AAKu4kDYEki",
        "colab_type": "code",
        "colab": {}
      },
      "source": [
        "X.sparse.to_dense()"
      ],
      "execution_count": 0,
      "outputs": []
    },
    {
      "cell_type": "code",
      "metadata": {
        "id": "CADy5UbgHVBp",
        "colab_type": "code",
        "outputId": "4a88074c-3c27-40ea-b908-6e2f35944575",
        "colab": {
          "base_uri": "https://localhost:8080/",
          "height": 162
        }
      },
      "source": [
        "sns.heatmap(X.corr(),cmap='Blues',annot=False) "
      ],
      "execution_count": 1,
      "outputs": [
        {
          "output_type": "error",
          "ename": "NameError",
          "evalue": "ignored",
          "traceback": [
            "\u001b[0;31m---------------------------------------------------------------------------\u001b[0m",
            "\u001b[0;31mNameError\u001b[0m                                 Traceback (most recent call last)",
            "\u001b[0;32m<ipython-input-1-de8d9db481f8>\u001b[0m in \u001b[0;36m<module>\u001b[0;34m()\u001b[0m\n\u001b[0;32m----> 1\u001b[0;31m \u001b[0msns\u001b[0m\u001b[0;34m.\u001b[0m\u001b[0mheatmap\u001b[0m\u001b[0;34m(\u001b[0m\u001b[0mX\u001b[0m\u001b[0;34m.\u001b[0m\u001b[0mcorr\u001b[0m\u001b[0;34m(\u001b[0m\u001b[0;34m)\u001b[0m\u001b[0;34m,\u001b[0m\u001b[0mcmap\u001b[0m\u001b[0;34m=\u001b[0m\u001b[0;34m'Blues'\u001b[0m\u001b[0;34m,\u001b[0m\u001b[0mannot\u001b[0m\u001b[0;34m=\u001b[0m\u001b[0;32mFalse\u001b[0m\u001b[0;34m)\u001b[0m\u001b[0;34m\u001b[0m\u001b[0;34m\u001b[0m\u001b[0m\n\u001b[0m",
            "\u001b[0;31mNameError\u001b[0m: name 'sns' is not defined"
          ]
        }
      ]
    },
    {
      "cell_type": "markdown",
      "metadata": {
        "id": "q_pkUiorHUjY",
        "colab_type": "text"
      },
      "source": [
        "# Output"
      ]
    },
    {
      "cell_type": "markdown",
      "metadata": {
        "id": "vqddMg3zd0xw",
        "colab_type": "text"
      },
      "source": [
        "No new features or transformations were done on the original data or slimmed data so I will not be saving out any pickled data files."
      ]
    },
    {
      "cell_type": "code",
      "metadata": {
        "id": "sPc5Mdr0drQO",
        "colab_type": "code",
        "colab": {}
      },
      "source": [
        "# Create pickle file for use in the future \n",
        "\n",
        "# unpickled_df_slimmed.to_pickle(dst + '/slimmed_data_w_features.pkl')\n",
        "# unpickled_df.to_pickle(dst + '/full_data_w_features.pkl')"
      ],
      "execution_count": 0,
      "outputs": []
    }
  ]
}